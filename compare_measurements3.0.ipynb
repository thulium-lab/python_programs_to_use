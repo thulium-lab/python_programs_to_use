{
 "cells": [
  {
   "cell_type": "code",
   "execution_count": 7,
   "metadata": {
    "collapsed": true
   },
   "outputs": [],
   "source": [
    "'''Last modified 11.02.2016\n",
    "    Added mongoDB functionality - one can query any data he wants DESCRIBE HOW TO DO THIS\n",
    "    Pandas table can be used\n",
    "09.02.2016\n",
    "Nothing changed, database and pandas functionality should be added!!!\n",
    "''';"
   ]
  },
  {
   "cell_type": "code",
   "execution_count": 49,
   "metadata": {
    "collapsed": false
   },
   "outputs": [
    {
     "name": "stdout",
     "output_type": "stream",
     "text": [
      "Populating the interactive namespace from numpy and matplotlib\n"
     ]
    },
    {
     "name": "stderr",
     "output_type": "stream",
     "text": [
      "WARNING: pylab import has clobbered these variables: ['interactive']\n",
      "`%matplotlib` prevents importing * from pylab and numpy\n"
     ]
    }
   ],
   "source": [
    "%pylab inline"
   ]
  },
  {
   "cell_type": "code",
   "execution_count": 1,
   "metadata": {
    "collapsed": false
   },
   "outputs": [
    {
     "name": "stdout",
     "output_type": "stream",
     "text": [
      "Done importing, module image_processing now\n"
     ]
    },
    {
     "name": "stderr",
     "output_type": "stream",
     "text": [
      "/Users/artemgolovizin/anaconda/lib/python3.5/site-packages/IPython/html.py:14: ShimWarning: The `IPython.html` package has been deprecated. You should import from `notebook` instead. `IPython.html.widgets` has moved to `ipywidgets`.\n",
      "  \"`IPython.html.widgets` has moved to `ipywidgets`.\", ShimWarning)\n"
     ]
    }
   ],
   "source": [
    "# imports\n",
    "\n",
    "import sys\n",
    "import os\n",
    "par_dir = os.path.split(os.getcwd())[0]\n",
    "if par_dir not in sys.path:\n",
    "    sys.path.append(par_dir)\n",
    "# sys.path.append(r'/Users/artemgolovizin/GitHub')\n",
    "from scipy.optimize import curve_fit\n",
    "import inspect\n",
    "import pickle\n",
    "import imp\n",
    "import re\n",
    "import json\n",
    "import pandas as pd\n",
    "\n",
    "from IPython.html import widgets\n",
    "from IPython.display import display\n",
    "from IPython.html.widgets import interact, interactive, fixed\n",
    "\n",
    "import thulium_python_lib.usefull_functions as usfuncs\n",
    "import thulium_python_lib.image_processing_new as impr\n",
    "\n",
    "import ipyparallel as ipp\n",
    "ipp.CompositeError.tb_limit = 1\n",
    "\n",
    "rc1 = ipp.Client()\n",
    "lview = rc1.load_balanced_view()\n",
    "dview = rc1.direct_view()\n",
    "dview['par_dir'] = par_dir\n",
    "# with dview.sync_imports():\n",
    "#     import sys, os    \n",
    "%px import sys, os\n",
    "%px if par_dir not in sys.path: sys.path.append(par_dir)\n",
    "%px import thulium_python_lib.image_processing_new as impr\n",
    "%px import imp\n",
    "%px from ipyparallel import bind_kernel; bind_kernel()\n",
    "\n",
    "import datetime\n",
    "import pymongo\n",
    "from pymongo import MongoClient\n",
    "from bson.objectid import ObjectId\n",
    "\n",
    "# start mongoDB client (mongod server should be launched)\n",
    "client = MongoClient('mongodb://192.168.1.15:27017/')\n",
    "meas_database = client.measData.meas_data"
   ]
  },
  {
   "cell_type": "code",
   "execution_count": 10,
   "metadata": {
    "collapsed": false
   },
   "outputs": [],
   "source": [
    "# to reload library on remote and local engine\n",
    "# %px imp.reload(impr)\n",
    "# imp.reload(impr)\n",
    "# imp.reload(usfuncs)"
   ]
  },
  {
   "cell_type": "raw",
   "metadata": {
    "collapsed": false
   },
   "source": [
    "# OLD part for getting data from mongoDB\n",
    "coursor = meas_database.find({'date_meas':{'$gte':datetime.datetime(2016,6,7),\n",
    "                                          '$lte':datetime.datetime(2016,6,10)},\n",
    "                               'meas_type':'CL'})\n",
    "tables = []\n",
    "for item in coursor:\n",
    "    for key in item:\n",
    "        if(key == 'avr_table_pickle'):\n",
    "            tables.append(pickle.loads(item[key]))\n",
    "#             print(key,item[key][-20:])\n",
    "        else:\n",
    "            print(key,item[key])\n",
    "    print('\\n')"
   ]
  },
  {
   "cell_type": "code",
   "execution_count": 19,
   "metadata": {
    "collapsed": false,
    "scrolled": false
   },
   "outputs": [
    {
     "name": "stdout",
     "output_type": "stream",
     "text": [
      "0 date= 2016-06-07 folder= 01 cl l=806.53176/\n",
      "\n",
      "\n",
      "1 date= 2016-06-07 folder= 02 as 01/\n",
      "\n",
      "\n",
      "2 date= 2016-06-07 folder= 03 as 01/\n",
      "\n",
      "\n",
      "3 date= 2016-06-07 folder= 04 as 01 random/\n",
      "\n",
      "\n",
      "4 date= 2016-06-07 folder= 05 as 03 l=806.59704/\n",
      "\n",
      "\n",
      "5 date= 2016-06-07 folder= 06 as 03 l=806.70446/\n",
      "\n",
      "\n",
      "6 date= 2016-06-07 folder= 07 as 06 a=7/\n",
      "\n",
      "\n",
      "7 date= 2016-06-07 folder= 08 as 03 l=806.78747/\n",
      "\n",
      "\n",
      "8 date= 2016-06-07 folder= 09 as 08 a = 5/\n",
      "\n",
      "\n",
      "9 date= 2016-06-07 folder= 10 as 08 a=5/\n",
      "\n",
      "\n",
      "10 date= 2016-06-07 folder= 11 as 03 l=806.794/\n",
      "\n",
      "\n",
      "11 date= 2016-06-07 folder= 12 as 03 l=806.82498/\n",
      "\n",
      "\n",
      "12 date= 2016-06-07 folder= 13 as 12/\n",
      "\n",
      "\n",
      "13 date= 2016-06-07 folder= 14 as 03 l=806.85597/\n",
      "\n",
      "\n",
      "14 date= 2016-06-07 folder= 15 as 03 l=806.86573/\n",
      "\n",
      "\n",
      "15 date= 2016-06-07 folder= 16 as 03 l=806.89995 a=8/\n",
      "\n",
      "\n",
      "16 date= 2016-06-07 folder= 17 as 03 l=806.81256/\n",
      "\n",
      "\n",
      "17 date= 2016-06-07 folder= 18 as 17/\n",
      "\n",
      "\n",
      "18 date= 2016-06-07 folder= 19 as 17/\n",
      "\n",
      "\n",
      "19 date= 2016-06-07 folder= 20 as 03 l=806.74898/\n",
      "\n",
      "\n",
      "20 date= 2016-06-07 folder= 21 as 03 l=807.520/\n",
      "\n",
      "\n",
      "21 date= 2016-06-07 folder= 22 as 21/\n",
      "\n",
      "\n",
      "22 date= 2016-06-07 folder= 23 as 21/\n",
      "\n",
      "\n",
      "23 date= 2016-06-09 folder= 01 CL l=809.48657 a=9/\n",
      "\n",
      "\n",
      "24 date= 2016-06-09 folder= 02 as 01/\n",
      "\n",
      "\n",
      "25 date= 2016-06-09 folder= 03 as 01 l=809.49811/\n",
      "\n",
      "\n",
      "26 date= 2016-06-09 folder= 04 as 01 l=809.50727/\n",
      "\n",
      "\n",
      "27 date= 2016-06-09 folder= 05 as 01 l=809.52023/\n",
      "\n",
      "\n",
      "28 date= 2016-06-09 folder= 06 as 05/\n",
      "\n",
      "\n",
      "29 date= 2016-06-09 folder= 08 as 01 l=809.52532/\n",
      "\n",
      "\n",
      "30 date= 2016-06-09 folder= 09 as 01 l=809.54030/\n",
      "\n",
      "\n",
      "31 date= 2016-06-09 folder= 10 as 01 l=809.60256/\n",
      "\n",
      "\n",
      "32 date= 2016-06-09 folder= 11 as 01 l=809.70598/\n",
      "\n",
      "\n"
     ]
    }
   ],
   "source": [
    "# get data from mongo db and print folders names and dates\n",
    "coursor = meas_database.find()\n",
    "coursor = meas_database.find({'date_meas':{'$gte':datetime.datetime(2016,6,7),\n",
    "                                          '$lte':datetime.datetime(2016,6,10)},\n",
    "                               'meas_type':'CL'}) #, 'conf_params.A': { '$in': ['0dBm','0dBm/'] }\n",
    "# { '$in': ['363.5','363.5/'] }\n",
    "# , 'conf_params.F':{ '$in': ['363.5','363.5/'] }\n",
    "# , 'meas_type':'T'\n",
    "data = []\n",
    "for item in coursor:\n",
    "    data.append(item.copy())\n",
    "    data[-1]['avr_table']=pickle.loads(item['avr_table_pickle'])\n",
    "    del data[-1]['avr_table_pickle']\n",
    "    print(len(data)-1, 'date=',data[-1]['date_meas'].date(), 'folder=',data[-1]['folder'])\n",
    "#     print(data[-1]['conf_params'])\n",
    "#     print(data[-1]['_id'])\n",
    "#     for key in item:\n",
    "#         if(key == 'avr_table_pickle'):\n",
    "#             tables.append(pickle.loads(item[key]))\n",
    "#             print(key,item[key][-20:])\n",
    "#         else:\n",
    "#             print(key,item[key])\n",
    "    print('\\n')"
   ]
  },
  {
   "cell_type": "code",
   "execution_count": 29,
   "metadata": {
    "collapsed": true
   },
   "outputs": [],
   "source": [
    "s = '806.53176/'"
   ]
  },
  {
   "cell_type": "code",
   "execution_count": 33,
   "metadata": {
    "collapsed": false
   },
   "outputs": [
    {
     "data": {
      "text/plain": [
       "'806.53176'"
      ]
     },
     "execution_count": 33,
     "metadata": {},
     "output_type": "execute_result"
    }
   ],
   "source": [
    "re.findall(r'[-+]?\\d*\\.\\d*',s)[0]"
   ]
  },
  {
   "cell_type": "code",
   "execution_count": 35,
   "metadata": {
    "collapsed": false
   },
   "outputs": [],
   "source": [
    "for d in data:\n",
    "    l = float(re.findall(r'[-+]?\\d*\\.\\d*',d['conf_params']['L'])[0])\n",
    "    d['lambda'] = l"
   ]
  },
  {
   "cell_type": "code",
   "execution_count": 45,
   "metadata": {
    "collapsed": false
   },
   "outputs": [],
   "source": [
    "points = []\n",
    "for d in data:\n",
    "    if len(d['fits']) != 0 :\n",
    "        points.append((d['lambda'], d['fits'][0][1][1], d['fits'][0][2][1]))"
   ]
  },
  {
   "cell_type": "code",
   "execution_count": 51,
   "metadata": {
    "collapsed": false
   },
   "outputs": [],
   "source": [
    "res = array(points)"
   ]
  },
  {
   "cell_type": "code",
   "execution_count": 57,
   "metadata": {
    "collapsed": false
   },
   "outputs": [
    {
     "data": {
      "text/plain": [
       "(416, 417.0)"
      ]
     },
     "execution_count": 57,
     "metadata": {},
     "output_type": "execute_result"
    },
    {
     "name": "stderr",
     "output_type": "stream",
     "text": [
      "/Users/artemgolovizin/anaconda/lib/python3.5/site-packages/matplotlib/collections.py:590: FutureWarning: elementwise comparison failed; returning scalar instead, but in the future will perform elementwise comparison\n",
      "  if self._edgecolors == str('face'):\n"
     ]
    },
    {
     "data": {
      "image/png": "[encoded data removed]",
      "text/plain": [
       "<matplotlib.figure.Figure at 0x10f8cf518>"
      ]
     },
     "metadata": {},
     "output_type": "display_data"
    }
   ],
   "source": [
    "plt.errorbar(res[:,0],res[:,1],res[:,2],fmt='o')\n",
    "xlim((806.5,808))\n",
    "ylim(bottom=416)"
   ]
  },
  {
   "cell_type": "code",
   "execution_count": 69,
   "metadata": {
    "collapsed": false
   },
   "outputs": [
    {
     "data": {
      "text/plain": [
       "(416.4, 417)"
      ]
     },
     "execution_count": 69,
     "metadata": {},
     "output_type": "execute_result"
    },
    {
     "data": {
      "image/png": "[encoded data removed]",
      "text/plain": [
       "<matplotlib.figure.Figure at 0x10f0922e8>"
      ]
     },
     "metadata": {},
     "output_type": "display_data"
    }
   ],
   "source": [
    "for d in data:\n",
    "    if d['lambda'] < 808:\n",
    "        plot(d['avr_table'].folder,d['avr_table'].fit1D_x.N)\n",
    "xlim((416.4,417))\n",
    "# ylim(top=380)"
   ]
  },
  {
   "cell_type": "code",
   "execution_count": 61,
   "metadata": {
    "collapsed": false
   },
   "outputs": [
    {
     "data": {
      "text/plain": [
       "0     364.160286\n",
       "1     364.311096\n",
       "2     363.821741\n",
       "3     363.145913\n",
       "4     363.209549\n",
       "5     363.823479\n",
       "6     362.458138\n",
       "7     363.675801\n",
       "8     365.561682\n",
       "9     365.335640\n",
       "10    363.492621\n",
       "11    363.977917\n",
       "12    363.966137\n",
       "13    364.233150\n",
       "14    361.401487\n",
       "15    364.673369\n",
       "16    362.607911\n",
       "17    362.700217\n",
       "18    364.177515\n",
       "Name: x0, dtype: float64"
      ]
     },
     "execution_count": 61,
     "metadata": {},
     "output_type": "execute_result"
    }
   ],
   "source": [
    "data[0]['avr_table'].fit1D_x.x0"
   ]
  },
  {
   "cell_type": "code",
   "execution_count": 41,
   "metadata": {
    "collapsed": false
   },
   "outputs": [
    {
     "data": {
      "text/plain": [
       "416.62731882637195"
      ]
     },
     "execution_count": 41,
     "metadata": {},
     "output_type": "execute_result"
    }
   ],
   "source": [
    "data[0]['fits'][0][1][1]"
   ]
  },
  {
   "cell_type": "code",
   "execution_count": 117,
   "metadata": {
    "collapsed": false
   },
   "outputs": [
    {
     "data": {
      "text/plain": [
       "<pymongo.results.DeleteResult at 0xa26da20>"
      ]
     },
     "execution_count": 117,
     "metadata": {},
     "output_type": "execute_result"
    }
   ],
   "source": [
    "#meas_database.delete_one({'_id': ObjectId('572cad97f9b7ab269c4d7318')})\n",
    "#meas_database.delete_one({'_id': data[0]['_id']})"
   ]
  },
  {
   "cell_type": "code",
   "execution_count": 105,
   "metadata": {
    "collapsed": false,
    "scrolled": false
   },
   "outputs": [],
   "source": [
    "#data[0]['_id']\n",
    "#int(data[12]['folder'].split()[0])"
   ]
  },
  {
   "cell_type": "code",
   "execution_count": 119,
   "metadata": {
    "collapsed": false
   },
   "outputs": [],
   "source": []
  },
  {
   "cell_type": "code",
   "execution_count": 80,
   "metadata": {
    "collapsed": false
   },
   "outputs": [
    {
     "name": "stdout",
     "output_type": "stream",
     "text": [
      "[10.0, 5.0, 2.0, 0.0, -2.0, -4.0, -6.0, 9.0, 8.0, 7.0, 6.0, 5.0, 4.0, 3.0, 2.0, 2.0, 1.0, 0.0, -1.0, -2.0, -3.0, -4.0, -5.0, -6.0, -7.0, -8.0]\n"
     ]
    },
    {
     "data": {
      "text/plain": [
       "[<matplotlib.lines.Line2D at 0xa8d7a58>]"
      ]
     },
     "execution_count": 80,
     "metadata": {},
     "output_type": "execute_result"
    },
    {
     "data": {
      "image/png": "[encoded data removed]",
      "text/plain": [
       "<matplotlib.figure.Figure at 0xa8d7a20>"
      ]
     },
     "metadata": {},
     "output_type": "display_data"
    }
   ],
   "source": [
    "xx1 = []\n",
    "Ty1 = []\n",
    "Tx1 = []\n",
    "Na1 = []\n",
    "for d in data[37:63]:\n",
    "    xx1.append(float(re.findall(r\"[-+]?\\d*\\.?\\d+\",d['conf_params']['A'])[-1]))\n",
    "    Tx1.append(d['fits'][0][1][0])\n",
    "    Ty1.append(d['fits'][1][1][0])\n",
    "    Na1.append(d['avr_table']['fit1D_x']['N'][0])\n",
    "\n",
    "#xx =  array(xx)\n",
    "#xx = 2*(364.7 - xx)\n",
    "print(xx1)\n",
    "#xx = [8.5,13,13,19,29,44,67,103,160,250,370,530,750,960,1180,1370,1570,1680,1710]\n",
    "xx1 = [1710,960,370,160,67,29,13,1680,1570,1370,1180,960,750,530,370,370,250,160,103,67,44,29,19,13,8.5,6]\n",
    "xx1=4*array(xx1)\n",
    "figsize(10,5)\n",
    "plot(xx1,Tx1,'bo')\n",
    "plot(xx1,Ty1,'ro')"
   ]
  },
  {
   "cell_type": "code",
   "execution_count": 71,
   "metadata": {
    "collapsed": false
   },
   "outputs": [
    {
     "name": "stdout",
     "output_type": "stream",
     "text": [
      "[10.0, 10.0, 10.0, 10.0, -5.0, -5.0, -5.0, -5.0, -5.0, -5.0, -5.0, -5.0, -5.0, -5.0, -5.0, -5.0, -5.0, -5.0, -5.0, 10.0, -5.0, -5.0, -5.0, -5.0, -5.0, -5.0, -5.0, -5.0, -5.0, -5.0, -5.0, -5.0, -5.0, -5.0, -5.0, -5.0, -5.0, -5.0, 0.0, 0.0, 0.0, 0.0, 0.0, 0.0, 0.0, 0.0, 0.0, 0.0, 0.0, 0.0, -5.0, -5.0, -5.0, -5.0, -5.0, -5.0, -5.0, 10.0, 10.0, 10.0, 10.0, 10.0, 10.0, 10.0, 5.0, 2.0, 0.0, -2.0, -4.0, -6.0, 9.0, 8.0, 7.0, 6.0, 5.0, 4.0, 3.0, 2.0, 2.0, 1.0, 0.0, -1.0, -2.0, -3.0, -4.0, -5.0, -6.0, -7.0, -8.0, -5.0]\n"
     ]
    },
    {
     "ename": "ValueError",
     "evalue": "x and y must have same first dimension",
     "output_type": "error",
     "traceback": [
      "\u001b[1;31m---------------------------------------------------------------------------\u001b[0m",
      "\u001b[1;31mValueError\u001b[0m                                Traceback (most recent call last)",
      "\u001b[1;32m<ipython-input-71-3292661fec5e>\u001b[0m in \u001b[0;36m<module>\u001b[1;34m()\u001b[0m\n\u001b[0;32m     14\u001b[0m \u001b[0mxx\u001b[0m \u001b[1;33m=\u001b[0m \u001b[1;33m[\u001b[0m\u001b[1;36m8.5\u001b[0m\u001b[1;33m,\u001b[0m\u001b[1;36m13\u001b[0m\u001b[1;33m,\u001b[0m\u001b[1;36m13\u001b[0m\u001b[1;33m,\u001b[0m\u001b[1;36m19\u001b[0m\u001b[1;33m,\u001b[0m\u001b[1;36m29\u001b[0m\u001b[1;33m,\u001b[0m\u001b[1;36m44\u001b[0m\u001b[1;33m,\u001b[0m\u001b[1;36m67\u001b[0m\u001b[1;33m,\u001b[0m\u001b[1;36m103\u001b[0m\u001b[1;33m,\u001b[0m\u001b[1;36m160\u001b[0m\u001b[1;33m,\u001b[0m\u001b[1;36m250\u001b[0m\u001b[1;33m,\u001b[0m\u001b[1;36m370\u001b[0m\u001b[1;33m,\u001b[0m\u001b[1;36m530\u001b[0m\u001b[1;33m,\u001b[0m\u001b[1;36m750\u001b[0m\u001b[1;33m,\u001b[0m\u001b[1;36m960\u001b[0m\u001b[1;33m,\u001b[0m\u001b[1;36m1180\u001b[0m\u001b[1;33m,\u001b[0m\u001b[1;36m1370\u001b[0m\u001b[1;33m,\u001b[0m\u001b[1;36m1570\u001b[0m\u001b[1;33m,\u001b[0m\u001b[1;36m1680\u001b[0m\u001b[1;33m,\u001b[0m\u001b[1;36m1710\u001b[0m\u001b[1;33m]\u001b[0m\u001b[1;33m\u001b[0m\u001b[0m\n\u001b[0;32m     15\u001b[0m \u001b[0mfigsize\u001b[0m\u001b[1;33m(\u001b[0m\u001b[1;36m10\u001b[0m\u001b[1;33m,\u001b[0m\u001b[1;36m5\u001b[0m\u001b[1;33m)\u001b[0m\u001b[1;33m\u001b[0m\u001b[0m\n\u001b[1;32m---> 16\u001b[1;33m \u001b[0mplot\u001b[0m\u001b[1;33m(\u001b[0m\u001b[0mxx\u001b[0m\u001b[1;33m,\u001b[0m\u001b[0mTx\u001b[0m\u001b[1;33m,\u001b[0m\u001b[1;34m'bo'\u001b[0m\u001b[1;33m)\u001b[0m\u001b[1;33m\u001b[0m\u001b[0m\n\u001b[0m\u001b[0;32m     17\u001b[0m \u001b[0mplot\u001b[0m\u001b[1;33m(\u001b[0m\u001b[0mxx\u001b[0m\u001b[1;33m,\u001b[0m\u001b[0mTy\u001b[0m\u001b[1;33m,\u001b[0m\u001b[1;34m'ro'\u001b[0m\u001b[1;33m)\u001b[0m\u001b[1;33m\u001b[0m\u001b[0m\n\u001b[0;32m     18\u001b[0m \u001b[0mplot\u001b[0m\u001b[1;33m(\u001b[0m\u001b[0mxx1\u001b[0m\u001b[1;33m,\u001b[0m\u001b[0mTx1\u001b[0m\u001b[1;33m,\u001b[0m\u001b[1;34m'b^'\u001b[0m\u001b[1;33m)\u001b[0m\u001b[1;33m\u001b[0m\u001b[0m\n",
      "\u001b[1;32mC:\\Program Files\\Anaconda\\lib\\site-packages\\matplotlib\\pyplot.py\u001b[0m in \u001b[0;36mplot\u001b[1;34m(*args, **kwargs)\u001b[0m\n\u001b[0;32m   3152\u001b[0m         \u001b[0max\u001b[0m\u001b[1;33m.\u001b[0m\u001b[0mhold\u001b[0m\u001b[1;33m(\u001b[0m\u001b[0mhold\u001b[0m\u001b[1;33m)\u001b[0m\u001b[1;33m\u001b[0m\u001b[0m\n\u001b[0;32m   3153\u001b[0m     \u001b[1;32mtry\u001b[0m\u001b[1;33m:\u001b[0m\u001b[1;33m\u001b[0m\u001b[0m\n\u001b[1;32m-> 3154\u001b[1;33m         \u001b[0mret\u001b[0m \u001b[1;33m=\u001b[0m \u001b[0max\u001b[0m\u001b[1;33m.\u001b[0m\u001b[0mplot\u001b[0m\u001b[1;33m(\u001b[0m\u001b[1;33m*\u001b[0m\u001b[0margs\u001b[0m\u001b[1;33m,\u001b[0m \u001b[1;33m**\u001b[0m\u001b[0mkwargs\u001b[0m\u001b[1;33m)\u001b[0m\u001b[1;33m\u001b[0m\u001b[0m\n\u001b[0m\u001b[0;32m   3155\u001b[0m     \u001b[1;32mfinally\u001b[0m\u001b[1;33m:\u001b[0m\u001b[1;33m\u001b[0m\u001b[0m\n\u001b[0;32m   3156\u001b[0m         \u001b[0max\u001b[0m\u001b[1;33m.\u001b[0m\u001b[0mhold\u001b[0m\u001b[1;33m(\u001b[0m\u001b[0mwashold\u001b[0m\u001b[1;33m)\u001b[0m\u001b[1;33m\u001b[0m\u001b[0m\n",
      "\u001b[1;32mC:\\Program Files\\Anaconda\\lib\\site-packages\\matplotlib\\__init__.py\u001b[0m in \u001b[0;36minner\u001b[1;34m(ax, *args, **kwargs)\u001b[0m\n\u001b[0;32m   1809\u001b[0m                     warnings.warn(msg % (label_namer, func.__name__),\n\u001b[0;32m   1810\u001b[0m                                   RuntimeWarning, stacklevel=2)\n\u001b[1;32m-> 1811\u001b[1;33m             \u001b[1;32mreturn\u001b[0m \u001b[0mfunc\u001b[0m\u001b[1;33m(\u001b[0m\u001b[0max\u001b[0m\u001b[1;33m,\u001b[0m \u001b[1;33m*\u001b[0m\u001b[0margs\u001b[0m\u001b[1;33m,\u001b[0m \u001b[1;33m**\u001b[0m\u001b[0mkwargs\u001b[0m\u001b[1;33m)\u001b[0m\u001b[1;33m\u001b[0m\u001b[0m\n\u001b[0m\u001b[0;32m   1812\u001b[0m         \u001b[0mpre_doc\u001b[0m \u001b[1;33m=\u001b[0m \u001b[0minner\u001b[0m\u001b[1;33m.\u001b[0m\u001b[0m__doc__\u001b[0m\u001b[1;33m\u001b[0m\u001b[0m\n\u001b[0;32m   1813\u001b[0m         \u001b[1;32mif\u001b[0m \u001b[0mpre_doc\u001b[0m \u001b[1;32mis\u001b[0m \u001b[1;32mNone\u001b[0m\u001b[1;33m:\u001b[0m\u001b[1;33m\u001b[0m\u001b[0m\n",
      "\u001b[1;32mC:\\Program Files\\Anaconda\\lib\\site-packages\\matplotlib\\axes\\_axes.py\u001b[0m in \u001b[0;36mplot\u001b[1;34m(self, *args, **kwargs)\u001b[0m\n\u001b[0;32m   1422\u001b[0m             \u001b[0mkwargs\u001b[0m\u001b[1;33m[\u001b[0m\u001b[1;34m'color'\u001b[0m\u001b[1;33m]\u001b[0m \u001b[1;33m=\u001b[0m \u001b[0mc\u001b[0m\u001b[1;33m\u001b[0m\u001b[0m\n\u001b[0;32m   1423\u001b[0m \u001b[1;33m\u001b[0m\u001b[0m\n\u001b[1;32m-> 1424\u001b[1;33m         \u001b[1;32mfor\u001b[0m \u001b[0mline\u001b[0m \u001b[1;32min\u001b[0m \u001b[0mself\u001b[0m\u001b[1;33m.\u001b[0m\u001b[0m_get_lines\u001b[0m\u001b[1;33m(\u001b[0m\u001b[1;33m*\u001b[0m\u001b[0margs\u001b[0m\u001b[1;33m,\u001b[0m \u001b[1;33m**\u001b[0m\u001b[0mkwargs\u001b[0m\u001b[1;33m)\u001b[0m\u001b[1;33m:\u001b[0m\u001b[1;33m\u001b[0m\u001b[0m\n\u001b[0m\u001b[0;32m   1425\u001b[0m             \u001b[0mself\u001b[0m\u001b[1;33m.\u001b[0m\u001b[0madd_line\u001b[0m\u001b[1;33m(\u001b[0m\u001b[0mline\u001b[0m\u001b[1;33m)\u001b[0m\u001b[1;33m\u001b[0m\u001b[0m\n\u001b[0;32m   1426\u001b[0m             \u001b[0mlines\u001b[0m\u001b[1;33m.\u001b[0m\u001b[0mappend\u001b[0m\u001b[1;33m(\u001b[0m\u001b[0mline\u001b[0m\u001b[1;33m)\u001b[0m\u001b[1;33m\u001b[0m\u001b[0m\n",
      "\u001b[1;32mC:\\Program Files\\Anaconda\\lib\\site-packages\\matplotlib\\axes\\_base.py\u001b[0m in \u001b[0;36m_grab_next_args\u001b[1;34m(self, *args, **kwargs)\u001b[0m\n\u001b[0;32m    384\u001b[0m                 \u001b[1;32mreturn\u001b[0m\u001b[1;33m\u001b[0m\u001b[0m\n\u001b[0;32m    385\u001b[0m             \u001b[1;32mif\u001b[0m \u001b[0mlen\u001b[0m\u001b[1;33m(\u001b[0m\u001b[0mremaining\u001b[0m\u001b[1;33m)\u001b[0m \u001b[1;33m<=\u001b[0m \u001b[1;36m3\u001b[0m\u001b[1;33m:\u001b[0m\u001b[1;33m\u001b[0m\u001b[0m\n\u001b[1;32m--> 386\u001b[1;33m                 \u001b[1;32mfor\u001b[0m \u001b[0mseg\u001b[0m \u001b[1;32min\u001b[0m \u001b[0mself\u001b[0m\u001b[1;33m.\u001b[0m\u001b[0m_plot_args\u001b[0m\u001b[1;33m(\u001b[0m\u001b[0mremaining\u001b[0m\u001b[1;33m,\u001b[0m \u001b[0mkwargs\u001b[0m\u001b[1;33m)\u001b[0m\u001b[1;33m:\u001b[0m\u001b[1;33m\u001b[0m\u001b[0m\n\u001b[0m\u001b[0;32m    387\u001b[0m                     \u001b[1;32myield\u001b[0m \u001b[0mseg\u001b[0m\u001b[1;33m\u001b[0m\u001b[0m\n\u001b[0;32m    388\u001b[0m                 \u001b[1;32mreturn\u001b[0m\u001b[1;33m\u001b[0m\u001b[0m\n",
      "\u001b[1;32mC:\\Program Files\\Anaconda\\lib\\site-packages\\matplotlib\\axes\\_base.py\u001b[0m in \u001b[0;36m_plot_args\u001b[1;34m(self, tup, kwargs)\u001b[0m\n\u001b[0;32m    362\u001b[0m             \u001b[0mx\u001b[0m\u001b[1;33m,\u001b[0m \u001b[0my\u001b[0m \u001b[1;33m=\u001b[0m \u001b[0mindex_of\u001b[0m\u001b[1;33m(\u001b[0m\u001b[0mtup\u001b[0m\u001b[1;33m[\u001b[0m\u001b[1;33m-\u001b[0m\u001b[1;36m1\u001b[0m\u001b[1;33m]\u001b[0m\u001b[1;33m)\u001b[0m\u001b[1;33m\u001b[0m\u001b[0m\n\u001b[0;32m    363\u001b[0m \u001b[1;33m\u001b[0m\u001b[0m\n\u001b[1;32m--> 364\u001b[1;33m         \u001b[0mx\u001b[0m\u001b[1;33m,\u001b[0m \u001b[0my\u001b[0m \u001b[1;33m=\u001b[0m \u001b[0mself\u001b[0m\u001b[1;33m.\u001b[0m\u001b[0m_xy_from_xy\u001b[0m\u001b[1;33m(\u001b[0m\u001b[0mx\u001b[0m\u001b[1;33m,\u001b[0m \u001b[0my\u001b[0m\u001b[1;33m)\u001b[0m\u001b[1;33m\u001b[0m\u001b[0m\n\u001b[0m\u001b[0;32m    365\u001b[0m \u001b[1;33m\u001b[0m\u001b[0m\n\u001b[0;32m    366\u001b[0m         \u001b[1;32mif\u001b[0m \u001b[0mself\u001b[0m\u001b[1;33m.\u001b[0m\u001b[0mcommand\u001b[0m \u001b[1;33m==\u001b[0m \u001b[1;34m'plot'\u001b[0m\u001b[1;33m:\u001b[0m\u001b[1;33m\u001b[0m\u001b[0m\n",
      "\u001b[1;32mC:\\Program Files\\Anaconda\\lib\\site-packages\\matplotlib\\axes\\_base.py\u001b[0m in \u001b[0;36m_xy_from_xy\u001b[1;34m(self, x, y)\u001b[0m\n\u001b[0;32m    221\u001b[0m         \u001b[0my\u001b[0m \u001b[1;33m=\u001b[0m \u001b[0m_check_1d\u001b[0m\u001b[1;33m(\u001b[0m\u001b[0my\u001b[0m\u001b[1;33m)\u001b[0m\u001b[1;33m\u001b[0m\u001b[0m\n\u001b[0;32m    222\u001b[0m         \u001b[1;32mif\u001b[0m \u001b[0mx\u001b[0m\u001b[1;33m.\u001b[0m\u001b[0mshape\u001b[0m\u001b[1;33m[\u001b[0m\u001b[1;36m0\u001b[0m\u001b[1;33m]\u001b[0m \u001b[1;33m!=\u001b[0m \u001b[0my\u001b[0m\u001b[1;33m.\u001b[0m\u001b[0mshape\u001b[0m\u001b[1;33m[\u001b[0m\u001b[1;36m0\u001b[0m\u001b[1;33m]\u001b[0m\u001b[1;33m:\u001b[0m\u001b[1;33m\u001b[0m\u001b[0m\n\u001b[1;32m--> 223\u001b[1;33m             \u001b[1;32mraise\u001b[0m \u001b[0mValueError\u001b[0m\u001b[1;33m(\u001b[0m\u001b[1;34m\"x and y must have same first dimension\"\u001b[0m\u001b[1;33m)\u001b[0m\u001b[1;33m\u001b[0m\u001b[0m\n\u001b[0m\u001b[0;32m    224\u001b[0m         \u001b[1;32mif\u001b[0m \u001b[0mx\u001b[0m\u001b[1;33m.\u001b[0m\u001b[0mndim\u001b[0m \u001b[1;33m>\u001b[0m \u001b[1;36m2\u001b[0m \u001b[1;32mor\u001b[0m \u001b[0my\u001b[0m\u001b[1;33m.\u001b[0m\u001b[0mndim\u001b[0m \u001b[1;33m>\u001b[0m \u001b[1;36m2\u001b[0m\u001b[1;33m:\u001b[0m\u001b[1;33m\u001b[0m\u001b[0m\n\u001b[0;32m    225\u001b[0m             \u001b[1;32mraise\u001b[0m \u001b[0mValueError\u001b[0m\u001b[1;33m(\u001b[0m\u001b[1;34m\"x and y can be no greater than 2-D\"\u001b[0m\u001b[1;33m)\u001b[0m\u001b[1;33m\u001b[0m\u001b[0m\n",
      "\u001b[1;31mValueError\u001b[0m: x and y must have same first dimension"
     ]
    },
    {
     "data": {
      "image/png": "[encoded data removed]",
      "text/plain": [
       "<matplotlib.figure.Figure at 0xa694e48>"
      ]
     },
     "metadata": {},
     "output_type": "display_data"
    }
   ],
   "source": [
    "xx = []\n",
    "Ty = []\n",
    "Tx = []\n",
    "Na = []\n",
    "for d in data:\n",
    "    xx.append(float(re.findall(r\"[-+]?\\d*\\.?\\d+\",d['conf_params']['A'])[-1]))\n",
    "    Tx.append(d['fits'][0][1][0])\n",
    "    Ty.append(d['fits'][1][1][0])\n",
    "    Na.append(d['avr_table']['fit1D_x']['N'][0])\n",
    "\n",
    "#xx =  array(xx)\n",
    "#xx = 2*(364.7 - xx)\n",
    "print(xx)\n",
    "xx = [8.5,13,13,19,29,44,67,103,160,250,370,530,750,960,1180,1370,1570,1680,1710]\n",
    "figsize(10,5)\n",
    "plot(xx,Tx,'bo')\n",
    "plot(xx,Ty,'ro')\n",
    "plot(xx1,Tx1,'b^')\n",
    "plot(xx1,Ty1,'r^')"
   ]
  },
  {
   "cell_type": "code",
   "execution_count": 245,
   "metadata": {
    "collapsed": false
   },
   "outputs": [
    {
     "name": "stdout",
     "output_type": "stream",
     "text": [
      "[14.222105291450653, 15.47201854138867, 17.60072943847257, 20.56256942553895]\n"
     ]
    },
    {
     "data": {
      "image/png": "[encoded data removed]",
      "text/plain": [
       "<matplotlib.figure.Figure at 0x1aca4f28>"
      ]
     },
     "metadata": {},
     "output_type": "display_data"
    }
   ],
   "source": [
    "figsize(10,50)\n",
    "subplot(10,1,1)\n",
    "plot(xx110,Na110,'o')\n",
    "plot(xx75,Na75,'o')\n",
    "#plot(xx46,Na46,'o')\n",
    "plot(xx30,Na30,'o')\n",
    "plot(xx20,Na20,'o')\n",
    "ylim(bottom=0)\n",
    "xlabel('δ, МГц', fontsize=14, family=\"verdana\")\n",
    "ylabel('Число атомов', fontsize=14, family=\"verdana\")\n",
    "title('Число атомов от отстройки',fontsize=14,family='verdana')\n",
    "legend(['s=0,5','s=0,3','s=0,13','s=0,09'])\n",
    "\n",
    "subplot(10,1,2)\n",
    "plot(xx110,Tx110,'bo')\n",
    "plot(xx110,Ty110,'ro')\n",
    "title('Температуры от отстройки, 110',fontsize=14,family='verdana')\n",
    "\n",
    "subplot(10,1,3)\n",
    "plot(xx110,Tx110,'o')\n",
    "plot(xx75,Tx75,'o')\n",
    "plot(xx46,Tx46,'o')\n",
    "plot(xx30,Tx30,'o')\n",
    "plot(xx20,Tx20,'o')\n",
    "ylim(bottom=0)\n",
    "title('Температура (гориз) от отстройки',fontsize=14,family='verdana')\n",
    "legend('12345')\n",
    "\n",
    "subplot(10,1,4)\n",
    "plot(xx110,Ty110,'o')\n",
    "plot(xx75,Ty75,'o')\n",
    "plot(xx46,Ty46,'o')\n",
    "plot(xx30,Ty30,'o')\n",
    "plot(xx20,Ty20,'o')\n",
    "title('Температура (верт) от отстройки',fontsize=14,family='verdana')\n",
    "legend('12345')\n",
    "\n",
    "#tmp = Ty75.argsort()\n",
    "#sortedPeople = people[inds]\n",
    "\n",
    "#plot(xx110,Ty110)\n",
    "#plot(xx75,Ty75)\n",
    "#plot(xx46,Ty46,)\n",
    "#plot(xx30,Ty30)\n",
    "#plot(xx20,Ty20)\n",
    "#legend('12345')\n",
    "\n",
    "subplot(10,1,5)\n",
    "xs = [0.13, 0.2,0.3,0.5]\n",
    "Tx = [Tx30[where(xx30==2)[0][0]],Tx46[where(xx46==2)[0][0]],0.5*Tx75[where(np.isclose(xx75,1.82))[0][0]]+0.5*Tx75[where(np.isclose(xx75,2.22))[0][0]],Tx110[where(xx110==2)[0][0]]]\n",
    "Ty = [Ty30[where(xx30==2)[0][0]],Ty46[where(xx46==2)[0][0]],0.5*Ty75[where(np.isclose(xx75,1.82))[0][0]]+0.5*Ty75[where(np.isclose(xx75,2.22))[0][0]],Ty110[where(xx110==2)[0][0]]]\n",
    "plot(xs,Tx,'bo')\n",
    "plot(xs,Ty,'ro')\n",
    "ylim(bottom=0)\n",
    "print(Ty)"
   ]
  },
  {
   "cell_type": "code",
   "execution_count": 228,
   "metadata": {
    "collapsed": false
   },
   "outputs": [
    {
     "ename": "IndexError",
     "evalue": "index 0 is out of bounds for axis 0 with size 0",
     "output_type": "error",
     "traceback": [
      "\u001b[1;31m---------------------------------------------------------------------------\u001b[0m",
      "\u001b[1;31mIndexError\u001b[0m                                Traceback (most recent call last)",
      "\u001b[1;32m<ipython-input-228-3f780657edf9>\u001b[0m in \u001b[0;36m<module>\u001b[1;34m()\u001b[0m\n\u001b[1;32m----> 1\u001b[1;33m \u001b[0mwhere\u001b[0m\u001b[1;33m(\u001b[0m\u001b[0mxx75\u001b[0m\u001b[1;33m==\u001b[0m\u001b[1;36m2.02\u001b[0m\u001b[1;33m)\u001b[0m\u001b[1;33m[\u001b[0m\u001b[1;36m0\u001b[0m\u001b[1;33m]\u001b[0m\u001b[1;33m[\u001b[0m\u001b[1;36m0\u001b[0m\u001b[1;33m]\u001b[0m\u001b[1;33m\u001b[0m\u001b[0m\n\u001b[0m",
      "\u001b[1;31mIndexError\u001b[0m: index 0 is out of bounds for axis 0 with size 0"
     ]
    }
   ],
   "source": [
    "where(xx75==2.02)[0][0]"
   ]
  },
  {
   "cell_type": "code",
   "execution_count": 209,
   "metadata": {
    "collapsed": false
   },
   "outputs": [
    {
     "data": {
      "text/plain": [
       "4.904335610055764"
      ]
     },
     "execution_count": 209,
     "metadata": {},
     "output_type": "execute_result"
    }
   ],
   "source": [
    "Tx30[where(xx30)==2]"
   ]
  },
  {
   "cell_type": "code",
   "execution_count": 205,
   "metadata": {
    "collapsed": false
   },
   "outputs": [],
   "source": [
    "#help(sort)\n"
   ]
  },
  {
   "cell_type": "code",
   "execution_count": null,
   "metadata": {
    "collapsed": false
   },
   "outputs": [],
   "source": [
    "# Шаблон\n",
    "xx = []\n",
    "yy = []\n",
    "for d in data:\n",
    "    tbl = d['avr_table']\n",
    "    x = tbl.folder\n",
    "    y = tbl.fit1D_x.sigma\n",
    "    ff = d['fits'][0]\n",
    "    fit_func = usfuncs.cloud_expansion0\n",
    "    plot(x,fit_func(x,*ff[1]))\n",
    "    plot(x,y,'o',label=d['date_meas'])\n",
    "legend()\n",
    "ylim(bottom=0)"
   ]
  },
  {
   "cell_type": "code",
   "execution_count": null,
   "metadata": {
    "collapsed": true
   },
   "outputs": [],
   "source": [
    "os.chdir(r'/Users/artemgolovizin/Downloads/2015_12_01')"
   ]
  },
  {
   "cell_type": "code",
   "execution_count": null,
   "metadata": {
    "collapsed": true
   },
   "outputs": [],
   "source": [
    "old_ks = dict()"
   ]
  },
  {
   "cell_type": "code",
   "execution_count": null,
   "metadata": {
    "collapsed": true
   },
   "outputs": [],
   "source": [
    "with open('all_data.txt', 'rb') as handle:\n",
    "    data = pickle.loads(handle.read())"
   ]
  },
  {
   "cell_type": "code",
   "execution_count": null,
   "metadata": {
    "collapsed": false
   },
   "outputs": [],
   "source": [
    "data.keys()"
   ]
  },
  {
   "cell_type": "code",
   "execution_count": null,
   "metadata": {
    "collapsed": false
   },
   "outputs": [],
   "source": [
    "data['01 t']"
   ]
  },
  {
   "cell_type": "code",
   "execution_count": null,
   "metadata": {
    "collapsed": false
   },
   "outputs": [],
   "source": [
    "with open('all_data.txt', 'rb') as handle:\n",
    "    data = pickle.loads(handle.read())\n",
    "shot_typeN = 1\n",
    "ks = list(data.keys())\n",
    "ks.sort()\n",
    "ch_boxes = dict()\n",
    "ks_n = []\n",
    "for k in ks:\n",
    "    # optional - uncomment line below to sift only keys with specific marker, as 'CL'\n",
    "#    if 'CL' not in k.upper(): continue\n",
    "    ch_boxes[k]=old_ks.get(k,True)\n",
    "    ks_n.append(k)\n",
    "ks = ks_n\n",
    "fg = None   \n",
    "def plot_gr(l_pos,**ar):\n",
    "    fig,ax = subplots() \n",
    "    global fg, old_ks\n",
    "    old_ks = dict()\n",
    "    for k in ks:\n",
    "        old_ks[k]=ar[k]\n",
    "        if ar[k]:\n",
    "            d1 = impr.get_avr_data(data[k]['data'], shot_typeN, 'fit1D_x',2)\n",
    "            errorbar(**d1)\n",
    "#             d1['fmt']='ro'\n",
    "#             d1['label']='fit1D_x'\n",
    "#             val=datat[k]\n",
    "#             x,y=impr.data2_sort(val[0],val[1])\n",
    "#             # here it's time to modify data\n",
    "# #             x = mod_from_AOM_to_real_freq(x, k, 420)\n",
    "#             #x,y = x[1:],y[1:]\n",
    "#             ax.plot(x,y,'-*',label=k)\n",
    "    legend(bbox_to_anchor=(1.05, 1), loc=2, borderaxespad=0., fontsize=15)\n",
    "    #xscale('log')\n",
    "    #xlabel('Current, A')\n",
    "    #xlabel('AOM frequency, MHz')\n",
    "    xlabel('detuning, MHz') #in real frequencyes\n",
    "    ylabel('atoms number, a.u.')\n",
    "    ylim(bottom=0)\n",
    "    #start, end = ax.get_xlim()\n",
    "    #print(ax.get_xlim())\n",
    "    #ax.xaxis.set_ticks(arange(start, end, 0.1))\n",
    "    #axvline(x=l_pos)\n",
    "    fg = fig\n",
    "    \n",
    "ter = interactive(plot_gr,l_pos=(150,250,0.1),**ch_boxes)\n",
    "ter.box_style='info'\n",
    "display(ter)"
   ]
  },
  {
   "cell_type": "code",
   "execution_count": null,
   "metadata": {
    "collapsed": false
   },
   "outputs": [],
   "source": [
    "help(interactive)"
   ]
  },
  {
   "cell_type": "markdown",
   "metadata": {},
   "source": [
    "###For managing clock line shift and broadening"
   ]
  },
  {
   "cell_type": "raw",
   "metadata": {},
   "source": [
    "c_freq = 420 # MHz\n",
    "working_keys = [x for x in old_ks if old_ks[x]]\n",
    "print(working_keys)\n",
    "val1 = []\n",
    "val2 = []\n",
    "for key in working_keys:\n",
    "    # get fit data\n",
    "    popt = res_dict[key][2]\n",
    "    for s0 in key.rstrip(r'\\/ ').split():\n",
    "        if '=' in s0:\n",
    "            s1 = s0.split('=')\n",
    "            # here one can extract data from folder name of patten 'var=val'\n",
    "            if s1[0] == 'mod' or s1[0] == 'min':\n",
    "                val1.append((float(s1[1]), popt[1]))\n",
    "                val2.append((float(s1[1]), popt[2]))\n",
    "fig3, ax3 = subplots(1,2,figsize=(12,6))\n",
    "x, y = list(zip(*val1))\n",
    "y = mod_from_AOM_to_real_freq(array(y), 'CL', c_freq)\n",
    "ax3[0].plot(x,y,'*r',ms=10)\n",
    "ax3[0].set_title('shift (center frequency=' + str(c_freq) + 'MHz)')\n",
    "ax3[0].set_ylabel('shift, MHz')\n",
    "ax3[0].set_xlabel('power, W')\n",
    "x, y = list(zip(*val2))\n",
    "ax3[1].set_title('width')\n",
    "ax3[1].set_ylabel('width, MHz')\n",
    "ax3[1].set_xlabel('power, W')\n",
    "ax3[1].plot(x,y,'*r',ms=10)\n",
    "#x, y = list(zip(*val))\n",
    "#plot(x,y,'*')"
   ]
  },
  {
   "cell_type": "markdown",
   "metadata": {},
   "source": [
    "#### Построение списка сканирования"
   ]
  },
  {
   "cell_type": "code",
   "execution_count": null,
   "metadata": {
    "collapsed": false
   },
   "outputs": [],
   "source": [
    "res = array(range(-7,7, 1))/10 + 420.1\n",
    "rr = ''\n",
    "for x in res:\n",
    "    rr += str(x) + ' '\n",
    "print(rr)"
   ]
  },
  {
   "cell_type": "code",
   "execution_count": null,
   "metadata": {
    "collapsed": true
   },
   "outputs": [],
   "source": []
  }
 ],
 "metadata": {
  "hide_input": false,
  "kernelspec": {
   "display_name": "Python 3",
   "language": "python",
   "name": "python3"
  },
  "language_info": {
   "codemirror_mode": {
    "name": "ipython",
    "version": 3
   },
   "file_extension": ".py",
   "mimetype": "text/x-python",
   "name": "python",
   "nbconvert_exporter": "python",
   "pygments_lexer": "ipython3",
   "version": "3.5.1"
  },
  "latex_envs": {
   "bibliofile": "biblio.bib",
   "cite_by": "apalike",
   "current_citInitial": 1,
   "eqLabelWithNumbers": true,
   "eqNumInitial": 0
  }
 },
 "nbformat": 4,
 "nbformat_minor": 0
}
