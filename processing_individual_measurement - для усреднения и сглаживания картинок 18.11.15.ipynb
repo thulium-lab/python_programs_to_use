{
 "cells": [
  {
   "cell_type": "raw",
   "metadata": {},
   "source": [
    "# To restart remote kernels run code below before restarting this kernel\n",
    "rc.close()"
   ]
  },
  {
   "cell_type": "raw",
   "metadata": {},
   "source": [
    "# to enter kernel qtconsole run code below\n",
    "%%px --targets 0 \n",
    "%qtconsole"
   ]
  },
  {
   "cell_type": "code",
   "execution_count": null,
   "metadata": {
    "collapsed": false
   },
   "outputs": [],
   "source": [
    "%pylab inline\n",
    "\n",
    "import sys\n",
    "import os\n",
    "par_dir = os.path.split(os.getcwd())[0]\n",
    "if par_dir not in sys.path:\n",
    "    sys.path.append(par_dir)\n",
    "# sys.path.append(r'/Users/artemgolovizin/GitHub')\n",
    "from scipy.optimize import curve_fit\n",
    "import inspect\n",
    "import pickle\n",
    "import imp\n",
    "import re\n",
    "import json\n",
    "\n",
    "# from IPython.html import widgets\n",
    "# from IPython.display import display\n",
    "# from IPython.html.widgets import interact, interactive, fixed\n",
    "\n",
    "from IPython import parallel\n",
    "\n",
    "import thulium_python_lib.usefull_functions as usfuncs\n",
    "import thulium_python_lib.image_processing_new as impr\n",
    "rc1 = parallel.Client()\n",
    "lview = rc1.load_balanced_view()\n",
    "dview = rc1.direct_view()\n",
    "with dview.sync_imports():\n",
    "    import sys, os    \n",
    "dview['par_dir'] = par_dir\n",
    "%px if par_dir not in sys.path: sys.path.append(par_dir)\n",
    "#%px if r'/Users/artemgolovizin/GitHub' not in sys.path: sys.path.append(r'/Users/artemgolovizin/GitHub')\n",
    "%px import thulium_python_lib.image_processing_new as impr\n",
    "%px import imp\n",
    "%px from IPython.parallel import bind_kernel; bind_kernel()"
   ]
  },
  {
   "cell_type": "code",
   "execution_count": null,
   "metadata": {
    "collapsed": false
   },
   "outputs": [],
   "source": [
    "# to reload library on remote and local engine\n",
    "#%px imp.reload(impr)\n",
    "#imp.reload(impr)\n",
    "# imp.reload(usfuncs)"
   ]
  },
  {
   "cell_type": "markdown",
   "metadata": {},
   "source": [
    "### And now:\n",
    "#####Constract loader and averager. For available parameters see help('instance')"
   ]
  },
  {
   "cell_type": "code",
   "execution_count": null,
   "metadata": {
    "collapsed": true
   },
   "outputs": [],
   "source": [
    "loader  = impr.Load_Image(dview)\n",
    "averager = impr.Avr_Image(dview,do_sifting=False)"
   ]
  },
  {
   "cell_type": "markdown",
   "metadata": {},
   "source": [
    "####Choose working directory and measurement folder"
   ]
  },
  {
   "cell_type": "code",
   "execution_count": null,
   "metadata": {
    "collapsed": false
   },
   "outputs": [],
   "source": [
    "# smth like 'D:\\!Data\\2015_07_01' for lab and like '/Users/artemgolovizin/Downloads/2015_08_20' for mac\n",
    "os.chdir(r'D:\\!Data\\2015_11_13 Кристаллы и калибровка камеры\\те же картинки но в jpg')\n",
    "# print('Current directory', os.getcwd());\n",
    "\n",
    "# Create folder 'Figures' for saving individual plot\n",
    "if not os.path.exists('Figures'):\n",
    "    os.makedirs('Figures')\n",
    "    print('Folder Figures has been created')\n",
    "    \n",
    "working_directory = ''\n",
    "folder = ''"
   ]
  },
  {
   "cell_type": "code",
   "execution_count": null,
   "metadata": {
    "collapsed": false,
    "run_control": {
     "marked": false
    }
   },
   "outputs": [],
   "source": [
    "#folder = '01 t температура зеленой f=364.49 a=1дБм'\n",
    "folder = '02 cr b=off t=2ms'\n",
    "#folder = '05 364.09'\n",
    "#folder = '0ms'\n",
    "#folder = '0ms'\n",
    "#folder = '09 363.69'\n",
    "working_directory = os.path.join(os.getcwd(),folder)\n",
    "# print('Working directory', working_directory)\n",
    "\n",
    "#dirs = [x for x in os.listdir() if re.match('\\d',x)]\n",
    "#x_lbl, y_lbl, xaxis_calib = impr.get_x_calibration(folder, dirs)"
   ]
  },
  {
   "cell_type": "markdown",
   "metadata": {},
   "source": [
    "### Load data, rearange, average and calibrate"
   ]
  },
  {
   "cell_type": "code",
   "execution_count": null,
   "metadata": {
    "collapsed": false
   },
   "outputs": [],
   "source": [
    "# downloading images\n",
    "all_data = loader(working_directory,lview)\n",
    "\n",
    "# rearranging to dictionary\n",
    "dataD = impr.rearrange_data(all_data)\n",
    "\n",
    "# sifting(filtering) data - removing empty images  !!! DOES NOTE WORKS NOW\n",
    "#impr.sift(dataD)"
   ]
  },
  {
   "cell_type": "code",
   "execution_count": null,
   "metadata": {
    "collapsed": false,
    "scrolled": false
   },
   "outputs": [],
   "source": [
    "# averaging data\n",
    "avr_dataD = averager(dataD,lview)\n",
    "\n",
    "# construct new data dictionary without image and calibration atoms number, size and x-axis\n",
    "navrD = impr.mod_avrData(avr_dataD, xaxis_calib, impr.N_atoms(width=0.5, delta = 5), impr.real_size)\n",
    "\n",
    "\n",
    "# for plotting sifted image\n",
    "\n",
    "#imshow(imread('1 от частоты амплитудной модуляции аома верди (5) 3.9W/26ms/2_1.png'))\n",
    "#colorbar()"
   ]
  },
  {
   "cell_type": "code",
   "execution_count": null,
   "metadata": {
    "collapsed": true
   },
   "outputs": [],
   "source": [
    "from scipy.ndimage import gaussian_filter"
   ]
  },
  {
   "cell_type": "code",
   "execution_count": null,
   "metadata": {
    "collapsed": false,
    "scrolled": true
   },
   "outputs": [],
   "source": [
    "imshow(gaussian_filter(avr_dataD[1][1].image[:,:],2),cmap=get_cmap('Greens'),vmin=0,vmax=0.011)\n",
    "#imshow(avr_dataD[1][1].image[:,:],cmap=get_cmap('Greens'),vmin=0,vmax=0.007)\n",
    "#axis('off')\n",
    "#colorbar()\n",
    "savefig('!_9.eps')"
   ]
  },
  {
   "cell_type": "code",
   "execution_count": null,
   "metadata": {
    "collapsed": false
   },
   "outputs": [],
   "source": [
    "working_directory"
   ]
  },
  {
   "cell_type": "code",
   "execution_count": null,
   "metadata": {
    "collapsed": false
   },
   "outputs": [],
   "source": [
    "\n",
    "\n",
    "imshow(gaussian_filter(imread('01 cr b=on t=2ms/03/CV_Image_916_151113_135236_625.jpg')[:,:,0],2),vmin=0,vmax=18,cmap=get_cmap('Greens'))\n",
    "#savefig('ver.png')"
   ]
  },
  {
   "cell_type": "code",
   "execution_count": null,
   "metadata": {
    "collapsed": false
   },
   "outputs": [],
   "source": [
    "imshow(avr_dataD[1][1].image)"
   ]
  },
  {
   "cell_type": "code",
   "execution_count": null,
   "metadata": {
    "collapsed": false
   },
   "outputs": [],
   "source": [
    "avr_dataD"
   ]
  },
  {
   "cell_type": "code",
   "execution_count": null,
   "metadata": {
    "collapsed": false
   },
   "outputs": [],
   "source": [
    "1/80"
   ]
  },
  {
   "cell_type": "code",
   "execution_count": null,
   "metadata": {
    "collapsed": true
   },
   "outputs": [],
   "source": [
    "def cloud_expansion(t, T, r0, t0):\n",
    "    k_b = 1.38e-23\n",
    "    m = 169 * 1.66e-27\n",
    "    return sqrt(r0**2 + 2 * k_b * abs(T) * (t + 0*t0)**2 / m)"
   ]
  },
  {
   "cell_type": "markdown",
   "metadata": {},
   "source": [
    "### Construct data based on measurement type and plot"
   ]
  },
  {
   "cell_type": "code",
   "execution_count": null,
   "metadata": {
    "collapsed": false
   },
   "outputs": [],
   "source": [
    "# find measurement type to automatically plot needed data\n",
    "meas_type = re.findall('\\d+\\s+(\\w+)',folder)\n",
    "meas_type = 'LT' if len(meas_type) ==0 else meas_type[0].upper()\n",
    "\n",
    "# shot_typeN - for now only 1, if there will be calibration - 1 or more\n",
    "shot_typeN = 1\n",
    "\n",
    "# description to add to all_data.txt file\n",
    "description = dict()\n",
    "description['meas_type'] = meas_type\n",
    "description['x_label'] = x_lbl\n",
    "description['y_label'] = y_lbl\n",
    "\n",
    "#meas_type = 'T' # here one can specify type to get desired plots\n",
    "meas_type = 'T'\n",
    "fig1, ax1 = subplots()\n",
    "if meas_type == 'T':\n",
    "    # construct data with cloud expansion on both coordinates\n",
    "    # first set of data  - Temperature X\n",
    "    d1 = impr.get_avr_data(navrD, shot_typeN, 'fit1D_x',2)\n",
    "    d1['fmt']='ro'\n",
    "    d1['label']='fit1D_x'\n",
    "    #impr.drop_by_number(d1,5)\n",
    "    #impr.drop_by_x(d1,130,160)\n",
    "\n",
    "    # second set of data  - Temperature Y\n",
    "    d2 = impr.get_avr_data(navrD, shot_typeN,  'fit1D_y',2)\n",
    "    d2['fmt']='bo'\n",
    "    d2['label'] = 'fit1D_y'\n",
    "    #impr.drop_by_number(d2,5)\n",
    "    \n",
    "    # fit cloud expansion\n",
    "    fit_func = cloud_expansion\n",
    "    popt_T, pcov_T = curve_fit(fit_func, d1['x'], d1['y'], p0=(d1['y'][0],20,0))\n",
    "    popt_T2, pcov_T2 = curve_fit(fit_func, d2['x'], d2['y'], p0=(d2['y'][0], 20,0))\n",
    "    print('Fit parameters X, Y:\\n' + usfuncs.construct_fit_description(fit_func, list(zip(popt_T,popt_T2))))\n",
    "    \n",
    "    # plot data and fits  ADD T VALUE ON PLOT\n",
    "    ax1.errorbar(**d2)\n",
    "    ax1.errorbar(**d1)\n",
    "    ax1.plot(linspace(min(d1['x']),max(d1['x']),100), fit_func(linspace(min(d1['x']),max(d1['x']),100),*popt_T),'k', label='Tx=%.2f'%(popt_T[0]))\n",
    "    ax1.plot(linspace(min(d2['x']),max(d2['x']),100), fit_func(linspace(min(d2['x']),max(d2['x']),100),*popt_T2),'k', label='Ty=%.2f'%(popt_T2[0]))\n",
    "    \n",
    "    # add information about fits to description\n",
    "    description['fit1D_x'] =  popt_T\n",
    "    description['fit1D_y'] =  popt_T2\n",
    "    description['fit-function'] = fit_func.__name__\n",
    "    \n",
    "else:\n",
    "    # construct data, param - what value to use\n",
    "    param = 'fit1D_x'\n",
    "    d1 = impr.get_avr_data(navrD, shot_typeN, param,0)\n",
    "    d1['fmt']='ro'\n",
    "    d1['label']=param\n",
    "    #impr.drop_by_number(d1,*range(20,len(d1['x'])))\n",
    "    #impr.drop_by_x(d1,130,160)\n",
    "    \n",
    "    # fit_func - which function to use to fit data  here one can put conditions on meas_type to choose fit\n",
    "    popt_T = None\n",
    "    fit_func = exp_decay\n",
    "    popt_T, pcov_T = curve_fit(fit_func, d1['x'], d1['y'], p0=(d1['y'][0], 100,0))\n",
    "    #popt_T, pcov_T = curve_fit(fit_func, d1['x'], d1['y'], p0=(-d1['y'][0], d1['x'][argmin(d1['y'])],0.1,d1['y'][0]))\n",
    "    print('Fit parameters:\\n' + usfuncs.construct_fit_description(fit_func, popt_T))\n",
    "    \n",
    "    # plot data and fits\n",
    "    ax1.errorbar(**d1)\n",
    "    if(fit_func != None):\n",
    "        ax1.plot(linspace(min(d1['x']),max(d1['x']),100), fit_func(linspace(min(d1['x']),max(d1['x']),100),*popt_T),'k', label='fit X')\n",
    "    if fit_func != None:\n",
    "        fit_label = fit_func.__name__ + ' fit:\\n' + usfuncs.construct_fit_description(fit_func, popt_T)\n",
    "        ax1.text(0.01,0.01,fit_label,transform=ax1.transAxes)\n",
    "    \n",
    "    description['fit'] =  popt_T\n",
    "    description['fit-function'] = fit_func.__name__\n",
    "    \n",
    "ax1.set_xlabel(x_lbl)\n",
    "ax1.set_ylabel(y_lbl)\n",
    "ax1.set_title(folder.rstrip(r'\\/ '))\n",
    "ax1.set_ylim(bottom=0)\n",
    "ax1.legend(loc=4)"
   ]
  },
  {
   "cell_type": "code",
   "execution_count": null,
   "metadata": {
    "collapsed": false
   },
   "outputs": [],
   "source": [
    "# for each picture\n",
    "d3 = dict()\n",
    "d3['x'],d3['y'] = impr.constract_data(dataD, shot_typeN, 'fit1D_x',0)\n",
    "\n",
    "fig2, ax2 = subplots()\n",
    "ax2.errorbar(fmt='o',**d3)"
   ]
  },
  {
   "cell_type": "code",
   "execution_count": null,
   "metadata": {
    "collapsed": false
   },
   "outputs": [],
   "source": [
    "if folder != '':\n",
    "    fig1.savefig(os.path.join('Figures',folder.rstrip(r'\\/ ')+'.png'))\n",
    "    try:\n",
    "        with open('all_data.txt', 'rb') as handle:\n",
    "            res_dict = pickle.loads(handle.read())\n",
    "    except FileNotFoundError:\n",
    "        res_dict = {}\n",
    "    except EOFError:\n",
    "        res_dict = {}\n",
    "    res_dict[folder.rstrip(r'\\/ ')]={'description':description,'data':navrD}\n",
    "    with open('all_data.txt', 'wb') as handle:\n",
    "        pickle.dump(res_dict, handle)\n",
    "    with open('all_data.json', 'w') as outfile:\n",
    "        json.dump(res_dict, outfile, cls=impr.JsonCustomEncoder, indent=4)    \n",
    "    print('Figure and data saved!!!')\n",
    "    \n",
    "# to later read json file run following two lines\n",
    "#with open('all_data.json', 'r') as infile:\n",
    "#        ddata = json.load(infile)"
   ]
  },
  {
   "cell_type": "code",
   "execution_count": null,
   "metadata": {
    "collapsed": false
   },
   "outputs": [],
   "source": [
    "# to check how good is fit\n",
    "perr = np.sqrt(np.diag(pcov_T))\n",
    "print(perr)"
   ]
  }
 ],
 "metadata": {
  "hide_input": false,
  "kernelspec": {
   "display_name": "Python 3",
   "language": "python",
   "name": "python3"
  },
  "language_info": {
   "codemirror_mode": {
    "name": "ipython",
    "version": 3
   },
   "file_extension": ".py",
   "mimetype": "text/x-python",
   "name": "python",
   "nbconvert_exporter": "python",
   "pygments_lexer": "ipython3",
   "version": "3.5.1"
  },
  "latex_envs": {
   "bibliofile": "biblio.bib",
   "cite_by": "apalike",
   "current_citInitial": 1,
   "eqLabelWithNumbers": true,
   "eqNumInitial": 0
  }
 },
 "nbformat": 4,
 "nbformat_minor": 0
}
