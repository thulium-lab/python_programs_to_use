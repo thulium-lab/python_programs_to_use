{
 "cells": [
  {
   "cell_type": "code",
   "execution_count": 1,
   "metadata": {
    "collapsed": false
   },
   "outputs": [
    {
     "name": "stdout",
     "output_type": "stream",
     "text": [
      "Populating the interactive namespace from numpy and matplotlib\n",
      "Done importing, module image_processing now\n"
     ]
    }
   ],
   "source": [
    "%pylab inline\n",
    "import os\n",
    "par_dir = os.path.split(os.getcwd())[0]\n",
    "if par_dir not in sys.path:\n",
    "    sys.path.append(par_dir)\n",
    "\n",
    "import thulium_python_lib.usefull_functions as usfuncs\n",
    "import thulium_python_lib.image_processing_new as impr"
   ]
  },
  {
   "cell_type": "code",
   "execution_count": 2,
   "metadata": {
    "collapsed": false
   },
   "outputs": [],
   "source": [
    "# home directory (where to save figures)\n",
    "os.chdir(r'\\\\BIGONE\\!Data\\2016_01_12 пучок лазера Sacher')"
   ]
  },
  {
   "cell_type": "code",
   "execution_count": 3,
   "metadata": {
    "collapsed": true
   },
   "outputs": [],
   "source": [
    "folder = ''\n",
    "working_directory = os.path.join(os.getcwd(),folder)"
   ]
  },
  {
   "cell_type": "code",
   "execution_count": 4,
   "metadata": {
    "collapsed": false
   },
   "outputs": [
    {
     "data": {
      "text/plain": [
       "['400cm']"
      ]
     },
     "execution_count": 4,
     "metadata": {},
     "output_type": "execute_result"
    }
   ],
   "source": [
    "os.listdir(working_directory)"
   ]
  },
  {
   "cell_type": "code",
   "execution_count": 12,
   "metadata": {
    "collapsed": false,
    "run_control": {
     "marked": false
    }
   },
   "outputs": [
    {
     "name": "stdout",
     "output_type": "stream",
     "text": [
      "\\\\BIGONE\\!Data\\2016_01_12 пучок лазера Sacher\\400cm\n"
     ]
    }
   ],
   "source": [
    "# to curretly handle this data shoul be structured as followed:\n",
    "# folder_mes\n",
    "#              fig1\n",
    "#              fig2\n",
    "#              ...\n",
    "# program averages all figures in folder and plots them with fits\n",
    "# to do the same with figures in one folder change parts\n",
    "data = dict()\n",
    "for dr in os.listdir(working_directory):\n",
    "    rel_par_dir = os.path.join(working_directory,dr)\n",
    "    # for few folder\n",
    "    print(rel_par_dir)\n",
    "    if not os.path.isdir(rel_par_dir):\n",
    "        continue\n",
    "    im = impr.Image_Basics(mean([imread(os.path.join(rel_par_dir,fl))[:,:,1] for fl in os.listdir(rel_par_dir) \n",
    "                                 if fl.endswith('.jpg')],0) )\n",
    "    im.fit_x = im.fit_gaussian1D(axis=0)\n",
    "    im.fit_y = im.fit_gaussian1D(axis=1)\n",
    "    data[dr] = im\n",
    "    # for one directory\n",
    "#    if dr.endswith('jpg'):\n",
    "#        im = impr.Image_Basics(imread(os.path.join(rel_par_dir,fl))[:,:,1])\n",
    "#        im.fit_x = im.fit_gaussian1D(axis=0)\n",
    "#        im.fit_y = im.fit_gaussian1D(axis=1)\n",
    "#        data[dr] = im\n",
    "# fig, ax = subplots(len(data),3,figsize=(15,len(data)*2.5))\n",
    "# for i,d in enumerate(data):\n",
    "#     ax[i,0].imshow(data[d].image)\n",
    "#     ax[i,0].set_title(d)\n",
    "#     for j in (0,1):\n",
    "#         y = sum(data[d].image,j)\n",
    "#         x = range(len(y))\n",
    "#         ax[i,j+1].plot(x,y)\n",
    "#         ax[i,j+1].plot(x,impr.gaussian(x,*getattr(data[d],'fit_y' if j else 'fit_x')))\n",
    "#         ax[i,j+1].set_title('width = %.3f mm' % (0.011 * getattr(data[d],'fit_y' if j else 'fit_x')[2]))"
   ]
  },
  {
   "cell_type": "code",
   "execution_count": 13,
   "metadata": {
    "collapsed": false
   },
   "outputs": [
    {
     "data": {
      "text/plain": [
       "['\\\\\\\\BIGONE\\\\!Data\\\\2016_01_12 пучок лазера Sacher\\\\400cm\\\\CV_Image_916_160112_193117_091.jpg',\n",
       " '\\\\\\\\BIGONE\\\\!Data\\\\2016_01_12 пучок лазера Sacher\\\\400cm\\\\CV_Image_916_160112_193117_184.jpg',\n",
       " '\\\\\\\\BIGONE\\\\!Data\\\\2016_01_12 пучок лазера Sacher\\\\400cm\\\\CV_Image_916_160112_193117_247.jpg',\n",
       " '\\\\\\\\BIGONE\\\\!Data\\\\2016_01_12 пучок лазера Sacher\\\\400cm\\\\CV_Image_916_160112_193117_309.jpg',\n",
       " '\\\\\\\\BIGONE\\\\!Data\\\\2016_01_12 пучок лазера Sacher\\\\400cm\\\\CV_Image_916_160112_193117_372.jpg',\n",
       " '\\\\\\\\BIGONE\\\\!Data\\\\2016_01_12 пучок лазера Sacher\\\\400cm\\\\CV_Image_916_160112_193117_434.jpg',\n",
       " '\\\\\\\\BIGONE\\\\!Data\\\\2016_01_12 пучок лазера Sacher\\\\400cm\\\\CV_Image_916_160112_193117_497.jpg']"
      ]
     },
     "execution_count": 13,
     "metadata": {},
     "output_type": "execute_result"
    }
   ],
   "source": [
    "[os.path.join(rel_par_dir,fl) for fl in os.listdir(rel_par_dir) if fl.endswith('.jpg')]"
   ]
  },
  {
   "cell_type": "code",
   "execution_count": null,
   "metadata": {
    "collapsed": false
   },
   "outputs": [],
   "source": [
    "# to save figure\n",
    "fig.savefig('beam_profile_28_12_2015.pdf')"
   ]
  },
  {
   "cell_type": "code",
   "execution_count": null,
   "metadata": {
    "collapsed": false
   },
   "outputs": [],
   "source": [
    "# to plot individual image\n",
    "\n",
    "im = impr.Image_Basics(imread(r'D:\\!Data\\2015_12_23 Пучок лазера Sacher\\artems beam profiles\\0.4m_d1\\40cm.jpg')[:,:,0])\n",
    "\n",
    "fig, ax = subplots(1,3,figsize=(15,2.5))\n",
    "im.fit_x = im.fit_gaussian1D(axis=0)\n",
    "im.fit_y = im.fit_gaussian1D(axis=1)\n",
    "ax[0].imshow(im.image)\n",
    "ax[0].set_title('image')\n",
    "for j in (0,1):\n",
    "    y = sum(im.image,j)\n",
    "    x = range(len(y))\n",
    "    ax[j+1].plot(x,y)\n",
    "    ax[j+1].plot(x,impr.gaussian(x,*getattr(im,'fit_y' if j else 'fit_x')))\n",
    "    ax[j+1].set_title('width = %.3f mm' % (0.011 * getattr(im,'fit_y' if j else 'fit_x')[2]))"
   ]
  },
  {
   "cell_type": "code",
   "execution_count": null,
   "metadata": {
    "collapsed": false
   },
   "outputs": [],
   "source": [
    "a = imread('\\\\\\\\BIGONE\\\\!Data\\\\2016_01_12 пучок лазера Sacher\\\\400cm\\\\CV_Image_916_160112_193117_091.jpg')"
   ]
  },
  {
   "cell_type": "code",
   "execution_count": null,
   "metadata": {
    "collapsed": false
   },
   "outputs": [],
   "source": [
    "a"
   ]
  },
  {
   "cell_type": "code",
   "execution_count": null,
   "metadata": {
    "collapsed": true
   },
   "outputs": [],
   "source": []
  }
 ],
 "metadata": {
  "hide_input": false,
  "kernelspec": {
   "display_name": "Python 3",
   "language": "python",
   "name": "python3"
  },
  "language_info": {
   "codemirror_mode": {
    "name": "ipython",
    "version": 3
   },
   "file_extension": ".py",
   "mimetype": "text/x-python",
   "name": "python",
   "nbconvert_exporter": "python",
   "pygments_lexer": "ipython3",
   "version": "3.4.3"
  },
  "latex_envs": {
   "bibliofile": "biblio.bib",
   "cite_by": "apalike",
   "current_citInitial": 1,
   "eqLabelWithNumbers": true,
   "eqNumInitial": 0
  }
 },
 "nbformat": 4,
 "nbformat_minor": 0
}
