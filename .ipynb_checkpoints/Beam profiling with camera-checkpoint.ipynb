{
 "cells": [
  {
   "cell_type": "code",
   "execution_count": null,
   "metadata": {
    "collapsed": false
   },
   "outputs": [],
   "source": [
    "%pylab inline\n",
    "\n",
    "import sys\n",
    "import os\n",
    "\n",
    "par_dir = os.path.split(os.getcwd())[0]\n",
    "if par_dir not in sys.path:\n",
    "    sys.path.append(par_dir)\n",
    "import thulium_python_lib.usefull_functions as usfuncs\n",
    "import thulium_python_lib.image_processing_new as impr\n",
    "\n",
    "from scipy.optimize import curve_fit"
   ]
  },
  {
   "cell_type": "code",
   "execution_count": null,
   "metadata": {
    "collapsed": true
   },
   "outputs": [],
   "source": [
    "def gaussian(x,N,x0,sigma, background):\n",
    "    \"\"\"Returns value of a 1D-gaussian with the given parameters ,N,x0,sigma, background by 1/e**2\"\"\"\n",
    "    #from numpy import sqrt,pi,exp\n",
    "    return N / (sigma * sqrt(pi)) * exp(-2*(x - x0)**2/(sigma**2)) + background\n",
    "\n",
    "def ff(x,x0,w0,alpha):\n",
    "    return w0*sqrt(1 + ((x-x0)*alpha/w0)**2)"
   ]
  },
  {
   "cell_type": "code",
   "execution_count": null,
   "metadata": {
    "collapsed": true
   },
   "outputs": [],
   "source": [
    "os.chdir(r'\\\\BIGONE\\!Data\\2016_05_13')\n",
    "folder = '2/'\n",
    "working_directory = os.path.join(os.getcwd(),folder)"
   ]
  },
  {
   "cell_type": "code",
   "execution_count": null,
   "metadata": {
    "collapsed": true
   },
   "outputs": [],
   "source": [
    "λ=0.41e-6"
   ]
  },
  {
   "cell_type": "code",
   "execution_count": null,
   "metadata": {
    "collapsed": false
   },
   "outputs": [],
   "source": [
    "fig, ax = plt.subplots(len(os.listdir(working_directory)),3,figsize=(10,10))#,figsize=(10,4)\n",
    "res = []\n",
    "for j,im in enumerate(os.listdir(working_directory)):\n",
    "    prom = []\n",
    "    prom.append(int(im.split('.')[0]))\n",
    "    data = imread(os.path.join(working_directory,im))\n",
    "#     print(argmax(data)//len(data),argmax(data)%len(data))\n",
    "    for i in (0,1):\n",
    "        dpt = data.sum(axis=i)\n",
    "        popt, pcov = curve_fit(gaussian,range(len(dpt)), dpt,p0=(max(dpt),argmax(dpt),10,100),bounds=(0,inf))\n",
    "        ax[j,i].plot(dpt)\n",
    "        print(popt)\n",
    "#         print(np.sqrt(np.diag(pcov)))\n",
    "        ax[j,i].plot(gaussian(range(len(dpt)),*popt))\n",
    "        prom.append(popt[2])\n",
    "    ax[j,2].imshow(data)\n",
    "    res.append(prom)\n",
    "res = array(res)"
   ]
  },
  {
   "cell_type": "markdown",
   "metadata": {},
   "source": [
    "Plot particular axis and fit"
   ]
  },
  {
   "cell_type": "code",
   "execution_count": null,
   "metadata": {
    "collapsed": false
   },
   "outputs": [],
   "source": [
    "axs = 1\n",
    "popt, pcov = curve_fit(ff,res[:,0],res[:,axs],p0=(30,10,1))\n",
    "print(popt)\n",
    "plot(res[:,0], res[:,axs],'o')\n",
    "ylim(bottom=0)\n",
    "plot(linspace(min(res[:,0]),max(res[:,0]),100),ff(linspace(min(res[:,0]),max(res[:,0]),100),*popt))\n",
    "xlabel('x,mm')"
   ]
  },
  {
   "cell_type": "markdown",
   "metadata": {},
   "source": [
    "### Beam divergence\n",
    "Gaussian"
   ]
  },
  {
   "cell_type": "code",
   "execution_count": null,
   "metadata": {
    "collapsed": false
   },
   "outputs": [],
   "source": [
    "λ/(pi*popt[1]*4.65*1e-6)"
   ]
  },
  {
   "cell_type": "markdown",
   "metadata": {},
   "source": [
    "Real (if x axis in mm than 1e-3, if in cm than 1e-3)"
   ]
  },
  {
   "cell_type": "code",
   "execution_count": null,
   "metadata": {
    "collapsed": false
   },
   "outputs": [],
   "source": [
    "θ = popt[2]*4.65*1e-4\n",
    "θ"
   ]
  },
  {
   "cell_type": "markdown",
   "metadata": {},
   "source": [
    "Gaussian from minimum measured waist"
   ]
  },
  {
   "cell_type": "code",
   "execution_count": null,
   "metadata": {
    "collapsed": false
   },
   "outputs": [],
   "source": [
    "λ/(pi*min(res[:,1])*4.65*1e-6)"
   ]
  },
  {
   "cell_type": "markdown",
   "metadata": {},
   "source": [
    "$M^2$ parameter from this work (find in e-mail to Timofey).Careful with coeffitients"
   ]
  },
  {
   "cell_type": "code",
   "execution_count": null,
   "metadata": {
    "collapsed": false
   },
   "outputs": [],
   "source": [
    "pi * 2 *popt[1]*4.65*1e-3 * popt[2]*4.65*1e-1 / (4 * 0.28)"
   ]
  },
  {
   "cell_type": "markdown",
   "metadata": {},
   "source": [
    "For individual image"
   ]
  },
  {
   "cell_type": "code",
   "execution_count": null,
   "metadata": {
    "collapsed": false
   },
   "outputs": [],
   "source": [
    "# aa = imread('2/42.bmp')[400:900,700:1200]\n",
    "aa = imread('01 photos/CV_Image_916_160513_114252_865.jpg')[150:300,200:350,0]\n",
    "imshow(aa)\n",
    "colorbar()\n",
    "#savefig('2d_410.png')"
   ]
  },
  {
   "cell_type": "code",
   "execution_count": null,
   "metadata": {
    "collapsed": false
   },
   "outputs": [],
   "source": [
    "plot(sum(aa,axis=1))\n",
    "dpt = aa.sum(axis=1)\n",
    "popt, pcov = curve_fit(gaussian,range(len(dpt)), dpt,p0=(1000,60,20,1000))\n",
    "plot(range(len(dpt)),gaussian(range(len(dpt)),*popt))\n",
    "#savefig('1dy_410.png')"
   ]
  },
  {
   "cell_type": "code",
   "execution_count": null,
   "metadata": {
    "collapsed": true
   },
   "outputs": [],
   "source": [
    "    dpt = aa.sum(axis=1)\n",
    "    popt, pcov = curve_fit(gaussian,range(len(dpt)), dpt,p0=(10000,70,20,1000))"
   ]
  },
  {
   "cell_type": "code",
   "execution_count": null,
   "metadata": {
    "collapsed": true
   },
   "outputs": [],
   "source": []
  }
 ],
 "metadata": {
  "hide_input": false,
  "kernelspec": {
   "display_name": "Python 3",
   "language": "python",
   "name": "python3"
  },
  "language_info": {
   "codemirror_mode": {
    "name": "ipython",
    "version": 3
   },
   "file_extension": ".py",
   "mimetype": "text/x-python",
   "name": "python",
   "nbconvert_exporter": "python",
   "pygments_lexer": "ipython3",
   "version": "3.5.1"
  },
  "latex_envs": {
   "bibliofile": "biblio.bib",
   "cite_by": "apalike",
   "current_citInitial": 1,
   "eqLabelWithNumbers": true,
   "eqNumInitial": 0
  }
 },
 "nbformat": 4,
 "nbformat_minor": 0
}
