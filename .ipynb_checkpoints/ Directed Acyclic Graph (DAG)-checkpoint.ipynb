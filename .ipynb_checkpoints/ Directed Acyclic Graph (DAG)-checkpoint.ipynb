{
 "cells": [
  {
   "cell_type": "code",
   "execution_count": null,
   "metadata": {
    "collapsed": false
   },
   "outputs": [],
   "source": [
    "%pylab inline"
   ]
  },
  {
   "cell_type": "code",
   "execution_count": null,
   "metadata": {
    "collapsed": true
   },
   "outputs": [],
   "source": [
    "import networkx as nx\n",
    "from random import randint, random\n",
    "import ipyparallel as parallel\n",
    "\n",
    "def randomwait():\n",
    "    import time\n",
    "    from random import random\n",
    "    time.sleep(random())\n",
    "    return time.time()\n",
    "\n",
    "\n",
    "def random_dag(nodes, edges):\n",
    "    \"\"\"Generate a random Directed Acyclic Graph (DAG) with a given number of nodes and edges.\"\"\"\n",
    "    G = nx.DiGraph()\n",
    "    for i in range(nodes):\n",
    "        G.add_node(i)\n",
    "    while edges > 0:\n",
    "        a = randint(0,nodes-1)\n",
    "        b=a\n",
    "        while b==a:\n",
    "            b = randint(0,nodes-1)\n",
    "        G.add_edge(a,b)\n",
    "        if nx.is_directed_acyclic_graph(G):\n",
    "            edges -= 1\n",
    "        else:\n",
    "            # we closed a loop!\n",
    "            G.remove_edge(a,b)\n",
    "    return G\n",
    "\n",
    "def add_children(G, parent, level, n=2):\n",
    "    \"\"\"Add children recursively to a binary tree.\"\"\"\n",
    "    if level == 0:\n",
    "        return\n",
    "    for i in range(n):\n",
    "        child = parent+str(i)\n",
    "        G.add_node(child)\n",
    "        G.add_edge(parent,child)\n",
    "        add_children(G, child, level-1, n)\n",
    "\n",
    "def make_bintree(levels):\n",
    "    \"\"\"Make a symmetrical binary tree with @levels\"\"\"\n",
    "    G = nx.DiGraph()\n",
    "    root = '0'\n",
    "    G.add_node(root)\n",
    "    add_children(G, root, levels, 2)\n",
    "    return G\n",
    "\n",
    "def submit_jobs(view, G, jobs):\n",
    "    \"\"\"Submit jobs via client where G describes the time dependencies.\"\"\"\n",
    "    results = {}\n",
    "    for node in nx.topological_sort(G):\n",
    "        with view.temp_flags(after=[ results[n] for n in G.predecessors(node) ]):\n",
    "            results[node] = view.apply(jobs[node])\n",
    "    return results\n",
    "\n",
    "def validate_tree(G, results):\n",
    "    \"\"\"Validate that jobs executed after their dependencies.\"\"\"\n",
    "    for node in G:\n",
    "        started = results[node].metadata.started\n",
    "        for parent in G.predecessors(node):\n",
    "            finished = results[parent].metadata.completed\n",
    "            assert started > finished, \"%s should have happened after %s\"%(node, parent)\n",
    "\n",
    "def main(nodes, edges):\n",
    "    \"\"\"Generate a random graph, submit jobs, then validate that the\n",
    "    dependency order was enforced.\n",
    "    Finally, plot the graph, with time on the x-axis, and\n",
    "    in-degree on the y (just for spread).  All arrows must\n",
    "    point at least slightly to the right if the graph is valid.\n",
    "    \"\"\"\n",
    "    from matplotlib import pyplot as plt\n",
    "    from matplotlib.dates import date2num\n",
    "    from matplotlib.cm import gist_rainbow\n",
    "    print(\"building DAG\")\n",
    "    G = random_dag(nodes, edges)\n",
    "    jobs = {}\n",
    "    pos = {}\n",
    "    colors = {}\n",
    "    for node in G:\n",
    "        jobs[node] = randomwait\n",
    "    \n",
    "    client = parallel.Client()\n",
    "    view = client.load_balanced_view()\n",
    "    print(\"submitting %i tasks with %i dependencies\"%(nodes,edges))\n",
    "    results = submit_jobs(view, G, jobs)\n",
    "    print(\"waiting for results\")\n",
    "    view.wait()\n",
    "    print(\"done\")\n",
    "    for node in G:\n",
    "        md = results[node].metadata\n",
    "        start = date2num(md.started)\n",
    "        runtime = date2num(md.completed) - start\n",
    "        pos[node] = (start, runtime)\n",
    "        colors[node] = md.engine_id\n",
    "    validate_tree(G, results)\n",
    "    nx.draw(G, pos, node_list=list(colors.keys()), node_color=list(colors.values()), cmap=gist_rainbow,\n",
    "            with_labels=False)\n",
    "    x,y = zip(*pos.values())\n",
    "    xmin,ymin = map(min, (x,y))\n",
    "    xmax,ymax = map(max, (x,y))\n",
    "    xscale = xmax-xmin\n",
    "    yscale = ymax-ymin\n",
    "    plt.xlim(xmin-xscale*.1,xmax+xscale*.1)\n",
    "    plt.ylim(ymin-yscale*.1,ymax+yscale*.1)\n",
    "    return G,results"
   ]
  },
  {
   "cell_type": "code",
   "execution_count": null,
   "metadata": {
    "collapsed": false
   },
   "outputs": [],
   "source": [
    "main(32,96)"
   ]
  },
  {
   "cell_type": "code",
   "execution_count": null,
   "metadata": {
    "collapsed": true
   },
   "outputs": [],
   "source": []
  }
 ],
 "metadata": {
  "hide_input": false,
  "kernelspec": {
   "display_name": "Python 3",
   "language": "python",
   "name": "python3"
  },
  "language_info": {
   "codemirror_mode": {
    "name": "ipython",
    "version": 3
   },
   "file_extension": ".py",
   "mimetype": "text/x-python",
   "name": "python",
   "nbconvert_exporter": "python",
   "pygments_lexer": "ipython3",
   "version": "3.4.3"
  },
  "latex_envs": {
   "bibliofile": "biblio.bib",
   "cite_by": "apalike",
   "current_citInitial": 1,
   "eqLabelWithNumbers": true,
   "eqNumInitial": 0
  }
 },
 "nbformat": 4,
 "nbformat_minor": 0
}
