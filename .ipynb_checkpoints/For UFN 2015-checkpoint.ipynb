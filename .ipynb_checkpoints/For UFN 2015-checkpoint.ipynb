{
 "cells": [
  {
   "cell_type": "code",
   "execution_count": 56,
   "metadata": {
    "collapsed": false
   },
   "outputs": [
    {
     "name": "stdout",
     "output_type": "stream",
     "text": [
      "Populating the interactive namespace from numpy and matplotlib\n"
     ]
    }
   ],
   "source": [
    "%pylab inline"
   ]
  },
  {
   "cell_type": "code",
   "execution_count": 180,
   "metadata": {
    "collapsed": false
   },
   "outputs": [],
   "source": [
    "a='{{-0.75,149278.},{-0.6,148046.},{-0.45,141227.},{-0.3,95553.2},{-0.15,47971.3},{0.,37523.3},{0.15,57441.5},{0.3,92801.9},{0.45,122209.},{0.6,138424.},{0.75,144867.}}'"
   ]
  },
  {
   "cell_type": "code",
   "execution_count": 181,
   "metadata": {
    "collapsed": false
   },
   "outputs": [],
   "source": [
    "a = a.replace('{','[')"
   ]
  },
  {
   "cell_type": "code",
   "execution_count": 182,
   "metadata": {
    "collapsed": false
   },
   "outputs": [],
   "source": [
    "a = a.replace('}',']')"
   ]
  },
  {
   "cell_type": "code",
   "execution_count": 183,
   "metadata": {
    "collapsed": false
   },
   "outputs": [
    {
     "data": {
      "text/plain": [
       "'[[-0.75,149278.],[-0.6,148046.],[-0.45,141227.],[-0.3,95553.2],[-0.15,47971.3],[0.,37523.3],[0.15,57441.5],[0.3,92801.9],[0.45,122209.],[0.6,138424.],[0.75,144867.]]'"
      ]
     },
     "execution_count": 183,
     "metadata": {},
     "output_type": "execute_result"
    }
   ],
   "source": [
    "a"
   ]
  },
  {
   "cell_type": "code",
   "execution_count": 184,
   "metadata": {
    "collapsed": true
   },
   "outputs": [],
   "source": [
    "b = eval(a)"
   ]
  },
  {
   "cell_type": "code",
   "execution_count": 172,
   "metadata": {
    "collapsed": false
   },
   "outputs": [
    {
     "data": {
      "text/plain": [
       "[[-0.75, 149278.0],\n",
       " [-0.6, 148046.0],\n",
       " [-0.45, 141227.0],\n",
       " [-0.3, 95553.2],\n",
       " [-0.15, 47971.3],\n",
       " [0.0, 37523.3],\n",
       " [0.15, 57441.5],\n",
       " [0.3, 92801.9],\n",
       " [0.45, 122209.0],\n",
       " [0.6, 138424.0],\n",
       " [0.75, 144867.0]]"
      ]
     },
     "execution_count": 172,
     "metadata": {},
     "output_type": "execute_result"
    }
   ],
   "source": [
    "b"
   ]
  },
  {
   "cell_type": "code",
   "execution_count": 185,
   "metadata": {
    "collapsed": true
   },
   "outputs": [],
   "source": [
    "res = dict()"
   ]
  },
  {
   "cell_type": "code",
   "execution_count": 186,
   "metadata": {
    "collapsed": true
   },
   "outputs": [],
   "source": [
    "res['9 cl lat=on t=20ms a=10db f=417.125']=array(b)"
   ]
  },
  {
   "cell_type": "raw",
   "metadata": {},
   "source": [
    "data = {'13 cl a=10db, t=1ms':b}"
   ]
  },
  {
   "cell_type": "code",
   "execution_count": 21,
   "metadata": {
    "collapsed": false
   },
   "outputs": [],
   "source": [
    "data['23 cl lat=on t=1ms a=15db f=417.125']=b"
   ]
  },
  {
   "cell_type": "code",
   "execution_count": 24,
   "metadata": {
    "collapsed": false
   },
   "outputs": [],
   "source": [
    "data['13 cl lat=on a=10db, t=1ms f=417.125']=data['13 cl a=10db, t=1ms']"
   ]
  },
  {
   "cell_type": "code",
   "execution_count": 28,
   "metadata": {
    "collapsed": false
   },
   "outputs": [
    {
     "data": {
      "text/plain": [
       "[[-0.75, 116323.0],\n",
       " [-0.6, 111897.0],\n",
       " [-0.45, 116149.0],\n",
       " [-0.3, 109411.0],\n",
       " [-0.2, 102661.0],\n",
       " [-0.15, 95839.2],\n",
       " [-0.1, 91372.7],\n",
       " [-0.05, 88645.8],\n",
       " [0.0, 87533.7],\n",
       " [0.05, 92027.3],\n",
       " [0.1, 89629.4],\n",
       " [0.15, 95011.8],\n",
       " [0.2, 100146.0],\n",
       " [0.3, 105454.0],\n",
       " [0.45, 111690.0],\n",
       " [0.6, 116027.0],\n",
       " [0.75, 115547.0]]"
      ]
     },
     "execution_count": 28,
     "metadata": {},
     "output_type": "execute_result"
    }
   ],
   "source": [
    "data.pop('23 cl t=1ms a=15db f=417.125')"
   ]
  },
  {
   "cell_type": "code",
   "execution_count": 29,
   "metadata": {
    "collapsed": false
   },
   "outputs": [
    {
     "data": {
      "text/plain": [
       "{'13 cl lat=on a=10db, t=1ms f=417.125': [[-0.75, 147184.0],\n",
       "  [-0.6, 150399.0],\n",
       "  [-0.45, 150301.0],\n",
       "  [-0.3, 133130.0],\n",
       "  [-0.15, 113698.0],\n",
       "  [0.0, 110529.0],\n",
       "  [0.15, 123086.0],\n",
       "  [0.3, 138822.0],\n",
       "  [0.45, 150726.0],\n",
       "  [0.6, 153909.0],\n",
       "  [0.75, 155667.0]],\n",
       " '23 cl lat=on t=1ms a=15db f=417.125': [[-0.75, 116323.0],\n",
       "  [-0.6, 111897.0],\n",
       "  [-0.45, 116149.0],\n",
       "  [-0.3, 109411.0],\n",
       "  [-0.2, 102661.0],\n",
       "  [-0.15, 95839.2],\n",
       "  [-0.1, 91372.7],\n",
       "  [-0.05, 88645.8],\n",
       "  [0.0, 87533.7],\n",
       "  [0.05, 92027.3],\n",
       "  [0.1, 89629.4],\n",
       "  [0.15, 95011.8],\n",
       "  [0.2, 100146.0],\n",
       "  [0.3, 105454.0],\n",
       "  [0.45, 111690.0],\n",
       "  [0.6, 116027.0],\n",
       "  [0.75, 115547.0]]}"
      ]
     },
     "execution_count": 29,
     "metadata": {},
     "output_type": "execute_result"
    }
   ],
   "source": [
    "data"
   ]
  },
  {
   "cell_type": "code",
   "execution_count": 179,
   "metadata": {
    "collapsed": false,
    "scrolled": true
   },
   "outputs": [
    {
     "data": {
      "image/png": "[encoded data removed]",
      "text/plain": [
       "<matplotlib.figure.Figure at 0x8e20f98>"
      ]
     },
     "metadata": {},
     "output_type": "display_data"
    }
   ],
   "source": [
    "#fig1, ax1 = subplots()\n",
    "for key, value in data.items():\n",
    "    plot(value[:,0],value[:,1],'-o')\n",
    "\n",
    "#plot(list(zip(*data[key]))[0],list(zip(*data[key]))[1],'g-o')"
   ]
  },
  {
   "cell_type": "code",
   "execution_count": 175,
   "metadata": {
    "collapsed": false
   },
   "outputs": [],
   "source": [
    "key =  '9 cl lat=on t=20ms a=10db f=417.125'"
   ]
  },
  {
   "cell_type": "code",
   "execution_count": 176,
   "metadata": {
    "collapsed": true
   },
   "outputs": [],
   "source": [
    "data[key][:,1] /= max(data[key][:,1])"
   ]
  },
  {
   "cell_type": "code",
   "execution_count": 177,
   "metadata": {
    "collapsed": true
   },
   "outputs": [],
   "source": [
    "data[key][:,0] += 417.65 - 417.125\n",
    "data[key][:,0] *= 2\n"
   ]
  },
  {
   "cell_type": "code",
   "execution_count": 178,
   "metadata": {
    "collapsed": false
   },
   "outputs": [
    {
     "data": {
      "text/plain": [
       "{'13 cl lat=on a=10db, t=1ms f=417.125': array([[ 0.15      ,  0.94550547],\n",
       "        [ 0.75      ,  0.96615853],\n",
       "        [ 1.35      ,  0.96552898],\n",
       "        [ 1.95      ,  0.85522301],\n",
       "        [ 2.55      ,  0.73039244],\n",
       "        [ 3.15      ,  0.71003488],\n",
       "        [ 3.75      ,  0.79070066],\n",
       "        [ 4.35      ,  0.89178824],\n",
       "        [ 4.95      ,  0.96825917],\n",
       "        [ 5.55      ,  0.98870666],\n",
       "        [ 6.15      ,  1.        ]]),\n",
       " '23 cl lat=on t=1ms a=15db f=417.125': array([[-0.45      ,  1.        ],\n",
       "        [-0.15      ,  0.96195077],\n",
       "        [ 0.15      ,  0.99850417],\n",
       "        [ 0.45      ,  0.94057925],\n",
       "        [ 0.65      ,  0.88255117],\n",
       "        [ 0.75      ,  0.82390585],\n",
       "        [ 0.85      ,  0.78550845],\n",
       "        [ 0.95      ,  0.76206597],\n",
       "        [ 1.05      ,  0.75250552],\n",
       "        [ 1.15      ,  0.79113589],\n",
       "        [ 1.25      ,  0.77052174],\n",
       "        [ 1.35      ,  0.8167929 ],\n",
       "        [ 1.45      ,  0.86093034],\n",
       "        [ 1.65      ,  0.9065619 ],\n",
       "        [ 1.95      ,  0.96017125],\n",
       "        [ 2.25      ,  0.99745536],\n",
       "        [ 2.55      ,  0.99332892]]),\n",
       " '24 cl lat=off t=1ms a=15db f=417.65': array([[-1.36363636,  0.97788245],\n",
       "        [-1.09090909,  0.95497482],\n",
       "        [-0.81818182,  0.97414751],\n",
       "        [-0.54545455,  0.95689888],\n",
       "        [-0.36363636,  0.93630767],\n",
       "        [-0.27272727,  0.94176295],\n",
       "        [-0.18181818,  0.88558796],\n",
       "        [-0.09090909,  0.84248903],\n",
       "        [ 0.        ,  0.86132217],\n",
       "        [ 0.09090909,  0.89760767],\n",
       "        [ 0.18181818,  0.92732873],\n",
       "        [ 0.27272727,  0.94504517],\n",
       "        [ 0.36363636,  0.96338787],\n",
       "        [ 0.54545455,  0.9856315 ],\n",
       "        [ 0.81818182,  0.97462286],\n",
       "        [ 1.09090909,  1.01010101],\n",
       "        [ 1.36363636,  1.00119752]]),\n",
       " '9 cl lat=on t=20ms a=10db f=417.125': array([[-0.45      ,  1.        ],\n",
       "        [-0.15      ,  0.99174694],\n",
       "        [ 0.15      ,  0.94606707],\n",
       "        [ 0.45      ,  0.64010236],\n",
       "        [ 0.75      ,  0.32135546],\n",
       "        [ 1.05      ,  0.25136524],\n",
       "        [ 1.35      ,  0.38479548],\n",
       "        [ 1.65      ,  0.62167165],\n",
       "        [ 1.95      ,  0.81866718],\n",
       "        [ 2.25      ,  0.92729002],\n",
       "        [ 2.55      ,  0.9704511 ]])}"
      ]
     },
     "execution_count": 178,
     "metadata": {},
     "output_type": "execute_result"
    }
   ],
   "source": [
    "data"
   ]
  },
  {
   "cell_type": "code",
   "execution_count": 173,
   "metadata": {
    "collapsed": false
   },
   "outputs": [],
   "source": [
    "c = array(b)"
   ]
  },
  {
   "cell_type": "code",
   "execution_count": 174,
   "metadata": {
    "collapsed": true
   },
   "outputs": [],
   "source": [
    "data['9 cl lat=on t=20ms a=10db f=417.125']=c"
   ]
  },
  {
   "cell_type": "code",
   "execution_count": null,
   "metadata": {
    "collapsed": true
   },
   "outputs": [],
   "source": []
  }
 ],
 "metadata": {
  "kernelspec": {
   "display_name": "Python 3",
   "language": "python",
   "name": "python3"
  },
  "language_info": {
   "codemirror_mode": {
    "name": "ipython",
    "version": 3
   },
   "file_extension": ".py",
   "mimetype": "text/x-python",
   "name": "python",
   "nbconvert_exporter": "python",
   "pygments_lexer": "ipython3",
   "version": "3.4.3"
  }
 },
 "nbformat": 4,
 "nbformat_minor": 0
}
