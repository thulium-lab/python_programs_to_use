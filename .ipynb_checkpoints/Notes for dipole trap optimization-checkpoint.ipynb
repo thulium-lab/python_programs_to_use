{
 "cells": [
  {
   "cell_type": "code",
   "execution_count": 2,
   "metadata": {
    "collapsed": false
   },
   "outputs": [
    {
     "name": "stdout",
     "output_type": "stream",
     "text": [
      "Populating the interactive namespace from numpy and matplotlib\n"
     ]
    }
   ],
   "source": [
    "%pylab inline\n",
    "import scipy.constants as ct"
   ]
  },
  {
   "cell_type": "markdown",
   "metadata": {},
   "source": [
    "Из нашей статьи формула для поляризуемости уровня, глубины и скорости нерезонансного рассеяния\n",
    "\n",
    "$$\\alpha_{Fm}(\\omega)=\\frac{3}{2} \\frac{c^3}{a_0^3} \\sum_{F'}\\frac{2F_u+1}{(\\omega_{F'F})^2}\n",
    "\t\\left(\n",
    "\t\t\\begin{matrix}\n",
    "\t\t\tF_u & 1 & F_d\\\\\n",
    "\t\t\t-m  & 0  & m\n",
    "\t\t\\end{matrix}\n",
    "\t\\right)^2\n",
    " \\times \\frac{A_{F_u \\to F_d}}{(\\omega_{F'F})^2-\\omega^2}$$\n",
    " \n",
    "$$ U\\,[\\text{K}] = \\alpha[\\text{a.u.}]\\frac{2\\pi a_0^3}{c\\,k_B}I\\,[\\text{W/m$^2$}]$$\n",
    "\n",
    "$$\\Gamma(\\omega)_{0\\rightarrow 0} = I \\sum \\limits_{F'} \\frac{\\omega_{F'F}^2+\\omega^2}{\\left[\\omega_{F'F}^2-\\omega^2 \\right]^2}\n",
    " \\frac{3\\pi c^2\\,A_{F' \\rightarrow F}}{\\hbar \\omega_{F'F}^3} \n",
    "\\times\n",
    "\\left(\n",
    "\t\t\\begin{matrix}\n",
    "\t\t\tF_u & 1 & F_d\\\\\n",
    "\t\t\t0 & 0  & 0\n",
    "\t\t\\end{matrix}\n",
    "\t\\right)^2 (2F_u+1) \\Gamma_{F_u}$$\n",
    "    \n",
    "Судя по всему, смещение уровня в единицах будет \n",
    "\n",
    "$$ \\delta\\nu_{level} = \\gamma\\frac{s}{\\delta\\nu_{laser}/\\gamma} $$\n",
    "\n",
    "а скорость рассеяния \n",
    "$$ \\Gamma_{scattering} = \\Gamma\\frac{s}{(\\delta\\nu_{laser}/\\gamma)^2}$$\n",
    "\n",
    "Интенсивность насыщения для зеленого 0.32 мВт/см2"
   ]
  },
  {
   "cell_type": "code",
   "execution_count": null,
   "metadata": {
    "collapsed": true
   },
   "outputs": [],
   "source": []
  }
 ],
 "metadata": {
  "hide_input": false,
  "kernelspec": {
   "display_name": "Python 3",
   "language": "python",
   "name": "python3"
  },
  "language_info": {
   "codemirror_mode": {
    "name": "ipython",
    "version": 3
   },
   "file_extension": ".py",
   "mimetype": "text/x-python",
   "name": "python",
   "nbconvert_exporter": "python",
   "pygments_lexer": "ipython3",
   "version": "3.5.1"
  },
  "latex_envs": {
   "bibliofile": "biblio.bib",
   "cite_by": "apalike",
   "current_citInitial": 1,
   "eqLabelWithNumbers": true,
   "eqNumInitial": 0
  }
 },
 "nbformat": 4,
 "nbformat_minor": 0
}
