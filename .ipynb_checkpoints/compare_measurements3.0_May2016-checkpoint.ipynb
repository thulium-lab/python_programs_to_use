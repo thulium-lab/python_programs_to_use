{
 "cells": [
  {
   "cell_type": "code",
   "execution_count": 110,
   "metadata": {
    "collapsed": true
   },
   "outputs": [],
   "source": [
    "'''Last modified 11.02.2016\n",
    "    Added mongoDB functionality - one can query any data he wants DESCRIBE HOW TO DO THIS\n",
    "    Pandas table can be used\n",
    "09.02.2016\n",
    "Nothing changed, database and pandas functionality should be added!!!\n",
    "''';"
   ]
  },
  {
   "cell_type": "code",
   "execution_count": 111,
   "metadata": {
    "collapsed": false
   },
   "outputs": [
    {
     "name": "stdout",
     "output_type": "stream",
     "text": [
      "Populating the interactive namespace from numpy and matplotlib\n"
     ]
    },
    {
     "name": "stderr",
     "output_type": "stream",
     "text": [
      "WARNING: pylab import has clobbered these variables: ['interactive']\n",
      "`%matplotlib` prevents importing * from pylab and numpy\n"
     ]
    }
   ],
   "source": [
    "%pylab inline"
   ]
  },
  {
   "cell_type": "code",
   "execution_count": 112,
   "metadata": {
    "collapsed": false
   },
   "outputs": [],
   "source": [
    "# imports\n",
    "\n",
    "import sys\n",
    "import os\n",
    "par_dir = os.path.split(os.getcwd())[0]\n",
    "if par_dir not in sys.path:\n",
    "    sys.path.append(par_dir)\n",
    "# sys.path.append(r'/Users/artemgolovizin/GitHub')\n",
    "from scipy.optimize import curve_fit\n",
    "import inspect\n",
    "import pickle\n",
    "import imp\n",
    "import re\n",
    "import json\n",
    "import pandas as pd\n",
    "\n",
    "from IPython.html import widgets\n",
    "from IPython.display import display\n",
    "from IPython.html.widgets import interact, interactive, fixed\n",
    "\n",
    "import thulium_python_lib.usefull_functions as usfuncs\n",
    "import thulium_python_lib.image_processing_new as impr\n",
    "\n",
    "import ipyparallel as ipp\n",
    "ipp.CompositeError.tb_limit = 1\n",
    "\n",
    "rc1 = ipp.Client()\n",
    "lview = rc1.load_balanced_view()\n",
    "dview = rc1.direct_view()\n",
    "dview['par_dir'] = par_dir\n",
    "# with dview.sync_imports():\n",
    "#     import sys, os    \n",
    "%px import sys, os\n",
    "%px if par_dir not in sys.path: sys.path.append(par_dir)\n",
    "%px import thulium_python_lib.image_processing_new as impr\n",
    "%px import imp\n",
    "%px from ipyparallel import bind_kernel; bind_kernel()\n",
    "\n",
    "import datetime\n",
    "import pymongo\n",
    "from pymongo import MongoClient\n",
    "from bson.objectid import ObjectId\n",
    "\n",
    "# start mongoDB client (mongod server should be launched)\n",
    "client = MongoClient('mongodb://192.168.1.15:27017/')\n",
    "meas_database = client.measData.meas_data"
   ]
  },
  {
   "cell_type": "code",
   "execution_count": 113,
   "metadata": {
    "collapsed": false
   },
   "outputs": [],
   "source": [
    "# to reload library on remote and local engine\n",
    "# %px imp.reload(impr)\n",
    "# imp.reload(impr)\n",
    "# imp.reload(usfuncs)"
   ]
  },
  {
   "cell_type": "code",
   "execution_count": 114,
   "metadata": {
    "collapsed": false
   },
   "outputs": [
    {
     "name": "stdout",
     "output_type": "stream",
     "text": [
      "labels ['time, ms', 'cloud size, $\\\\mu$ m']\n",
      "date_mod 2016-02-17 20:06:09.161000\n",
      "fits [['cloud_expansion0', [19.816501341204766, 152.43184542799173], [0.6413380008178314, 5.739105518065976]], ['cloud_expansion0', [24.139888542898642, 147.838330150716], [0.9166872176748898, 7.933416631048896]]]\n",
      "meas_type T\n",
      "folder 01 T shutter=on f=363.5/\n",
      "date_meas 2016-02-17 00:00:00\n",
      "conf_params {'F': '363.5/', 'SHUTTER': 'on'}\n",
      "avr_table_pickle b'K\\x0fK\\x10K\\x01\\x87\\x94R\\x94ueust\\x94bub.'\n",
      "_id 56c4a881f9b7ab11ac20f53f\n",
      "\n",
      "\n",
      "labels ['time, ms', 'cloud size, $\\\\mu$ m']\n",
      "date_mod 2016-02-17 20:18:42.985000\n",
      "fits [['cloud_expansion0', [11.619547955718934, 331.8274671556903], [0.8787287273173744, 11.945153992281387]], ['cloud_expansion0', [24.010426711234615, 247.78227926514674], [0.38894044870259725, 5.2918034767654785]]]\n",
      "meas_type T\n",
      "folder 03 T shutter=on f=363.3 amp=1/\n",
      "date_meas 2016-02-17 00:00:00\n",
      "conf_params {'F': '363.3', 'SHUTTER': 'on', 'AMP': '1/'}\n",
      "avr_table_pickle b'K\\x0fK\\x10K\\x01\\x87\\x94R\\x94ueust\\x94bub.'\n",
      "_id 56c4ab72f9b7ab11ac20f541\n",
      "\n",
      "\n"
     ]
    }
   ],
   "source": [
    "# OLD part for getting data from mongoDB\n",
    "coursor = meas_database.find({'conf_params.SHUTTER':'on','meas_type':'T'})\n",
    "tables = []\n",
    "for item in coursor:\n",
    "    for key in item:\n",
    "        if(key == 'avr_table_pickle'):\n",
    "            tables.append(pickle.loads(item[key]))\n",
    "            print(key,item[key][-20:])\n",
    "        else:\n",
    "            print(key,item[key])\n",
    "    print('\\n')"
   ]
  },
  {
   "cell_type": "code",
   "execution_count": 115,
   "metadata": {
    "collapsed": false
   },
   "outputs": [
    {
     "name": "stdout",
     "output_type": "stream",
     "text": [
      "dict_keys(['date_mod', 'labels', 'fits', 'avr_table_pickle', 'folder', 'date_meas', 'conf_params', 'meas_type', '_id'])\n"
     ]
    }
   ],
   "source": [
    "mmm = meas_database.find_one()\n",
    "print(mmm.keys())"
   ]
  },
  {
   "cell_type": "code",
   "execution_count": 116,
   "metadata": {
    "collapsed": false
   },
   "outputs": [
    {
     "data": {
      "text/plain": [
       "True"
      ]
     },
     "execution_count": 116,
     "metadata": {},
     "output_type": "execute_result"
    }
   ],
   "source": [
    "datetime.datetime(2016, 2, 4, 0, 0) < datetime.datetime(2017, 2, 4, 0, 0)"
   ]
  },
  {
   "cell_type": "code",
   "execution_count": 117,
   "metadata": {
    "collapsed": false
   },
   "outputs": [
    {
     "data": {
      "text/plain": [
       "datetime.datetime(2016, 2, 4, 0, 0)"
      ]
     },
     "execution_count": 117,
     "metadata": {},
     "output_type": "execute_result"
    }
   ],
   "source": [
    "mmm['date_meas']"
   ]
  },
  {
   "cell_type": "code",
   "execution_count": 118,
   "metadata": {
    "collapsed": false
   },
   "outputs": [],
   "source": [
    "x = copy(data)"
   ]
  },
  {
   "cell_type": "code",
   "execution_count": 171,
   "metadata": {
    "collapsed": false
   },
   "outputs": [
    {
     "data": {
      "text/plain": [
       "<pymongo.results.DeleteResult at 0x8104870>"
      ]
     },
     "execution_count": 171,
     "metadata": {},
     "output_type": "execute_result"
    }
   ],
   "source": [
    "meas_database.delete_one({'_id': ObjectId('57054a950aad402528297512')})"
   ]
  },
  {
   "cell_type": "code",
   "execution_count": 172,
   "metadata": {
    "collapsed": false,
    "scrolled": false
   },
   "outputs": [
    {
     "name": "stdout",
     "output_type": "stream",
     "text": [
      "0 date= 2015-07-01 folder= 19 T f=364.52 a=0dBm/\n",
      "\n",
      "\n",
      "1 date= 2015-07-01 folder= 20 as 19 f=364.50/\n",
      "\n",
      "\n",
      "2 date= 2015-07-01 folder= 21 as 19 f=364.48/\n",
      "\n",
      "\n",
      "3 date= 2015-07-01 folder= 22 as 19 f=364.40/\n",
      "\n",
      "\n",
      "4 date= 2015-07-01 folder= 23 as 19 f=364.30/\n",
      "\n",
      "\n",
      "5 date= 2015-07-01 folder= 24 as 19 f=364.20/\n",
      "\n",
      "\n",
      "6 date= 2015-07-01 folder= 25 as 19 f=364.10/\n",
      "\n",
      "\n",
      "7 date= 2015-07-01 folder= 26 as 19 f=364.00/\n",
      "\n",
      "\n",
      "8 date= 2015-07-01 folder= 27 as 19 f=363.70/\n",
      "\n",
      "\n",
      "9 date= 2015-07-01 folder= 28 as 19 f=363.40/\n",
      "\n",
      "\n",
      "10 date= 2015-07-01 folder= 29 as 19 f=364.5/\n",
      "\n",
      "\n",
      "11 date= 2015-07-01 folder= 30 as 19 f=363.4/\n",
      "\n",
      "\n",
      "12 date= 2015-07-01 folder= 32 as 19 f=364.5 iy=0.88/\n",
      "\n",
      "\n",
      "13 date= 2015-07-01 folder= 33 as 19 f=363.4/\n",
      "\n",
      "\n"
     ]
    }
   ],
   "source": [
    "# get data from mongo db and print folders names and dates\n",
    "coursor = meas_database.find()\n",
    "coursor = meas_database.find({'date_meas':datetime.datetime(2015, 7, 1, 0, 0), 'meas_type':'T', 'conf_params.A': { '$in': ['0dBm','0dBm/'] } }) #\n",
    "data = []\n",
    "for item in coursor:\n",
    "    data.append(item.copy())\n",
    "    data[-1]['avr_table']=pickle.loads(item['avr_table_pickle'])\n",
    "    del data[-1]['avr_table_pickle']\n",
    "    print(len(data)-1, 'date=',data[-1]['date_meas'].date(), 'folder=',data[-1]['folder'])\n",
    "#     print(data[-1]['conf_params'])\n",
    "#     print(data[-1]['_id'])\n",
    "#     for key in item:\n",
    "#         if(key == 'avr_table_pickle'):\n",
    "#             tables.append(pickle.loads(item[key]))\n",
    "#             print(key,item[key][-20:])\n",
    "#         else:\n",
    "#             print(key,item[key])\n",
    "    print('\\n')"
   ]
  },
  {
   "cell_type": "code",
   "execution_count": 173,
   "metadata": {
    "collapsed": false
   },
   "outputs": [
    {
     "data": {
      "text/plain": [
       "{'_id': ObjectId('57054aa50aad402528297513'),\n",
       " 'avr_table':   folder type     total_std          fit2D                           \\\n",
       "                                          N          y0           x0   \n",
       " 0      0    1  21121.261216  103983.668000  716.877867  1206.371777   \n",
       " 1      1    1  16766.554517  109813.131858  718.044004  1210.668707   \n",
       " 2      2    1  24544.832874  118596.954988  717.660775  1209.130142   \n",
       " 3      3    1  24672.608897  117341.068418  729.074047  1209.044129   \n",
       " 4      4    1  20495.154079  115889.138454  759.470458  1213.268149   \n",
       " 5      5    1  15705.090913  109775.098215  796.462783  1217.213852   \n",
       " 6      6    1  11663.458979  111167.517151  837.771397  1214.468250   \n",
       " 7      7    1  26535.970905  102496.308479  906.685296  1226.112590   \n",
       " 8      8    1  18900.411272   96657.911833  971.571473  1231.702527   \n",
       " \n",
       "                                       fit1D_y_std     ...         fit1D_y  \\\n",
       "       sigma_y     sigma_x      bgnd             N     ...           sigma   \n",
       " 0  103.218084   94.414961  0.564844   9280.571132     ...      121.537055   \n",
       " 1  119.757266  103.671621  0.503527   6680.064574     ...      141.292152   \n",
       " 2  151.564056  126.584689  0.462172  11072.885867     ...      163.867756   \n",
       " 3  181.762375  151.306680  0.355304  13690.600982     ...      192.166581   \n",
       " 4  219.305570  185.147834  0.451911   9737.620270     ...      223.959414   \n",
       " 5  255.888838  215.741413  0.267306  11147.733032     ...      269.320522   \n",
       " 6  289.656192  249.135691  0.280981  14956.649423     ...      311.191485   \n",
       " 7  330.478077  280.474361  0.301994  21656.195132     ...      358.287987   \n",
       " 8  375.298057  309.220740  0.259580   9519.765582     ...      399.989178   \n",
       " \n",
       "                 fit1D_x_std                                   fit1D_x_mean  \\\n",
       "          bgnd             N        x0      sigma       bgnd              N   \n",
       " 0  122.387069   8641.691866  2.583102   2.775192  53.440622  126221.016032   \n",
       " 1  110.546935   8260.171962  1.611234   2.053239  53.057685  127858.323097   \n",
       " 2  111.357130  12333.988446  3.191727   3.151996  72.386019  133175.605291   \n",
       " 3   79.625156  12707.894371  3.683884   3.949221  53.484708  127784.944782   \n",
       " 4  110.399127  12813.031929  4.669698   6.246323  53.162322  126336.388212   \n",
       " 5   47.318921   8611.365390  5.017787   6.752470  56.335054  117566.944717   \n",
       " 6   61.335351  11300.122148  3.125175   7.491153  30.506358  121349.657059   \n",
       " 7   67.002323  13979.505807  7.148033  12.537198  52.813617  111956.858061   \n",
       " 8   61.868454  13556.085057  7.568689  12.071093  45.921506  107079.381769   \n",
       " \n",
       "                                         \n",
       "             x0       sigma        bgnd  \n",
       " 0  1207.123120  107.893075  151.573736  \n",
       " 1  1211.878548  114.145362  141.336701  \n",
       " 2  1209.777220  136.992945  136.667402  \n",
       " 3  1209.434208  160.134339  107.736444  \n",
       " 4  1214.916414  194.400883  146.947038  \n",
       " 5  1216.773595  224.429949   81.280054  \n",
       " 6  1212.744813  260.251746   78.469029  \n",
       " 7  1222.212778  295.901835   89.513927  \n",
       " 8  1230.972207  331.522371   68.911943  \n",
       " \n",
       " [9 rows x 38 columns],\n",
       " 'conf_params': {'A': '0dBm', 'F': '364.5', 'IY': '0.88/'},\n",
       " 'date_meas': datetime.datetime(2015, 7, 1, 0, 0),\n",
       " 'date_mod': datetime.datetime(2016, 4, 6, 20, 43, 1, 683000),\n",
       " 'fits': [['cloud_expansion0',\n",
       "   [15.794658248970784, 109.11054821189288],\n",
       "   [0.13258216878213336, 1.067298059846817]],\n",
       "  ['cloud_expansion0',\n",
       "   [22.870676506429152, 127.9236280128679],\n",
       "   [0.36181345144507704, 2.4523867055645545]]],\n",
       " 'folder': '32 as 19 f=364.5 iy=0.88/',\n",
       " 'labels': ['time, ms', 'cloud radius, $\\\\mu$ m'],\n",
       " 'meas_type': 'T'}"
      ]
     },
     "execution_count": 173,
     "metadata": {},
     "output_type": "execute_result"
    }
   ],
   "source": [
    "data[12]"
   ]
  },
  {
   "cell_type": "code",
   "execution_count": 174,
   "metadata": {
    "collapsed": false
   },
   "outputs": [
    {
     "data": {
      "text/plain": [
       "[<matplotlib.lines.Line2D at 0x13cfe978>]"
      ]
     },
     "execution_count": 174,
     "metadata": {},
     "output_type": "execute_result"
    },
    {
     "data": {
      "image/png": "[encoded data removed]",
      "text/plain": [
       "<matplotlib.figure.Figure at 0x80ca048>"
      ]
     },
     "metadata": {},
     "output_type": "display_data"
    }
   ],
   "source": [
    "xx46 = []\n",
    "Ty46 = []\n",
    "Tx46 = []\n",
    "Na46 = []\n",
    "for d in data:\n",
    "    xx46.append(float(re.findall(r\"[-+]?\\d*\\.\\d+|\\d+\",d['conf_params']['F'])[-1]))\n",
    "    Tx46.append(d['fits'][0][1][0])\n",
    "    Ty46.append(d['fits'][1][1][0])\n",
    "    Na46.append(d['avr_table']['fit1D_x']['N'][0])\n",
    "\n",
    "xx46 =  array(xx46)\n",
    "xx46 = 2*(364.7 - xx46)\n",
    "figsize(10,5)\n",
    "plot(xx46,Na46,'o')"
   ]
  },
  {
   "cell_type": "code",
   "execution_count": 186,
   "metadata": {
    "collapsed": false
   },
   "outputs": [
    {
     "data": {
      "text/plain": [
       "<matplotlib.legend.Legend at 0x18c5dd68>"
      ]
     },
     "execution_count": 186,
     "metadata": {},
     "output_type": "execute_result"
    },
    {
     "data": {
      "image/png": "[encoded data removed]",
      "text/plain": [
       "<matplotlib.figure.Figure at 0x17646dd8>"
      ]
     },
     "metadata": {},
     "output_type": "display_data"
    }
   ],
   "source": [
    "figsize(10,25)\n",
    "subplot(4,1,1)\n",
    "plot(xx110,Na110,'o')\n",
    "plot(xx75,Na75,'o')\n",
    "#plot(xx46,Na46,'o')\n",
    "plot(xx30,Na30,'o')\n",
    "plot(xx20,Na20,'o')\n",
    "ylim(bottom=0)\n",
    "xlabel('δ, МГц', fontsize=14, family=\"verdana\")\n",
    "ylabel('Число атомов', fontsize=14, family=\"verdana\")\n",
    "title('Число атомов от отстройки',fontsize=14,family='verdana')\n",
    "legend(['s=0,5','s=0,3','s=0,13','s=0,09'])\n",
    "subplot(4,1,2)\n",
    "plot(xx110,Tx110,'bo')\n",
    "plot(xx110,Ty110,'ro')\n",
    "subplot(4,1,3)\n",
    "plot(xx110,Tx110,'o')\n",
    "#plot(xx75,Tx75,'o')\n",
    "#plot(xx46,Tx46,'o')\n",
    "plot(xx30,Tx30,'o')\n",
    "#plot(xx20,Tx20,'o')\n",
    "legend('12345')\n",
    "subplot(4,1,4)\n",
    "plot(xx110,Ty110,'o')\n",
    "#plot(xx75,Ty75,'o')\n",
    "#plot(xx46,Ty46,'o')\n",
    "plot(xx30,Ty30,'o')\n",
    "#plot(xx20,Ty20,'o')\n",
    "legend('12345')\n",
    "#tmp = Ty75.argsort()\n",
    "#sortedPeople = people[inds]\n",
    "\n",
    "#plot(xx110,Ty110)\n",
    "#plot(xx75,Ty75)\n",
    "#plot(xx46,Ty46,)\n",
    "#plot(xx30,Ty30)\n",
    "#plot(xx20,Ty20)\n",
    "#legend('12345')"
   ]
  },
  {
   "cell_type": "code",
   "execution_count": 146,
   "metadata": {
    "collapsed": false
   },
   "outputs": [
    {
     "name": "stdout",
     "output_type": "stream",
     "text": [
      "Help on function sort in module numpy.core.fromnumeric:\n",
      "\n",
      "sort(a, axis=-1, kind='quicksort', order=None)\n",
      "    Return a sorted copy of an array.\n",
      "    \n",
      "    Parameters\n",
      "    ----------\n",
      "    a : array_like\n",
      "        Array to be sorted.\n",
      "    axis : int or None, optional\n",
      "        Axis along which to sort. If None, the array is flattened before\n",
      "        sorting. The default is -1, which sorts along the last axis.\n",
      "    kind : {'quicksort', 'mergesort', 'heapsort'}, optional\n",
      "        Sorting algorithm. Default is 'quicksort'.\n",
      "    order : str or list of str, optional\n",
      "        When `a` is an array with fields defined, this argument specifies\n",
      "        which fields to compare first, second, etc.  A single field can\n",
      "        be specified as a string, and not all fields need be specified,\n",
      "        but unspecified fields will still be used, in the order in which\n",
      "        they come up in the dtype, to break ties.\n",
      "    \n",
      "    Returns\n",
      "    -------\n",
      "    sorted_array : ndarray\n",
      "        Array of the same type and shape as `a`.\n",
      "    \n",
      "    See Also\n",
      "    --------\n",
      "    ndarray.sort : Method to sort an array in-place.\n",
      "    argsort : Indirect sort.\n",
      "    lexsort : Indirect stable sort on multiple keys.\n",
      "    searchsorted : Find elements in a sorted array.\n",
      "    partition : Partial sort.\n",
      "    \n",
      "    Notes\n",
      "    -----\n",
      "    The various sorting algorithms are characterized by their average speed,\n",
      "    worst case performance, work space size, and whether they are stable. A\n",
      "    stable sort keeps items with the same key in the same relative\n",
      "    order. The three available algorithms have the following\n",
      "    properties:\n",
      "    \n",
      "    =========== ======= ============= ============ =======\n",
      "       kind      speed   worst case    work space  stable\n",
      "    =========== ======= ============= ============ =======\n",
      "    'quicksort'    1     O(n^2)            0          no\n",
      "    'mergesort'    2     O(n*log(n))      ~n/2        yes\n",
      "    'heapsort'     3     O(n*log(n))       0          no\n",
      "    =========== ======= ============= ============ =======\n",
      "    \n",
      "    All the sort algorithms make temporary copies of the data when\n",
      "    sorting along any but the last axis.  Consequently, sorting along\n",
      "    the last axis is faster and uses less space than sorting along\n",
      "    any other axis.\n",
      "    \n",
      "    The sort order for complex numbers is lexicographic. If both the real\n",
      "    and imaginary parts are non-nan then the order is determined by the\n",
      "    real parts except when they are equal, in which case the order is\n",
      "    determined by the imaginary parts.\n",
      "    \n",
      "    Previous to numpy 1.4.0 sorting real and complex arrays containing nan\n",
      "    values led to undefined behaviour. In numpy versions >= 1.4.0 nan\n",
      "    values are sorted to the end. The extended sort order is:\n",
      "    \n",
      "      * Real: [R, nan]\n",
      "      * Complex: [R + Rj, R + nanj, nan + Rj, nan + nanj]\n",
      "    \n",
      "    where R is a non-nan real value. Complex values with the same nan\n",
      "    placements are sorted according to the non-nan part if it exists.\n",
      "    Non-nan values are sorted as before.\n",
      "    \n",
      "    Examples\n",
      "    --------\n",
      "    >>> a = np.array([[1,4],[3,1]])\n",
      "    >>> np.sort(a)                # sort along the last axis\n",
      "    array([[1, 4],\n",
      "           [1, 3]])\n",
      "    >>> np.sort(a, axis=None)     # sort the flattened array\n",
      "    array([1, 1, 3, 4])\n",
      "    >>> np.sort(a, axis=0)        # sort along the first axis\n",
      "    array([[1, 1],\n",
      "           [3, 4]])\n",
      "    \n",
      "    Use the `order` keyword to specify a field to use when sorting a\n",
      "    structured array:\n",
      "    \n",
      "    >>> dtype = [('name', 'S10'), ('height', float), ('age', int)]\n",
      "    >>> values = [('Arthur', 1.8, 41), ('Lancelot', 1.9, 38),\n",
      "    ...           ('Galahad', 1.7, 38)]\n",
      "    >>> a = np.array(values, dtype=dtype)       # create a structured array\n",
      "    >>> np.sort(a, order='height')                        # doctest: +SKIP\n",
      "    array([('Galahad', 1.7, 38), ('Arthur', 1.8, 41),\n",
      "           ('Lancelot', 1.8999999999999999, 38)],\n",
      "          dtype=[('name', '|S10'), ('height', '<f8'), ('age', '<i4')])\n",
      "    \n",
      "    Sort by age, then height if ages are equal:\n",
      "    \n",
      "    >>> np.sort(a, order=['age', 'height'])               # doctest: +SKIP\n",
      "    array([('Galahad', 1.7, 38), ('Lancelot', 1.8999999999999999, 38),\n",
      "           ('Arthur', 1.8, 41)],\n",
      "          dtype=[('name', '|S10'), ('height', '<f8'), ('age', '<i4')])\n",
      "\n"
     ]
    }
   ],
   "source": [
    "help(sort)\n"
   ]
  },
  {
   "cell_type": "code",
   "execution_count": null,
   "metadata": {
    "collapsed": false
   },
   "outputs": [],
   "source": [
    "# Шаблон\n",
    "xx = []\n",
    "yy = []\n",
    "for d in data:\n",
    "    tbl = d['avr_table']\n",
    "    x = tbl.folder\n",
    "    y = tbl.fit1D_x.sigma\n",
    "    ff = d['fits'][0]\n",
    "    fit_func = usfuncs.cloud_expansion0\n",
    "    plot(x,fit_func(x,*ff[1]))\n",
    "    plot(x,y,'o',label=d['date_meas'])\n",
    "legend()\n",
    "ylim(bottom=0)"
   ]
  },
  {
   "cell_type": "code",
   "execution_count": null,
   "metadata": {
    "collapsed": true
   },
   "outputs": [],
   "source": [
    "os.chdir(r'/Users/artemgolovizin/Downloads/2015_12_01')"
   ]
  },
  {
   "cell_type": "code",
   "execution_count": null,
   "metadata": {
    "collapsed": true
   },
   "outputs": [],
   "source": [
    "old_ks = dict()"
   ]
  },
  {
   "cell_type": "code",
   "execution_count": null,
   "metadata": {
    "collapsed": true
   },
   "outputs": [],
   "source": [
    "with open('all_data.txt', 'rb') as handle:\n",
    "    data = pickle.loads(handle.read())"
   ]
  },
  {
   "cell_type": "code",
   "execution_count": null,
   "metadata": {
    "collapsed": false
   },
   "outputs": [],
   "source": [
    "data.keys()"
   ]
  },
  {
   "cell_type": "code",
   "execution_count": null,
   "metadata": {
    "collapsed": false
   },
   "outputs": [],
   "source": [
    "data['01 t']"
   ]
  },
  {
   "cell_type": "code",
   "execution_count": null,
   "metadata": {
    "collapsed": false
   },
   "outputs": [],
   "source": [
    "with open('all_data.txt', 'rb') as handle:\n",
    "    data = pickle.loads(handle.read())\n",
    "shot_typeN = 1\n",
    "ks = list(data.keys())\n",
    "ks.sort()\n",
    "ch_boxes = dict()\n",
    "ks_n = []\n",
    "for k in ks:\n",
    "    # optional - uncomment line below to sift only keys with specific marker, as 'CL'\n",
    "#    if 'CL' not in k.upper(): continue\n",
    "    ch_boxes[k]=old_ks.get(k,True)\n",
    "    ks_n.append(k)\n",
    "ks = ks_n\n",
    "fg = None   \n",
    "def plot_gr(l_pos,**ar):\n",
    "    fig,ax = subplots() \n",
    "    global fg, old_ks\n",
    "    old_ks = dict()\n",
    "    for k in ks:\n",
    "        old_ks[k]=ar[k]\n",
    "        if ar[k]:\n",
    "            d1 = impr.get_avr_data(data[k]['data'], shot_typeN, 'fit1D_x',2)\n",
    "            errorbar(**d1)\n",
    "#             d1['fmt']='ro'\n",
    "#             d1['label']='fit1D_x'\n",
    "#             val=datat[k]\n",
    "#             x,y=impr.data2_sort(val[0],val[1])\n",
    "#             # here it's time to modify data\n",
    "# #             x = mod_from_AOM_to_real_freq(x, k, 420)\n",
    "#             #x,y = x[1:],y[1:]\n",
    "#             ax.plot(x,y,'-*',label=k)\n",
    "    legend(bbox_to_anchor=(1.05, 1), loc=2, borderaxespad=0., fontsize=15)\n",
    "    #xscale('log')\n",
    "    #xlabel('Current, A')\n",
    "    #xlabel('AOM frequency, MHz')\n",
    "    xlabel('detuning, MHz') #in real frequencyes\n",
    "    ylabel('atoms number, a.u.')\n",
    "    ylim(bottom=0)\n",
    "    #start, end = ax.get_xlim()\n",
    "    #print(ax.get_xlim())\n",
    "    #ax.xaxis.set_ticks(arange(start, end, 0.1))\n",
    "    #axvline(x=l_pos)\n",
    "    fg = fig\n",
    "    \n",
    "ter = interactive(plot_gr,l_pos=(150,250,0.1),**ch_boxes)\n",
    "ter.box_style='info'\n",
    "display(ter)"
   ]
  },
  {
   "cell_type": "code",
   "execution_count": null,
   "metadata": {
    "collapsed": false
   },
   "outputs": [],
   "source": [
    "help(interactive)"
   ]
  },
  {
   "cell_type": "markdown",
   "metadata": {},
   "source": [
    "###For managing clock line shift and broadening"
   ]
  },
  {
   "cell_type": "raw",
   "metadata": {},
   "source": [
    "c_freq = 420 # MHz\n",
    "working_keys = [x for x in old_ks if old_ks[x]]\n",
    "print(working_keys)\n",
    "val1 = []\n",
    "val2 = []\n",
    "for key in working_keys:\n",
    "    # get fit data\n",
    "    popt = res_dict[key][2]\n",
    "    for s0 in key.rstrip(r'\\/ ').split():\n",
    "        if '=' in s0:\n",
    "            s1 = s0.split('=')\n",
    "            # here one can extract data from folder name of patten 'var=val'\n",
    "            if s1[0] == 'mod' or s1[0] == 'min':\n",
    "                val1.append((float(s1[1]), popt[1]))\n",
    "                val2.append((float(s1[1]), popt[2]))\n",
    "fig3, ax3 = subplots(1,2,figsize=(12,6))\n",
    "x, y = list(zip(*val1))\n",
    "y = mod_from_AOM_to_real_freq(array(y), 'CL', c_freq)\n",
    "ax3[0].plot(x,y,'*r',ms=10)\n",
    "ax3[0].set_title('shift (center frequency=' + str(c_freq) + 'MHz)')\n",
    "ax3[0].set_ylabel('shift, MHz')\n",
    "ax3[0].set_xlabel('power, W')\n",
    "x, y = list(zip(*val2))\n",
    "ax3[1].set_title('width')\n",
    "ax3[1].set_ylabel('width, MHz')\n",
    "ax3[1].set_xlabel('power, W')\n",
    "ax3[1].plot(x,y,'*r',ms=10)\n",
    "#x, y = list(zip(*val))\n",
    "#plot(x,y,'*')"
   ]
  },
  {
   "cell_type": "markdown",
   "metadata": {},
   "source": [
    "#### Построение списка сканирования"
   ]
  },
  {
   "cell_type": "code",
   "execution_count": null,
   "metadata": {
    "collapsed": false
   },
   "outputs": [],
   "source": [
    "res = array(range(-7,7, 1))/10 + 420.1\n",
    "rr = ''\n",
    "for x in res:\n",
    "    rr += str(x) + ' '\n",
    "print(rr)"
   ]
  },
  {
   "cell_type": "code",
   "execution_count": null,
   "metadata": {
    "collapsed": true
   },
   "outputs": [],
   "source": []
  }
 ],
 "metadata": {
  "hide_input": false,
  "kernelspec": {
   "display_name": "Python 3",
   "language": "python",
   "name": "python3"
  },
  "language_info": {
   "codemirror_mode": {
    "name": "ipython",
    "version": 3
   },
   "file_extension": ".py",
   "mimetype": "text/x-python",
   "name": "python",
   "nbconvert_exporter": "python",
   "pygments_lexer": "ipython3",
   "version": "3.5.1"
  },
  "latex_envs": {
   "bibliofile": "biblio.bib",
   "cite_by": "apalike",
   "current_citInitial": 1,
   "eqLabelWithNumbers": true,
   "eqNumInitial": 0
  }
 },
 "nbformat": 4,
 "nbformat_minor": 0
}
