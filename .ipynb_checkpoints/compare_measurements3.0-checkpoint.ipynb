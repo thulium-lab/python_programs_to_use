{
 "cells": [
  {
   "cell_type": "code",
   "execution_count": null,
   "metadata": {
    "collapsed": true
   },
   "outputs": [],
   "source": [
    "'''Last modified 11.02.2016\n",
    "    Added mongoDB functionality - one can query any data he wants DESCRIBE HOW TO DO THIS\n",
    "    Pandas table can be used\n",
    "09.02.2016\n",
    "Nothing changed, database and pandas functionality should be added!!!\n",
    "''';"
   ]
  },
  {
   "cell_type": "code",
   "execution_count": null,
   "metadata": {
    "collapsed": false
   },
   "outputs": [],
   "source": [
    "%pylab inline"
   ]
  },
  {
   "cell_type": "code",
   "execution_count": null,
   "metadata": {
    "collapsed": false
   },
   "outputs": [],
   "source": [
    "# imports\n",
    "\n",
    "import sys\n",
    "import os\n",
    "par_dir = os.path.split(os.getcwd())[0]\n",
    "if par_dir not in sys.path:\n",
    "    sys.path.append(par_dir)\n",
    "# sys.path.append(r'/Users/artemgolovizin/GitHub')\n",
    "from scipy.optimize import curve_fit\n",
    "import inspect\n",
    "import pickle\n",
    "import imp\n",
    "import re\n",
    "import json\n",
    "import pandas as pd\n",
    "\n",
    "from IPython.html import widgets\n",
    "from IPython.display import display\n",
    "from IPython.html.widgets import interact, interactive, fixed\n",
    "\n",
    "import thulium_python_lib.usefull_functions as usfuncs\n",
    "import thulium_python_lib.image_processing_new as impr\n",
    "\n",
    "import ipyparallel as ipp\n",
    "ipp.CompositeError.tb_limit = 1\n",
    "\n",
    "rc1 = ipp.Client()\n",
    "lview = rc1.load_balanced_view()\n",
    "dview = rc1.direct_view()\n",
    "dview['par_dir'] = par_dir\n",
    "# with dview.sync_imports():\n",
    "#     import sys, os    \n",
    "%px import sys, os\n",
    "%px if par_dir not in sys.path: sys.path.append(par_dir)\n",
    "%px import thulium_python_lib.image_processing_new as impr\n",
    "%px import imp\n",
    "%px from ipyparallel import bind_kernel; bind_kernel()\n",
    "\n",
    "import datetime\n",
    "import pymongo\n",
    "from pymongo import MongoClient\n",
    "from bson.objectid import ObjectId\n",
    "\n",
    "# start mongoDB client (mongod server should be launched)\n",
    "client = MongoClient('mongodb://localhost:27017/')\n",
    "meas_database = client.measData.meas_data"
   ]
  },
  {
   "cell_type": "code",
   "execution_count": null,
   "metadata": {
    "collapsed": false
   },
   "outputs": [],
   "source": [
    "# to reload library on remote and local engine\n",
    "# %px imp.reload(impr)\n",
    "# imp.reload(impr)\n",
    "# imp.reload(usfuncs)"
   ]
  },
  {
   "cell_type": "raw",
   "metadata": {},
   "source": [
    "# OLD part for getting data from mongoDB\n",
    "coursor = meas_database.find()\n",
    "tables = []\n",
    "for item in coursor:\n",
    "    for key in item:\n",
    "        if(key == 'avr_table_pickle'):\n",
    "            tables.append(pickle.loads(item[key]))\n",
    "            print(key,item[key][-20:])\n",
    "        else:\n",
    "            print(key,item[key])\n",
    "    print('\\n')"
   ]
  },
  {
   "cell_type": "code",
   "execution_count": null,
   "metadata": {
    "collapsed": false
   },
   "outputs": [],
   "source": [
    "# get data from mongo db and print folders names and dates\n",
    "coursor = meas_database.find()\n",
    "data = []\n",
    "for item in coursor:\n",
    "    data.append(item.copy())\n",
    "    data[-1]['avr_table']=pickle.loads(item['avr_table_pickle'])\n",
    "    del data[-1]['avr_table_pickle']\n",
    "    print(len(data)-1, 'date=',data[-1]['date_meas'].date(), 'folder=',data[-1]['folder'])\n",
    "#     for key in item:\n",
    "#         if(key == 'avr_table_pickle'):\n",
    "#             tables.append(pickle.loads(item[key]))\n",
    "#             print(key,item[key][-20:])\n",
    "#         else:\n",
    "#             print(key,item[key])\n",
    "    print('\\n')"
   ]
  },
  {
   "cell_type": "code",
   "execution_count": null,
   "metadata": {
    "collapsed": true
   },
   "outputs": [],
   "source": [
    "os.chdir(r'/Users/artemgolovizin/Downloads/2015_12_01')"
   ]
  },
  {
   "cell_type": "code",
   "execution_count": null,
   "metadata": {
    "collapsed": true
   },
   "outputs": [],
   "source": [
    "old_ks = dict()"
   ]
  },
  {
   "cell_type": "code",
   "execution_count": null,
   "metadata": {
    "collapsed": true
   },
   "outputs": [],
   "source": [
    "with open('all_data.txt', 'rb') as handle:\n",
    "    data = pickle.loads(handle.read())"
   ]
  },
  {
   "cell_type": "code",
   "execution_count": null,
   "metadata": {
    "collapsed": false
   },
   "outputs": [],
   "source": [
    "data.keys()"
   ]
  },
  {
   "cell_type": "code",
   "execution_count": null,
   "metadata": {
    "collapsed": false
   },
   "outputs": [],
   "source": [
    "data['01 t']"
   ]
  },
  {
   "cell_type": "code",
   "execution_count": null,
   "metadata": {
    "collapsed": false
   },
   "outputs": [],
   "source": [
    "with open('all_data.txt', 'rb') as handle:\n",
    "    data = pickle.loads(handle.read())\n",
    "shot_typeN = 1\n",
    "ks = list(data.keys())\n",
    "ks.sort()\n",
    "ch_boxes = dict()\n",
    "ks_n = []\n",
    "for k in ks:\n",
    "    # optional - uncomment line below to sift only keys with specific marker, as 'CL'\n",
    "#    if 'CL' not in k.upper(): continue\n",
    "    ch_boxes[k]=old_ks.get(k,True)\n",
    "    ks_n.append(k)\n",
    "ks = ks_n\n",
    "fg = None   \n",
    "def plot_gr(l_pos,**ar):\n",
    "    fig,ax = subplots() \n",
    "    global fg, old_ks\n",
    "    old_ks = dict()\n",
    "    for k in ks:\n",
    "        old_ks[k]=ar[k]\n",
    "        if ar[k]:\n",
    "            d1 = impr.get_avr_data(data[k]['data'], shot_typeN, 'fit1D_x',2)\n",
    "            errorbar(**d1)\n",
    "#             d1['fmt']='ro'\n",
    "#             d1['label']='fit1D_x'\n",
    "#             val=datat[k]\n",
    "#             x,y=impr.data2_sort(val[0],val[1])\n",
    "#             # here it's time to modify data\n",
    "# #             x = mod_from_AOM_to_real_freq(x, k, 420)\n",
    "#             #x,y = x[1:],y[1:]\n",
    "#             ax.plot(x,y,'-*',label=k)\n",
    "    legend(bbox_to_anchor=(1.05, 1), loc=2, borderaxespad=0., fontsize=15)\n",
    "    #xscale('log')\n",
    "    #xlabel('Current, A')\n",
    "    #xlabel('AOM frequency, MHz')\n",
    "    xlabel('detuning, MHz') #in real frequencyes\n",
    "    ylabel('atoms number, a.u.')\n",
    "    ylim(bottom=0)\n",
    "    #start, end = ax.get_xlim()\n",
    "    #print(ax.get_xlim())\n",
    "    #ax.xaxis.set_ticks(arange(start, end, 0.1))\n",
    "    #axvline(x=l_pos)\n",
    "    fg = fig\n",
    "    \n",
    "ter = interactive(plot_gr,l_pos=(150,250,0.1),**ch_boxes)\n",
    "ter.box_style='info'\n",
    "display(ter)"
   ]
  },
  {
   "cell_type": "code",
   "execution_count": null,
   "metadata": {
    "collapsed": false
   },
   "outputs": [],
   "source": [
    "help(interactive)"
   ]
  },
  {
   "cell_type": "markdown",
   "metadata": {},
   "source": [
    "###For managing clock line shift and broadening"
   ]
  },
  {
   "cell_type": "raw",
   "metadata": {},
   "source": [
    "c_freq = 420 # MHz\n",
    "working_keys = [x for x in old_ks if old_ks[x]]\n",
    "print(working_keys)\n",
    "val1 = []\n",
    "val2 = []\n",
    "for key in working_keys:\n",
    "    # get fit data\n",
    "    popt = res_dict[key][2]\n",
    "    for s0 in key.rstrip(r'\\/ ').split():\n",
    "        if '=' in s0:\n",
    "            s1 = s0.split('=')\n",
    "            # here one can extract data from folder name of patten 'var=val'\n",
    "            if s1[0] == 'mod' or s1[0] == 'min':\n",
    "                val1.append((float(s1[1]), popt[1]))\n",
    "                val2.append((float(s1[1]), popt[2]))\n",
    "fig3, ax3 = subplots(1,2,figsize=(12,6))\n",
    "x, y = list(zip(*val1))\n",
    "y = mod_from_AOM_to_real_freq(array(y), 'CL', c_freq)\n",
    "ax3[0].plot(x,y,'*r',ms=10)\n",
    "ax3[0].set_title('shift (center frequency=' + str(c_freq) + 'MHz)')\n",
    "ax3[0].set_ylabel('shift, MHz')\n",
    "ax3[0].set_xlabel('power, W')\n",
    "x, y = list(zip(*val2))\n",
    "ax3[1].set_title('width')\n",
    "ax3[1].set_ylabel('width, MHz')\n",
    "ax3[1].set_xlabel('power, W')\n",
    "ax3[1].plot(x,y,'*r',ms=10)\n",
    "#x, y = list(zip(*val))\n",
    "#plot(x,y,'*')"
   ]
  },
  {
   "cell_type": "markdown",
   "metadata": {},
   "source": [
    "#### Построение списка сканирования"
   ]
  },
  {
   "cell_type": "code",
   "execution_count": null,
   "metadata": {
    "collapsed": false
   },
   "outputs": [],
   "source": [
    "res = array(range(-7,7, 1))/10 + 420.1\n",
    "rr = ''\n",
    "for x in res:\n",
    "    rr += str(x) + ' '\n",
    "print(rr)"
   ]
  },
  {
   "cell_type": "code",
   "execution_count": null,
   "metadata": {
    "collapsed": true
   },
   "outputs": [],
   "source": []
  }
 ],
 "metadata": {
  "hide_input": false,
  "kernelspec": {
   "display_name": "Python 3",
   "language": "python",
   "name": "python3"
  },
  "language_info": {
   "codemirror_mode": {
    "name": "ipython",
    "version": 3
   },
   "file_extension": ".py",
   "mimetype": "text/x-python",
   "name": "python",
   "nbconvert_exporter": "python",
   "pygments_lexer": "ipython3",
   "version": "3.5.1"
  },
  "latex_envs": {
   "bibliofile": "biblio.bib",
   "cite_by": "apalike",
   "current_citInitial": 1,
   "eqLabelWithNumbers": true,
   "eqNumInitial": 0
  }
 },
 "nbformat": 4,
 "nbformat_minor": 0
}
