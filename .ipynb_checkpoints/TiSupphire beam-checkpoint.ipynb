{
 "cells": [
  {
   "cell_type": "markdown",
   "metadata": {},
   "source": [
    "As in [SHG cavity](SHG cavity.ipynb)"
   ]
  },
  {
   "cell_type": "markdown",
   "metadata": {},
   "source": [
    "From https://en.wikipedia.org/wiki/Gaussian_beam\n",
    "\n",
    "$q(z) =   z + iz_\\mathrm{R}$\n",
    " \n",
    " $z_\\mathrm{R} = \\frac{\\pi w_0^2}{\\lambda}$\n",
    " \n",
    " $  { 1 \\over q(z) }   =   { 1 \\over z + iz_\\mathrm{R} } =   { z \\over z^2 + z_\\mathrm{R}^2  }  -  i  { z_\\mathrm{R} \\over z^2 + z_\\mathrm{R}^2  } = {1 \\over R(z) } - i { \\lambda \\over \\pi w^2(z)  }$"
   ]
  },
  {
   "cell_type": "code",
   "execution_count": null,
   "metadata": {
    "collapsed": false
   },
   "outputs": [],
   "source": [
    "%pylab inline\n",
    "from ipywidgets import interact"
   ]
  },
  {
   "cell_type": "code",
   "execution_count": null,
   "metadata": {
    "collapsed": true
   },
   "outputs": [],
   "source": [
    "r = 40e-3 # curvature of sferical mirrors\n",
    "l_sp = 80e-3 # distance from sferical to plane mirror\n",
    "l_pp = 156e-3 - l_sp # distance between to plane mirrors\n",
    "l_ss = 46e-3 # distance between to curved mirrors\n",
    "λ = 0.806e-6 \n",
    "\n",
    "\n",
    "pos = 0.5 # distance from lenz to input mirror\n",
    "f = pos + l_pp/2   # first gess for focal length of the mirror\n",
    "q0 = 0\n",
    "def apply_m_to_q(m,q):\n",
    "    return (m[0,0]*q + m[0,1]) / (m[1,0]*q + m[1,1])\n",
    "def m_l(l):\n",
    "    return array([[1,l],[0,1]])\n",
    "def m_f(f):\n",
    "    return array([[1,0],[-1/f,1]])\n",
    "def get_w(q):\n",
    "    return sqrt(λ / (pi * imag(-1/q)))\n",
    "def get_R(q):\n",
    "    return 1/real(q)\n",
    "def get_w0(q):\n",
    "    return sqrt(λ / pi * imag(q))\n",
    "def get_q(w0,z0):\n",
    "    return -z0 + 1j*pi*w0**2/λ\n",
    "def waist(z, w0):\n",
    "    return w0*(1 + (z/(pi*w0**2/λ))**2)**(1/2)"
   ]
  },
  {
   "cell_type": "markdown",
   "metadata": {},
   "source": [
    "Параметры линз и расстояний"
   ]
  },
  {
   "cell_type": "code",
   "execution_count": null,
   "metadata": {
    "collapsed": true
   },
   "outputs": [],
   "source": [
    "f_l = 15e-2\n",
    "l0 = 2\n",
    "δl_f2 = 1.2*1e-2\n",
    "l_after = 11*2e-2\n",
    "\n",
    "q0 = get_q(1*431.38e-6,-48.4996e-2)"
   ]
  },
  {
   "cell_type": "markdown",
   "metadata": {},
   "source": [
    "Матрица преобразования без использования дополнительной оптики, только фокусирующая в ловушку линза.\n",
    "\n",
    "Видно, что сильно (18мм) промахиваемся по перетяжке и перетяжка всего 26мкм, что приводит к ширине пучка в центре между линзами \n",
    "180мкм"
   ]
  },
  {
   "cell_type": "code",
   "execution_count": null,
   "metadata": {
    "collapsed": false
   },
   "outputs": [],
   "source": [
    "ms0 = dot(m_l(f_l),\n",
    "        dot(m_f(f_l),\n",
    "            m_l(l0)))\n",
    "q = apply_m_to_q(ms0,q0)\n",
    "print(q)\n",
    "print(get_w(q))\n",
    "print(get_w0(q))"
   ]
  },
  {
   "cell_type": "code",
   "execution_count": null,
   "metadata": {
    "collapsed": false
   },
   "outputs": [],
   "source": [
    "# как то пытались посмотреть, что будет с обратным пучком. тоже все непонятно\n",
    "m_after = dot(m_l(f_l+δl_f2),\n",
    "             dot(m_f(f_l),\n",
    "                dot(m_l(l_after),\n",
    "                   dot(m_f(f_l),m_l(f_l+δl_f2)))))\n",
    "q2 = apply_m_to_q(m_after,q)\n",
    "print(get_w(q2))\n",
    "print(get_w0(q2))\n",
    "print(q2)"
   ]
  },
  {
   "cell_type": "code",
   "execution_count": null,
   "metadata": {
    "collapsed": true
   },
   "outputs": [],
   "source": [
    "def ff(δl_f2):\n",
    "    m_after = dot(m_l(f_l+δl_f2),\n",
    "             dot(m_f(f_l),\n",
    "                dot(m_l(l_after),\n",
    "                   dot(m_f(f_l),m_l(f_l+δl_f2)))))\n",
    "    q2 = apply_m_to_q(m_after,q)\n",
    "    return get_w(q2),get_w0(q2)"
   ]
  },
  {
   "cell_type": "code",
   "execution_count": null,
   "metadata": {
    "collapsed": false
   },
   "outputs": [],
   "source": [
    "# то, как выглядят пучки из ТС и необходимый пучок для фокусировки для получения какой то перетяжки после заводящей линзы\n",
    "xx = linspace(0,2,100)\n",
    "yy1 = waist(xx+0.5, 431.38e-6)\n",
    "plot(xx,yy1)\n",
    "yy2 = waist(xx-1.75,256e-6)\n",
    "plot(xx,yy2)\n",
    "ylim(bottom=0)"
   ]
  },
  {
   "cell_type": "markdown",
   "metadata": {
    "collapsed": true
   },
   "source": [
    "Записываем переменные для нового расчета - чтобы перетяжка после системы была за 150 мм до последней линзы, потом можно будет помсотреть, как оно будет после этой линзы"
   ]
  },
  {
   "cell_type": "code",
   "execution_count": null,
   "metadata": {
    "collapsed": true
   },
   "outputs": [],
   "source": [
    "f1 = -1\n",
    "f2 = 0.5\n",
    "l_tot = 2\n",
    "f1l = 1          # если линза одна\n",
    "q0 = get_q(1*431.38e-6,-48.4996e-2)"
   ]
  },
  {
   "cell_type": "markdown",
   "metadata": {},
   "source": [
    "Матрицы преобразования для двух и одной линзы"
   ]
  },
  {
   "cell_type": "code",
   "execution_count": null,
   "metadata": {
    "collapsed": false
   },
   "outputs": [],
   "source": [
    "\n",
    "def full_matrix(x,d):\n",
    "    return dot(m_l(f_l),\n",
    "                   dot(m_f(f_l),\n",
    "                       dot(m_l(x),\n",
    "                          dot(m_f(f2),\n",
    "                             dot(m_l(d),\n",
    "                                dot(m_f(f1),m_l(l_tot-d-x)))))))\n",
    "def full_matrix_1lenz(x):\n",
    "    return dot(m_l(f_l),\n",
    "                   dot(m_f(f_l),\n",
    "                       dot(m_l(x),\n",
    "                          dot(m_f(f1l),m_l(l_tot-x)))))"
   ]
  },
  {
   "cell_type": "markdown",
   "metadata": {},
   "source": [
    "Ниже, чтобы не решать уравнения, происходит перебор координат линзы для того, чтобы получить нужные параметры. Из них уже можно выбрать нужные значения. Это все делается для заданной линзы (линз) "
   ]
  },
  {
   "cell_type": "code",
   "execution_count": null,
   "metadata": {
    "collapsed": false
   },
   "outputs": [],
   "source": [
    "for x in arange(0.7,2,0.01):        \n",
    "        m1 = full_matrix_1lenz(x)\n",
    "        q1 = apply_m_to_q(m1,q0)\n",
    "        if(abs(q1.real) < 0.002):\n",
    "            print(x,'\\t',get_w0(q1))\n",
    "            print(q1)"
   ]
  },
  {
   "cell_type": "code",
   "execution_count": null,
   "metadata": {
    "collapsed": false
   },
   "outputs": [],
   "source": [
    "for x in (1.37,):\n",
    "    for d in arange(0.0,-0.3,0.01):\n",
    "# for x in arange(.95,1.05,0.005):\n",
    "#     for d in arange(0.03,.1,0.005):        \n",
    "        m1 = full_matrix(x,d)\n",
    "        q1 = apply_m_to_q(m1,q0)\n",
    "        if abs(q1.real) < 0.005:\n",
    "            print(x,d)\n",
    "            print(get_w0(q1))\n",
    "            print(q1)"
   ]
  },
  {
   "cell_type": "code",
   "execution_count": null,
   "metadata": {
    "collapsed": true
   },
   "outputs": [],
   "source": []
  }
 ],
 "metadata": {
  "hide_input": false,
  "kernelspec": {
   "display_name": "Python 3",
   "language": "python",
   "name": "python3"
  },
  "language_info": {
   "codemirror_mode": {
    "name": "ipython",
    "version": 3
   },
   "file_extension": ".py",
   "mimetype": "text/x-python",
   "name": "python",
   "nbconvert_exporter": "python",
   "pygments_lexer": "ipython3",
   "version": "3.5.1"
  },
  "latex_envs": {
   "bibliofile": "biblio.bib",
   "cite_by": "apalike",
   "current_citInitial": 1,
   "eqLabelWithNumbers": true,
   "eqNumInitial": 0
  }
 },
 "nbformat": 4,
 "nbformat_minor": 0
}
