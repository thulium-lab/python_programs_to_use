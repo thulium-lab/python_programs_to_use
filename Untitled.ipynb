{
 "cells": [
  {
   "cell_type": "code",
   "execution_count": 1,
   "metadata": {
    "collapsed": false
   },
   "outputs": [
    {
     "name": "stdout",
     "output_type": "stream",
     "text": [
      "Populating the interactive namespace from numpy and matplotlib\n"
     ]
    }
   ],
   "source": [
    "%pylab inline"
   ]
  },
  {
   "cell_type": "markdown",
   "metadata": {},
   "source": [
    "## Stern-Gerlakh experiment data processing - not finished, can be used when needed\n",
    "Has to be inserted into processing_individual_measurement3..."
   ]
  },
  {
   "cell_type": "code",
   "execution_count": null,
   "metadata": {
    "collapsed": true
   },
   "outputs": [],
   "source": [
    "dat = avr_dataD[4][1]\n",
    "zz = impr.real_size(arange(dat.image.shape[0]))\n",
    "yy2 = sum(dat.image,axis=1)\n",
    "ms = range(-4,5)\n",
    "\n",
    "def Stern_Gerlah_fit_numction(zz, z0, distance,width,background, *ampls):\n",
    "    \"\"\"Function fitfunc(zz, z0, distance,width,background, *ampls) to fit image in `Stern-Gerlah experiment.\n",
    "        z0 - position of m_f=0 cloud zz[-1]/2\n",
    "        distance - displacement between clouds zz[-1]/10\n",
    "        width - cloud width in gaussian fit  zz[-1]/15\n",
    "        background 0\n",
    "        *ampls - unpucked umplitudes of gaussians max(yy2)*width[zz[-1]/15] \"\"\"\n",
    "    res = zeros_like(zz)\n",
    "    res += background\n",
    "    for i,m in enumerate(ms):\n",
    "        res += impr.gaussian(zz, ampls[i],z0+m*distance,width,0)\n",
    "    return res\n",
    "\n",
    "def Stern_Gerlah_fit_numction_fixed(zz,background, *ampls):\n",
    "    \"\"\"Function fitfunc(zz, z0, distance,width,background, *ampls) to fit image in `Stern-Gerlah experiment.\n",
    "        z0 - position of m_f=0 cloud zz[-1]/2\n",
    "        distance - displacement between clouds zz[-1]/10\n",
    "        width - cloud width in gaussian fit  zz[-1]/15\n",
    "        background 0\n",
    "        *ampls - unpucked umplitudes of gaussians max(yy2)*width[zz[-1]/15] \"\"\"\n",
    "    z0 = 1750\n",
    "    distance = 320\n",
    "    width = 700\n",
    "    res = zeros_like(zz)\n",
    "    res += background\n",
    "    for i,m in enumerate(ms):\n",
    "        res += impr.gaussian(zz, ampls[i],z0+m*distance,width,0)\n",
    "    return res\n",
    "# zz and yy come from above\n",
    "# yy2 = sum(yy[:,150:250],1)\n",
    "popt, pcov = curve_fit(Stern_Gerlah_fit_numction_fixed, zz, yy2, p0=(0,*[1e3]*9),bounds=(0,inf))\n",
    "plot(zz,Stern_Gerlah_fit_numction_fixed(zz,*popt))\n",
    "plot(zz,yy2)\n",
    "background, *ampls = popt\n",
    "z0 = 1750\n",
    "distance = 330\n",
    "width = 680\n",
    "for i,m in enumerate(ms):\n",
    "    plot(zz,impr.gaussian(zz, ampls[i],z0+m*distance,width,0),label=m)\n",
    "legend()"
   ]
  }
 ],
 "metadata": {
  "hide_input": false,
  "kernelspec": {
   "display_name": "Python 3",
   "language": "python",
   "name": "python3"
  },
  "language_info": {
   "codemirror_mode": {
    "name": "ipython",
    "version": 3
   },
   "file_extension": ".py",
   "mimetype": "text/x-python",
   "name": "python",
   "nbconvert_exporter": "python",
   "pygments_lexer": "ipython3",
   "version": "3.5.1"
  },
  "latex_envs": {
   "bibliofile": "biblio.bib",
   "cite_by": "apalike",
   "current_citInitial": 1,
   "eqLabelWithNumbers": true,
   "eqNumInitial": 0
  }
 },
 "nbformat": 4,
 "nbformat_minor": 0
}
