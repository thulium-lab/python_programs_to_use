{
 "cells": [
  {
   "cell_type": "code",
   "execution_count": 1,
   "metadata": {
    "collapsed": false
   },
   "outputs": [
    {
     "name": "stdout",
     "output_type": "stream",
     "text": [
      "Populating the interactive namespace from numpy and matplotlib\n"
     ]
    }
   ],
   "source": [
    "%pylab inline\n",
    "\n",
    "from ipywidgets import interact"
   ]
  },
  {
   "cell_type": "markdown",
   "metadata": {},
   "source": [
    "Расчет резонатора и необходимых линз для согласования входного пучка.\n",
    "Параметры зеркал в резонаторе и другие необходимые переменные"
   ]
  },
  {
   "cell_type": "code",
   "execution_count": 2,
   "metadata": {
    "collapsed": false
   },
   "outputs": [],
   "source": [
    "r = 40e-3 # curvature of sferical mirrors\n",
    "l_sp = 80e-3 # distance from sferical to plane mirror\n",
    "l_pp = 156e-3 - l_sp # distance between to plane mirrors\n",
    "l_ss = 46e-3 # distance between to curved mirrors\n",
    "λ = 0.82e-6 \n",
    "\n",
    "\n",
    "pos = 0.5 # distance from lenz to input mirror\n",
    "f = pos + l_pp/2   # first gess for focal length of the mirror\n",
    "q0 = 0\n",
    "def apply_m_to_q(m,q):\n",
    "    return (m[0,0]*q + m[0,1]) / (m[1,0]*q + m[1,1])\n",
    "def m_l(l):\n",
    "    return array([[1,l],[0,1]])\n",
    "def m_f(f):\n",
    "    return array([[1,0],[-1/f,1]])\n",
    "def get_w(q):\n",
    "    return sqrt(λ / (pi * imag(-1/q)))\n",
    "def get_w0(q):\n",
    "    return sqrt(λ / pi * imag(q))"
   ]
  },
  {
   "cell_type": "markdown",
   "metadata": {
    "collapsed": true
   },
   "source": [
    "Запишем обход резонатора, начиная с центра кристалла, т.е. с середины между сферичискими зеркалами"
   ]
  },
  {
   "cell_type": "code",
   "execution_count": 3,
   "metadata": {
    "collapsed": false
   },
   "outputs": [],
   "source": [
    "ring = dot(m_l(l_ss/2),\n",
    "          dot(m_f(r/2),\n",
    "              dot(m_l(l_sp + l_pp + l_sp),\n",
    "                 dot(m_f(r/2),m_l(l_ss/2)))))"
   ]
  },
  {
   "cell_type": "markdown",
   "metadata": {},
   "source": [
    "Находим графически решение уравнения - не стал заморачиваться с формулой"
   ]
  },
  {
   "cell_type": "code",
   "execution_count": 4,
   "metadata": {
    "collapsed": false
   },
   "outputs": [
    {
     "name": "stdout",
     "output_type": "stream",
     "text": [
      "q0 =  0.001j\n",
      "w0 =  1.6155931006e-05\n"
     ]
    },
    {
     "data": {
      "text/plain": [
       "<function __main__.plot0>"
      ]
     },
     "execution_count": 4,
     "metadata": {},
     "output_type": "execute_result"
    },
    {
     "data": {
      "image/png": "[encoded data removed]",
      "text/plain": [
       "<matplotlib.figure.Figure at 0x6f37c18>"
      ]
     },
     "metadata": {},
     "output_type": "display_data"
    }
   ],
   "source": [
    "x = 1j * linspace(0.001, 0.003,20)\n",
    "y = apply_m_to_q(ring,x)\n",
    "def plot0(x0=imag(q0)):\n",
    "    plot(imag(x),real(y),'r')\n",
    "    axhline(0,c='r')\n",
    "    plot(imag(x),imag(y))\n",
    "    axvline(x0,c='k')\n",
    "    plot(imag(x),imag(x))\n",
    "    global q0, w0\n",
    "    q0 = 1j*x0\n",
    "    print('q0 = ',q0)\n",
    "    w0 = get_w0(q0)\n",
    "    print('w0 = ',w0)\n",
    "interact(plot0,x0=(0.001,0.003,0.00005))\n"
   ]
  },
  {
   "cell_type": "markdown",
   "metadata": {},
   "source": [
    "Найдем размер перетяжки и параметр q посередине между плоскими зеркалами"
   ]
  },
  {
   "cell_type": "code",
   "execution_count": 5,
   "metadata": {
    "collapsed": true
   },
   "outputs": [],
   "source": [
    "half_ring = dot(m_l(l_sp + l_pp/2),\n",
    "                  dot(m_f(r/2),m_l(l_ss/2)))"
   ]
  },
  {
   "cell_type": "code",
   "execution_count": 6,
   "metadata": {
    "collapsed": false
   },
   "outputs": [
    {
     "name": "stdout",
     "output_type": "stream",
     "text": [
      "q1 between to lpane mirrors =  (-3.92156862745e-05+0.0588235294118j)\n",
      "w1 =  0.000123910334438\n"
     ]
    }
   ],
   "source": [
    "q1 = apply_m_to_q(half_ring, 1j*0.0018)\n",
    "print('q1 between to lpane mirrors = ', q1)\n",
    "w1 = get_w0(q1)\n",
    "print('w1 = ',w1)"
   ]
  },
  {
   "cell_type": "markdown",
   "metadata": {},
   "source": [
    "Строим зависимость параметра q и размера пучка от расстояния от перетяжки"
   ]
  },
  {
   "cell_type": "code",
   "execution_count": 7,
   "metadata": {
    "collapsed": false
   },
   "outputs": [],
   "source": [
    "xs = l_pp/2 + linspace(0,1,100)\n",
    "qs = [apply_m_to_q(m_l(x), q1) for x in xs]\n",
    "ws = [get_w(q) for q in qs]"
   ]
  },
  {
   "cell_type": "code",
   "execution_count": 8,
   "metadata": {
    "collapsed": true
   },
   "outputs": [],
   "source": [
    "def waist(z, w0):\n",
    "    return w0*(1 + (z/(pi*w0**2/λ))**2)**(1/2)"
   ]
  },
  {
   "cell_type": "markdown",
   "metadata": {},
   "source": [
    "Здесь подгоняю параметры пучка выходящего из лазера, чтобы совпадало с измеренными 0.55, 0.68, 0.9"
   ]
  },
  {
   "cell_type": "code",
   "execution_count": 9,
   "metadata": {
    "collapsed": false
   },
   "outputs": [
    {
     "data": {
      "text/plain": [
       "array([ 0.55      ,  0.68207024,  0.93758061])"
      ]
     },
     "execution_count": 9,
     "metadata": {},
     "output_type": "execute_result"
    }
   ],
   "source": [
    "waist(array([0.4,1.25,2]) - 0.4,0.55e-3) * 1e3"
   ]
  },
  {
   "cell_type": "markdown",
   "metadata": {},
   "source": [
    "Находим пересечение профилей пучков для резонатора и лазера. В этом месте должна стоять линза. В верней страке задается расстояние между входом в резонатор и выходом из лазера"
   ]
  },
  {
   "cell_type": "code",
   "execution_count": 10,
   "metadata": {
    "collapsed": false
   },
   "outputs": [
    {
     "name": "stdout",
     "output_type": "stream",
     "text": [
      "focal length =  0.35 m\n"
     ]
    },
    {
     "data": {
      "image/png": "[encoded data removed]",
      "text/plain": [
       "<matplotlib.figure.Figure at 0x7914a20>"
      ]
     },
     "metadata": {},
     "output_type": "display_data"
    }
   ],
   "source": [
    "wls = waist(1.4-xs,0.55e-3)\n",
    "def plot1(x0=f):\n",
    "    global pos, f\n",
    "    plot(xs, ws,c='r')\n",
    "    plot(xs, wls,c='b')\n",
    "    axvline(x0,c='k')\n",
    "    f = x0\n",
    "    pos = x0 - l_pp/2\n",
    "    print('focal length = ', f, 'm')\n",
    "interact(plot1, x0=(0,1,0.01))\n"
   ]
  },
  {
   "cell_type": "markdown",
   "metadata": {},
   "source": [
    "То же самое, но выходящий пучок из лазера считается плоскопараллельным с заданным диаметром."
   ]
  },
  {
   "cell_type": "code",
   "execution_count": 11,
   "metadata": {
    "collapsed": false
   },
   "outputs": [
    {
     "name": "stdout",
     "output_type": "stream",
     "text": [
      "focal length =  0.42 m\n"
     ]
    },
    {
     "data": {
      "image/png": "[encoded data removed]",
      "text/plain": [
       "<matplotlib.figure.Figure at 0x89e6cf8>"
      ]
     },
     "metadata": {},
     "output_type": "display_data"
    }
   ],
   "source": [
    "w_laser = 0.9e-3\n",
    "def plot1(x0=f):\n",
    "    global pos, f\n",
    "    plot(xs, ws,'r')\n",
    "    axhline(w_laser,c='b')\n",
    "    axvline(x0,c='k')\n",
    "    f = x0\n",
    "    pos = x0 - l_pp/2\n",
    "    print('focal length = ', f, 'm')\n",
    "interact(plot1, x0=(0,1,0.01))"
   ]
  },
  {
   "cell_type": "markdown",
   "metadata": {},
   "source": [
    "### Выводы\n",
    "\n",
    "Нужна согласующая линза с фокусным расстоянием 30 - 40 см (в зависимости от того, какое выберем расстояние от лазера до удвоителя) и дополнительно телескопическая система с единичным увеличением для более тонкой юстировки.\n",
    "\n",
    "Либо любая линза и телескопическая система с соответствующим увеличением"
   ]
  },
  {
   "cell_type": "markdown",
   "metadata": {},
   "source": [
    "Дальше пытался использовать символы"
   ]
  },
  {
   "cell_type": "code",
   "execution_count": 195,
   "metadata": {
    "collapsed": true
   },
   "outputs": [],
   "source": [
    "import sympy as sp"
   ]
  },
  {
   "cell_type": "code",
   "execution_count": 201,
   "metadata": {
    "collapsed": false
   },
   "outputs": [],
   "source": [
    "f1, f2, d, s = sp.symbols('f1 f2 d s')"
   ]
  },
  {
   "cell_type": "code",
   "execution_count": 202,
   "metadata": {
    "collapsed": false
   },
   "outputs": [
    {
     "data": {
      "text/plain": [
       "array([[-d/f1 + s*(-(-d/f1 + 1)/f2 - 1/f1) + 1, d + s*(-d/f2 + 1)],\n",
       "       [-(-d/f1 + 1)/f2 - 1/f1, -d/f2 + 1]], dtype=object)"
      ]
     },
     "execution_count": 202,
     "metadata": {},
     "output_type": "execute_result"
    }
   ],
   "source": [
    "mt = dot(m_l(s),\n",
    "        dot(m_f(f2),\n",
    "            dot(m_l(d),m_f(f1))))\n",
    "mt"
   ]
  },
  {
   "cell_type": "code",
   "execution_count": 203,
   "metadata": {
    "collapsed": false
   },
   "outputs": [
    {
     "data": {
      "text/plain": [
       "array([ 5, 11])"
      ]
     },
     "execution_count": 203,
     "metadata": {},
     "output_type": "execute_result"
    }
   ],
   "source": [
    "dot([[1,2],[3,4]],[1,2])"
   ]
  },
  {
   "cell_type": "code",
   "execution_count": 204,
   "metadata": {
    "collapsed": false
   },
   "outputs": [
    {
     "data": {
      "text/plain": [
       "array([-d/f1 + s*(-(-d/f1 + 1)/f2 - 1/f1) + 1, -(-d/f1 + 1)/f2 - 1/f1], dtype=object)"
      ]
     },
     "execution_count": 204,
     "metadata": {},
     "output_type": "execute_result"
    }
   ],
   "source": [
    "dot(mt,[1,0])"
   ]
  },
  {
   "cell_type": "markdown",
   "metadata": {
    "collapsed": true
   },
   "source": [
    "Некоторые вычисления"
   ]
  },
  {
   "cell_type": "code",
   "execution_count": 11,
   "metadata": {
    "collapsed": true
   },
   "outputs": [],
   "source": [
    "def finesse (R,A):\n",
    "#     R - input mirror reflectivity, A - losses in the cavity\n",
    "    return pi/(1 - sqrt(R*(1-A)))"
   ]
  },
  {
   "cell_type": "code",
   "execution_count": 33,
   "metadata": {
    "collapsed": false
   },
   "outputs": [
    {
     "data": {
      "text/plain": [
       "418.70324218042771"
      ]
     },
     "execution_count": 33,
     "metadata": {},
     "output_type": "execute_result"
    }
   ],
   "source": [
    "finesse(0.99,0.005)"
   ]
  },
  {
   "cell_type": "code",
   "execution_count": 14,
   "metadata": {
    "collapsed": true
   },
   "outputs": [],
   "source": [
    "from scipy.optimize import root`"
   ]
  },
  {
   "cell_type": "code",
   "execution_count": 38,
   "metadata": {
    "collapsed": false
   },
   "outputs": [
    {
     "data": {
      "text/plain": [
       "    fjac: array([[-1.]])\n",
       "     fun: array([  1.13686838e-13])\n",
       " message: 'The solution converged.'\n",
       "    nfev: 10\n",
       "     qtf: array([ -8.50082529e-08])\n",
       "       r: array([ 21755.1706625])\n",
       "  status: 1\n",
       " success: True\n",
       "       x: array([ 0.00697928])"
      ]
     },
     "execution_count": 38,
     "metadata": {},
     "output_type": "execute_result"
    }
   ],
   "source": [
    "R = 0.99\n",
    "root(lambda A: finesse(R,A)-370,0)"
   ]
  },
  {
   "cell_type": "code",
   "execution_count": 37,
   "metadata": {
    "collapsed": false
   },
   "outputs": [
    {
     "data": {
      "text/plain": [
       "369.5652173913044"
      ]
     },
     "execution_count": 37,
     "metadata": {},
     "output_type": "execute_result"
    }
   ],
   "source": [
    "8500/23"
   ]
  },
  {
   "cell_type": "code",
   "execution_count": null,
   "metadata": {
    "collapsed": true
   },
   "outputs": [],
   "source": []
  }
 ],
 "metadata": {
  "hide_input": false,
  "kernelspec": {
   "display_name": "Python 3",
   "language": "python",
   "name": "python3"
  },
  "language_info": {
   "codemirror_mode": {
    "name": "ipython",
    "version": 3
   },
   "file_extension": ".py",
   "mimetype": "text/x-python",
   "name": "python",
   "nbconvert_exporter": "python",
   "pygments_lexer": "ipython3",
   "version": "3.5.1"
  },
  "latex_envs": {
   "bibliofile": "biblio.bib",
   "cite_by": "apalike",
   "current_citInitial": 1,
   "eqLabelWithNumbers": true,
   "eqNumInitial": 0
  }
 },
 "nbformat": 4,
 "nbformat_minor": 0
}
