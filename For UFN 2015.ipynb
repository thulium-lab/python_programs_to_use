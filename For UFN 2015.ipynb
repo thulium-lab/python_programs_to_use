{
 "cells": [
  {
   "cell_type": "code",
   "execution_count": 1,
   "metadata": {
    "collapsed": false
   },
   "outputs": [
    {
     "name": "stdout",
     "output_type": "stream",
     "text": [
      "Populating the interactive namespace from numpy and matplotlib\n",
      "Done importing, module image_processing now\n"
     ]
    }
   ],
   "source": [
    "%pylab inline\n",
    "import sys\n",
    "import os\n",
    "par_dir = os.path.split(os.getcwd())[0]\n",
    "if par_dir not in sys.path:\n",
    "    sys.path.append(par_dir)\n",
    "import thulium_python_lib.image_processing_new as impr\n",
    "from scipy.optimize import curve_fit\n",
    "fit_func = impr.gaussian"
   ]
  },
  {
   "cell_type": "code",
   "execution_count": 204,
   "metadata": {
    "collapsed": false
   },
   "outputs": [],
   "source": [
    "a='{{-0.75,129601.},{-0.6,126565.},{-0.45,129106.},{-0.3,126820.},{-0.2,124091.},{-0.15,124814.},{-0.1,117369.},{-0.05,111657.},{0.,114153.},{0.05,118962.},{0.1,122901.},{0.15,125249.},{0.2,127680.},{0.3,130628.},{0.45,129169.},{0.6,133871.},{0.75,132691.}}'"
   ]
  },
  {
   "cell_type": "code",
   "execution_count": 205,
   "metadata": {
    "collapsed": false
   },
   "outputs": [],
   "source": [
    "a = a.replace('{','[')"
   ]
  },
  {
   "cell_type": "code",
   "execution_count": 206,
   "metadata": {
    "collapsed": false
   },
   "outputs": [],
   "source": [
    "a = a.replace('}',']')"
   ]
  },
  {
   "cell_type": "code",
   "execution_count": 207,
   "metadata": {
    "collapsed": false
   },
   "outputs": [
    {
     "data": {
      "text/plain": [
       "'[[-0.75,129601.],[-0.6,126565.],[-0.45,129106.],[-0.3,126820.],[-0.2,124091.],[-0.15,124814.],[-0.1,117369.],[-0.05,111657.],[0.,114153.],[0.05,118962.],[0.1,122901.],[0.15,125249.],[0.2,127680.],[0.3,130628.],[0.45,129169.],[0.6,133871.],[0.75,132691.]]'"
      ]
     },
     "execution_count": 207,
     "metadata": {},
     "output_type": "execute_result"
    }
   ],
   "source": [
    "a"
   ]
  },
  {
   "cell_type": "code",
   "execution_count": 208,
   "metadata": {
    "collapsed": true
   },
   "outputs": [],
   "source": [
    "b = eval(a)"
   ]
  },
  {
   "cell_type": "code",
   "execution_count": 21,
   "metadata": {
    "collapsed": false
   },
   "outputs": [
    {
     "data": {
      "text/plain": [
       "0.8493465599999999"
      ]
     },
     "execution_count": 21,
     "metadata": {},
     "output_type": "execute_result"
    }
   ],
   "source": [
    "0.96**4"
   ]
  },
  {
   "cell_type": "code",
   "execution_count": 209,
   "metadata": {
    "collapsed": false
   },
   "outputs": [
    {
     "data": {
      "text/plain": [
       "[[-0.75, 129601.0],\n",
       " [-0.6, 126565.0],\n",
       " [-0.45, 129106.0],\n",
       " [-0.3, 126820.0],\n",
       " [-0.2, 124091.0],\n",
       " [-0.15, 124814.0],\n",
       " [-0.1, 117369.0],\n",
       " [-0.05, 111657.0],\n",
       " [0.0, 114153.0],\n",
       " [0.05, 118962.0],\n",
       " [0.1, 122901.0],\n",
       " [0.15, 125249.0],\n",
       " [0.2, 127680.0],\n",
       " [0.3, 130628.0],\n",
       " [0.45, 129169.0],\n",
       " [0.6, 133871.0],\n",
       " [0.75, 132691.0]]"
      ]
     },
     "execution_count": 209,
     "metadata": {},
     "output_type": "execute_result"
    }
   ],
   "source": [
    "b"
   ]
  },
  {
   "cell_type": "code",
   "execution_count": 210,
   "metadata": {
    "collapsed": true
   },
   "outputs": [],
   "source": [
    "res[ '24 cl lat=off t=1ms a=15db f=417.65']=array(b)"
   ]
  },
  {
   "cell_type": "code",
   "execution_count": 2,
   "metadata": {
    "collapsed": false
   },
   "outputs": [],
   "source": [
    "res= {'13 cl lat=on a=10db, t=1ms f=417.125': array([[ -7.50000000e-01,   1.47184000e+05],\n",
    "        [ -6.00000000e-01,   1.50399000e+05],\n",
    "        [ -4.50000000e-01,   1.50301000e+05],\n",
    "        [ -3.00000000e-01,   1.33130000e+05],\n",
    "        [ -1.50000000e-01,   1.13698000e+05],\n",
    "        [  0.00000000e+00,   1.10529000e+05],\n",
    "        [  1.50000000e-01,   1.23086000e+05],\n",
    "        [  3.00000000e-01,   1.38822000e+05],\n",
    "        [  4.50000000e-01,   1.50726000e+05],\n",
    "        [  6.00000000e-01,   1.53909000e+05],\n",
    "        [  7.50000000e-01,   1.55667000e+05]]),\n",
    " '23 cl lat=on t=1ms a=15db f=417.125': array([[ -7.50000000e-01,   1.16323000e+05],\n",
    "        [ -6.00000000e-01,   1.11897000e+05],\n",
    "        [ -4.50000000e-01,   1.16149000e+05],\n",
    "        [ -3.00000000e-01,   1.09411000e+05],\n",
    "        [ -2.00000000e-01,   1.02661000e+05],\n",
    "        [ -1.50000000e-01,   9.58392000e+04],\n",
    "        [ -1.00000000e-01,   9.13727000e+04],\n",
    "        [ -5.00000000e-02,   8.86458000e+04],\n",
    "        [  0.00000000e+00,   8.75337000e+04],\n",
    "        [  5.00000000e-02,   9.20273000e+04],\n",
    "        [  1.00000000e-01,   8.96294000e+04],\n",
    "        [  1.50000000e-01,   9.50118000e+04],\n",
    "        [  2.00000000e-01,   1.00146000e+05],\n",
    "        [  3.00000000e-01,   1.05454000e+05],\n",
    "        [  4.50000000e-01,   1.11690000e+05],\n",
    "        [  6.00000000e-01,   1.16027000e+05],\n",
    "        [  7.50000000e-01,   1.15547000e+05]]),\n",
    " '24 cl lat=off t=1ms a=15db f=417.65': array([[ -7.50000000e-01,   1.29601000e+05],\n",
    "        [ -6.00000000e-01,   1.26565000e+05],\n",
    "        [ -4.50000000e-01,   1.29106000e+05],\n",
    "        [ -3.00000000e-01,   1.26820000e+05],\n",
    "        [ -2.00000000e-01,   1.24091000e+05],\n",
    "        [ -1.50000000e-01,   1.24814000e+05],\n",
    "        [ -1.00000000e-01,   1.17369000e+05],\n",
    "        [ -5.00000000e-02,   1.11657000e+05],\n",
    "        [  0.00000000e+00,   1.14153000e+05],\n",
    "        [  5.00000000e-02,   1.18962000e+05],\n",
    "        [  1.00000000e-01,   1.22901000e+05],\n",
    "        [  1.50000000e-01,   1.25249000e+05],\n",
    "        [  2.00000000e-01,   1.27680000e+05],\n",
    "        [  3.00000000e-01,   1.30628000e+05],\n",
    "        [  4.50000000e-01,   1.29169000e+05],\n",
    "        [  6.00000000e-01,   1.33871000e+05],\n",
    "        [  7.50000000e-01,   1.32691000e+05]]),\n",
    " '9 cl lat=on t=20ms a=10db f=417.125': array([[ -7.50000000e-01,   1.49278000e+05],\n",
    "        [ -6.00000000e-01,   1.48046000e+05],\n",
    "        [ -4.50000000e-01,   1.41227000e+05],\n",
    "        [ -3.00000000e-01,   9.55532000e+04],\n",
    "        [ -1.50000000e-01,   4.79713000e+04],\n",
    "        [  0.00000000e+00,   3.75233000e+04],\n",
    "        [  1.50000000e-01,   5.74415000e+04],\n",
    "        [  3.00000000e-01,   9.28019000e+04],\n",
    "        [  4.50000000e-01,   1.22209000e+05],\n",
    "        [  6.00000000e-01,   1.38424000e+05],\n",
    "        [  7.50000000e-01,   1.44867000e+05]])}"
   ]
  },
  {
   "cell_type": "code",
   "execution_count": 212,
   "metadata": {
    "collapsed": true
   },
   "outputs": [],
   "source": [
    "data = dict()"
   ]
  },
  {
   "cell_type": "code",
   "execution_count": 219,
   "metadata": {
    "collapsed": false
   },
   "outputs": [],
   "source": [
    "data= dict()"
   ]
  },
  {
   "cell_type": "code",
   "execution_count": 24,
   "metadata": {
    "collapsed": false
   },
   "outputs": [],
   "source": [
    "data['13 cl lat=on a=10db, t=1ms f=417.125']=data['13 cl a=10db, t=1ms']"
   ]
  },
  {
   "cell_type": "code",
   "execution_count": 44,
   "metadata": {
    "collapsed": false,
    "scrolled": true
   },
   "outputs": [
    {
     "name": "stdout",
     "output_type": "stream",
     "text": [
      "24 cl lat=off t=1ms a=15db f=417.65 [-0.06083852 -0.05621604  0.28003549  0.96889274]\n",
      "23 cl lat=on t=1ms a=15db f=417.125 [-0.21521143  1.07379894  0.52358168  0.98983828]\n"
     ]
    },
    {
     "data": {
      "image/png": "[encoded data removed]",
      "text/plain": [
       "<matplotlib.figure.Figure at 0x9646470>"
      ]
     },
     "metadata": {},
     "output_type": "display_data"
    }
   ],
   "source": [
    "#fig1, ax1 = subplots()\n",
    "cols = ['r^','bo']\n",
    "cols2 = ['r','b']\n",
    "i=0\n",
    "for key, value in data.items():\n",
    "    if key == '9 cl lat=on t=20ms a=10db f=417.125' or key == '13 cl lat=on a=10db, t=1ms f=417.125':\n",
    "        continue\n",
    "    popt_T, pcov_T = curve_fit(fit_func, value[:,0],value[:,1], p0=(-1, 0, 1, 1))\n",
    "    plot(value[:,0],value[:,1] / popt_T[-1],cols[i],label=key)\n",
    "    \n",
    "    plot(linspace(-1.5,3,100),  1 / popt_T[-1] * fit_func(linspace(-1.5,3,100),*popt_T),cols2[i])\n",
    "    print(key, popt_T)\n",
    "    i += 1\n",
    "#legend(loc=3)\n",
    "ylim(bottom=0.6)\n",
    "xlabel('Отстройка частоты лазера 1,14 мкм, МГц',family=\"verdana\")\n",
    "ylabel('Населенность основного состояния',family=\"verdana\")\n",
    "annotate('свободные атомы', xy=(-0.2, 0.85), xytext=(-1,0.7),\n",
    "            arrowprops=dict(arrowstyle=\"->\", color='r'),family=\"verdana\")\n",
    "annotate('оптическая ловушка', xy=(1.5, 0.8), xytext=(1,0.65),\n",
    "            arrowprops=dict(arrowstyle=\"->\", color='b'),family=\"verdana\")\n",
    "#plot(list(zip(*data[key]))[0],list(zip(*data[key]))[1],'g-o')\n",
    "savefig('towPlots.eps')"
   ]
  },
  {
   "cell_type": "code",
   "execution_count": 37,
   "metadata": {
    "collapsed": false
   },
   "outputs": [],
   "source": [
    "ll=0\n",
    "impuls = dict()\n",
    "impuls['blue']= dict()\n",
    "impuls['green'] = dict()\n",
    "impuls['blue']['scheme']=((ll,1),(1,1),(1,0),(1.1,0),(1.1,1),(rr,1))\n",
    "impuls['green + magnetic field']['scheme']=((ll,1),(1.03,1),(1.03,0),(1.1,0),(1.1,1),(rr,1))\n",
    "impuls['clock']['scheme']=((ll,0),(1.03,0),(1.03,0),(1.1,0),(1.1,1),(rr,1))"
   ]
  },
  {
   "cell_type": "code",
   "execution_count": 32,
   "metadata": {
    "collapsed": false
   },
   "outputs": [],
   "source": [
    "rr = 1.2\n",
    "\n",
    "    "
   ]
  },
  {
   "cell_type": "code",
   "execution_count": 53,
   "metadata": {
    "collapsed": false
   },
   "outputs": [
    {
     "name": "stdout",
     "output_type": "stream",
     "text": [
      "0 blue\n",
      "1 green\n"
     ]
    },
    {
     "data": {
      "image/png": "[encoded data removed]",
      "text/plain": [
       "<matplotlib.figure.Figure at 0x95de390>"
      ]
     },
     "metadata": {},
     "output_type": "display_data"
    }
   ],
   "source": [
    "fig, ax = subplots(1,1)\n",
    "for i, key in enumerate(impuls):\n",
    "    print(i, key)\n",
    "    x,y = list(zip(*impuls[key]['scheme']))\n",
    "    ax.plot(x,array(y)+1.1*i)\n",
    "    \n",
    "# fig.subplots_adjust(hspace=0)\n",
    "# setp([a.get_xticklabels() for a in fig.axes[:-1]], visible=False)\n"
   ]
  },
  {
   "cell_type": "code",
   "execution_count": 46,
   "metadata": {
    "collapsed": true
   },
   "outputs": [],
   "source": [
    "setp?"
   ]
  },
  {
   "cell_type": "code",
   "execution_count": 28,
   "metadata": {
    "collapsed": false
   },
   "outputs": [
    {
     "data": {
      "text/plain": [
       "[(0, 1, 1.1), (1, 0, 1)]"
      ]
     },
     "execution_count": 28,
     "metadata": {},
     "output_type": "execute_result"
    }
   ],
   "source": [
    "list(zip(*impuls['blue']['scheme']))"
   ]
  },
  {
   "cell_type": "code",
   "execution_count": 24,
   "metadata": {
    "collapsed": false
   },
   "outputs": [
    {
     "data": {
      "text/plain": [
       "(0.0, 2)"
      ]
     },
     "execution_count": 24,
     "metadata": {},
     "output_type": "execute_result"
    },
    {
     "data": {
      "image/png": "[encoded data removed]",
      "text/plain": [
       "<matplotlib.figure.Figure at 0x9079a20>"
      ]
     },
     "metadata": {},
     "output_type": "display_data"
    }
   ],
   "source": [
    "plot(linspace(0,1,10),[1]*10)\n",
    "plot(linspace(1,2,10),[0.01]*10)\n",
    "ylim(bottom=0.0, top=2)"
   ]
  },
  {
   "cell_type": "code",
   "execution_count": 17,
   "metadata": {
    "collapsed": true
   },
   "outputs": [],
   "source": [
    "plot?"
   ]
  },
  {
   "cell_type": "code",
   "execution_count": 15,
   "metadata": {
    "collapsed": false
   },
   "outputs": [],
   "source": [
    "rc('font',**{'family':'serif'})\n",
    "rc('text', usetex=True)\n",
    "rc('text.latex',unicode=True)\n",
    "rc('text.latex',preamble=r'\\usepackage[utf8]{inputenc}')\n",
    "rc('text.latex',preamble=r'\\usepackage[russian]{babel}')"
   ]
  },
  {
   "cell_type": "code",
   "execution_count": 252,
   "metadata": {
    "collapsed": false
   },
   "outputs": [
    {
     "data": {
      "text/plain": [
       "0.05628498911788115"
      ]
     },
     "execution_count": 252,
     "metadata": {},
     "output_type": "execute_result"
    }
   ],
   "source": [
    "sqrt(0.36*880e7)*1e-6"
   ]
  },
  {
   "cell_type": "code",
   "execution_count": 7,
   "metadata": {
    "collapsed": true
   },
   "outputs": [],
   "source": []
  },
  {
   "cell_type": "code",
   "execution_count": 214,
   "metadata": {
    "collapsed": false
   },
   "outputs": [],
   "source": [
    "key =  '9 cl lat=on t=20ms a=10db f=417.125'"
   ]
  },
  {
   "cell_type": "code",
   "execution_count": 2,
   "metadata": {
    "collapsed": false
   },
   "outputs": [
    {
     "name": "stdout",
     "output_type": "stream",
     "text": [
      "Done importing, module image_processing now\n"
     ]
    }
   ],
   "source": [
    "import sys\n",
    "import os\n",
    "par_dir = os.path.split(os.getcwd())[0]\n",
    "if par_dir not in sys.path:\n",
    "    sys.path.append(par_dir)\n",
    "import thulium_python_lib.image_processing_new as impr\n",
    "from scipy.optimize import curve_fit\n",
    "fit_func = impr.gaussian"
   ]
  },
  {
   "cell_type": "code",
   "execution_count": 233,
   "metadata": {
    "collapsed": false
   },
   "outputs": [
    {
     "name": "stdout",
     "output_type": "stream",
     "text": [
      "Help on function gaussian in module thulium_python_lib.image_processing_new:\n",
      "\n",
      "gaussian(x, N, x0, sigma, background)\n",
      "    Returns value of a 1D-gaussian with the given parameters ,N,x0,sigma, background\n",
      "\n"
     ]
    }
   ],
   "source": [
    "help(impr.gaussian)"
   ]
  },
  {
   "cell_type": "code",
   "execution_count": 259,
   "metadata": {
    "collapsed": false
   },
   "outputs": [],
   "source": [
    "data['13 cl lat=on a=10db, t=1ms f=417.125'][:,0] += 0.1\n"
   ]
  },
  {
   "cell_type": "code",
   "execution_count": 3,
   "metadata": {
    "collapsed": false
   },
   "outputs": [
    {
     "ename": "NameError",
     "evalue": "name 'rr' is not defined",
     "output_type": "error",
     "traceback": [
      "\u001b[1;31m---------------------------------------------------------------------------\u001b[0m",
      "\u001b[1;31mNameError\u001b[0m                                 Traceback (most recent call last)",
      "\u001b[1;32m<ipython-input-3-b1b9a5c5d490>\u001b[0m in \u001b[0;36m<module>\u001b[1;34m()\u001b[0m\n\u001b[0;32m      1\u001b[0m \u001b[0mfit_func\u001b[0m \u001b[1;33m=\u001b[0m \u001b[0mimpr\u001b[0m\u001b[1;33m.\u001b[0m\u001b[0mgaussian\u001b[0m\u001b[1;33m\u001b[0m\u001b[0m\n\u001b[1;32m----> 2\u001b[1;33m \u001b[0mpopt_T\u001b[0m\u001b[1;33m,\u001b[0m \u001b[0mpcov_T\u001b[0m \u001b[1;33m=\u001b[0m \u001b[0mcurve_fit\u001b[0m\u001b[1;33m(\u001b[0m\u001b[0mfit_func\u001b[0m\u001b[1;33m,\u001b[0m \u001b[0mrr\u001b[0m\u001b[1;33m[\u001b[0m\u001b[1;33m:\u001b[0m\u001b[1;33m,\u001b[0m\u001b[1;36m0\u001b[0m\u001b[1;33m]\u001b[0m\u001b[1;33m,\u001b[0m\u001b[0mrr\u001b[0m\u001b[1;33m[\u001b[0m\u001b[1;33m:\u001b[0m\u001b[1;33m,\u001b[0m\u001b[1;36m1\u001b[0m\u001b[1;33m]\u001b[0m\u001b[1;33m,\u001b[0m \u001b[0mp0\u001b[0m\u001b[1;33m=\u001b[0m\u001b[1;33m(\u001b[0m\u001b[1;33m-\u001b[0m\u001b[1;36m1\u001b[0m\u001b[1;33m,\u001b[0m \u001b[1;36m0\u001b[0m\u001b[1;33m,\u001b[0m \u001b[1;36m1\u001b[0m\u001b[1;33m,\u001b[0m \u001b[1;36m1\u001b[0m\u001b[1;33m)\u001b[0m\u001b[1;33m)\u001b[0m\u001b[1;33m\u001b[0m\u001b[0m\n\u001b[0m\u001b[0;32m      3\u001b[0m \u001b[0mplot\u001b[0m\u001b[1;33m(\u001b[0m\u001b[0mlinspace\u001b[0m\u001b[1;33m(\u001b[0m\u001b[1;33m-\u001b[0m\u001b[1;36m1.5\u001b[0m\u001b[1;33m,\u001b[0m\u001b[1;36m3\u001b[0m\u001b[1;33m,\u001b[0m\u001b[1;36m100\u001b[0m\u001b[1;33m)\u001b[0m\u001b[1;33m,\u001b[0m \u001b[0mfit_func\u001b[0m\u001b[1;33m(\u001b[0m\u001b[0mlinspace\u001b[0m\u001b[1;33m(\u001b[0m\u001b[1;33m-\u001b[0m\u001b[1;36m1.5\u001b[0m\u001b[1;33m,\u001b[0m\u001b[1;36m3\u001b[0m\u001b[1;33m,\u001b[0m\u001b[1;36m100\u001b[0m\u001b[1;33m)\u001b[0m\u001b[1;33m,\u001b[0m\u001b[1;33m*\u001b[0m\u001b[0mpopt_T\u001b[0m\u001b[1;33m)\u001b[0m\u001b[1;33m)\u001b[0m\u001b[1;33m\u001b[0m\u001b[0m\n",
      "\u001b[1;31mNameError\u001b[0m: name 'rr' is not defined"
     ]
    }
   ],
   "source": [
    "fit_func = impr.gaussian\n",
    "popt_T, pcov_T = curve_fit(fit_func, rr[:,0],rr[:,1], p0=(-1, 0, 1, 1))\n",
    "plot(linspace(-1.5,3,100), fit_func(linspace(-1.5,3,100),*popt_T))"
   ]
  },
  {
   "cell_type": "code",
   "execution_count": 224,
   "metadata": {
    "collapsed": true
   },
   "outputs": [],
   "source": [
    "for key, value in data.items():\n",
    "    if key != '24 cl lat=off t=1ms a=15db f=417.65':\n",
    "        data[key][:,0] += (417.65 - 417.125)*2"
   ]
  },
  {
   "cell_type": "code",
   "execution_count": 3,
   "metadata": {
    "collapsed": false
   },
   "outputs": [],
   "source": [
    "data = {'13 cl lat=on a=10db, t=1ms f=417.125': array([[-0.45      ,  0.94550547],\n",
    "        [-0.15      ,  0.96615853],\n",
    "        [ 0.15      ,  0.96552898],\n",
    "        [ 0.45      ,  0.85522301],\n",
    "        [ 0.75      ,  0.73039244],\n",
    "        [ 1.05      ,  0.71003488],\n",
    "        [ 1.35      ,  0.79070066],\n",
    "        [ 1.65      ,  0.89178824],\n",
    "        [ 1.95      ,  0.96825917],\n",
    "        [ 2.25      ,  0.98870666],\n",
    "        [ 2.55      ,  1.        ]]),\n",
    " '23 cl lat=on t=1ms a=15db f=417.125': array([[-0.45      ,  1.        ],\n",
    "        [-0.15      ,  0.96195077],\n",
    "        [ 0.15      ,  0.99850417],\n",
    "        [ 0.45      ,  0.94057925],\n",
    "        [ 0.65      ,  0.88255117],\n",
    "        [ 0.75      ,  0.82390585],\n",
    "        [ 0.85      ,  0.78550845],\n",
    "        [ 0.95      ,  0.76206597],\n",
    "        [ 1.05      ,  0.75250552],\n",
    "        [ 1.15      ,  0.79113589],\n",
    "        [ 1.25      ,  0.77052174],\n",
    "        [ 1.35      ,  0.8167929 ],\n",
    "        [ 1.45      ,  0.86093034],\n",
    "        [ 1.65      ,  0.9065619 ],\n",
    "        [ 1.95      ,  0.96017125],\n",
    "        [ 2.25      ,  0.99745536],\n",
    "        [ 2.55      ,  0.99332892]]),\n",
    " '24 cl lat=off t=1ms a=15db f=417.65': array([[-1.5       ,  0.96810362],\n",
    "        [-1.2       ,  0.94542507],\n",
    "        [-0.9       ,  0.96440603],\n",
    "        [-0.6       ,  0.94732989],\n",
    "        [-0.4       ,  0.9269446 ],\n",
    "        [-0.3       ,  0.93234532],\n",
    "        [-0.2       ,  0.87673208],\n",
    "        [-0.1       ,  0.83406414],\n",
    "        [ 0.        ,  0.85270895],\n",
    "        [ 0.1       ,  0.88863159],\n",
    "        [ 0.2       ,  0.91805544],\n",
    "        [ 0.3       ,  0.93559471],\n",
    "        [ 0.4       ,  0.95375399],\n",
    "        [ 0.6       ,  0.97577519],\n",
    "        [ 0.9       ,  0.96487663],\n",
    "        [ 1.2       ,  1.        ],\n",
    "        [ 1.5       ,  0.99118554]]),\n",
    " '9 cl lat=on t=20ms a=10db f=417.125': array([[-0.45      ,  1.        ],\n",
    "        [-0.15      ,  0.99174694],\n",
    "        [ 0.15      ,  0.94606707],\n",
    "        [ 0.45      ,  0.64010236],\n",
    "        [ 0.75      ,  0.32135546],\n",
    "        [ 1.05      ,  0.25136524],\n",
    "        [ 1.35      ,  0.38479548],\n",
    "        [ 1.65      ,  0.62167165],\n",
    "        [ 1.95      ,  0.81866718],\n",
    "        [ 2.25      ,  0.92729002],\n",
    "        [ 2.55      ,  0.9704511 ]])}"
   ]
  },
  {
   "cell_type": "code",
   "execution_count": 177,
   "metadata": {
    "collapsed": true
   },
   "outputs": [],
   "source": [
    "data[key][:,0] += 417.65 - 417.125\n",
    "data[key][:,0] *= 2\n"
   ]
  },
  {
   "cell_type": "code",
   "execution_count": 178,
   "metadata": {
    "collapsed": false
   },
   "outputs": [
    {
     "data": {
      "text/plain": [
       "{'13 cl lat=on a=10db, t=1ms f=417.125': array([[ 0.15      ,  0.94550547],\n",
       "        [ 0.75      ,  0.96615853],\n",
       "        [ 1.35      ,  0.96552898],\n",
       "        [ 1.95      ,  0.85522301],\n",
       "        [ 2.55      ,  0.73039244],\n",
       "        [ 3.15      ,  0.71003488],\n",
       "        [ 3.75      ,  0.79070066],\n",
       "        [ 4.35      ,  0.89178824],\n",
       "        [ 4.95      ,  0.96825917],\n",
       "        [ 5.55      ,  0.98870666],\n",
       "        [ 6.15      ,  1.        ]]),\n",
       " '23 cl lat=on t=1ms a=15db f=417.125': array([[-0.45      ,  1.        ],\n",
       "        [-0.15      ,  0.96195077],\n",
       "        [ 0.15      ,  0.99850417],\n",
       "        [ 0.45      ,  0.94057925],\n",
       "        [ 0.65      ,  0.88255117],\n",
       "        [ 0.75      ,  0.82390585],\n",
       "        [ 0.85      ,  0.78550845],\n",
       "        [ 0.95      ,  0.76206597],\n",
       "        [ 1.05      ,  0.75250552],\n",
       "        [ 1.15      ,  0.79113589],\n",
       "        [ 1.25      ,  0.77052174],\n",
       "        [ 1.35      ,  0.8167929 ],\n",
       "        [ 1.45      ,  0.86093034],\n",
       "        [ 1.65      ,  0.9065619 ],\n",
       "        [ 1.95      ,  0.96017125],\n",
       "        [ 2.25      ,  0.99745536],\n",
       "        [ 2.55      ,  0.99332892]]),\n",
       " '24 cl lat=off t=1ms a=15db f=417.65': array([[-1.36363636,  0.97788245],\n",
       "        [-1.09090909,  0.95497482],\n",
       "        [-0.81818182,  0.97414751],\n",
       "        [-0.54545455,  0.95689888],\n",
       "        [-0.36363636,  0.93630767],\n",
       "        [-0.27272727,  0.94176295],\n",
       "        [-0.18181818,  0.88558796],\n",
       "        [-0.09090909,  0.84248903],\n",
       "        [ 0.        ,  0.86132217],\n",
       "        [ 0.09090909,  0.89760767],\n",
       "        [ 0.18181818,  0.92732873],\n",
       "        [ 0.27272727,  0.94504517],\n",
       "        [ 0.36363636,  0.96338787],\n",
       "        [ 0.54545455,  0.9856315 ],\n",
       "        [ 0.81818182,  0.97462286],\n",
       "        [ 1.09090909,  1.01010101],\n",
       "        [ 1.36363636,  1.00119752]]),\n",
       " '9 cl lat=on t=20ms a=10db f=417.125': array([[-0.45      ,  1.        ],\n",
       "        [-0.15      ,  0.99174694],\n",
       "        [ 0.15      ,  0.94606707],\n",
       "        [ 0.45      ,  0.64010236],\n",
       "        [ 0.75      ,  0.32135546],\n",
       "        [ 1.05      ,  0.25136524],\n",
       "        [ 1.35      ,  0.38479548],\n",
       "        [ 1.65      ,  0.62167165],\n",
       "        [ 1.95      ,  0.81866718],\n",
       "        [ 2.25      ,  0.92729002],\n",
       "        [ 2.55      ,  0.9704511 ]])}"
      ]
     },
     "execution_count": 178,
     "metadata": {},
     "output_type": "execute_result"
    }
   ],
   "source": [
    "data"
   ]
  },
  {
   "cell_type": "code",
   "execution_count": 173,
   "metadata": {
    "collapsed": false
   },
   "outputs": [],
   "source": [
    "c = array(b)"
   ]
  },
  {
   "cell_type": "code",
   "execution_count": 174,
   "metadata": {
    "collapsed": true
   },
   "outputs": [],
   "source": [
    "data['9 cl lat=on t=20ms a=10db f=417.125']=c"
   ]
  },
  {
   "cell_type": "code",
   "execution_count": 2,
   "metadata": {
    "collapsed": false
   },
   "outputs": [
    {
     "data": {
      "text/plain": [
       "3.168"
      ]
     },
     "execution_count": 2,
     "metadata": {},
     "output_type": "execute_result"
    }
   ],
   "source": [
    "0.36 * 880 * 1e7 / 1e9"
   ]
  },
  {
   "cell_type": "code",
   "execution_count": 58,
   "metadata": {
    "collapsed": false
   },
   "outputs": [
    {
     "data": {
      "text/plain": [
       "312.58452228282908"
      ]
     },
     "execution_count": 58,
     "metadata": {},
     "output_type": "execute_result"
    }
   ],
   "source": [
    "r = 0.99\n",
    "pi * sqrt(r) / (1 - r)"
   ]
  },
  {
   "cell_type": "code",
   "execution_count": null,
   "metadata": {
    "collapsed": true
   },
   "outputs": [],
   "source": []
  }
 ],
 "metadata": {
  "hide_input": false,
  "kernelspec": {
   "display_name": "Python 3",
   "language": "python",
   "name": "python3"
  },
  "language_info": {
   "codemirror_mode": {
    "name": "ipython",
    "version": 3
   },
   "file_extension": ".py",
   "mimetype": "text/x-python",
   "name": "python",
   "nbconvert_exporter": "python",
   "pygments_lexer": "ipython3",
   "version": "3.4.3"
  },
  "latex_envs": {
   "bibliofile": "biblio.bib",
   "cite_by": "apalike",
   "current_citInitial": 1,
   "eqLabelWithNumbers": true,
   "eqNumInitial": 0
  }
 },
 "nbformat": 4,
 "nbformat_minor": 0
}
